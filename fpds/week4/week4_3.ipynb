{
 "cells": [
  {
   "cell_type": "markdown",
   "metadata": {},
   "source": [
    "# Loops"
   ]
  },
  {
   "cell_type": "markdown",
   "metadata": {},
   "source": [
    "**Proposition:** Variables are enough to model all imperative programs.\n",
    "\n",
    "But what about control statements like loops?\n",
    "\n",
    "We can model them using functions.\n",
    "\n",
    "Example: Here is a Scala program that uses a `while` loop:\n",
    "\n",
    "```scala\n",
    "def power (x: Double, exp: Int): Double = {\n",
    "var r = 1.0\n",
    "var i = exp\n",
    "while (i > 0) { r = r * x; i = i - 1 }\n",
    "r\n",
    "}\n",
    "```\n",
    "In Scala, `while` is a keyword.\n",
    "\n",
    "But how could we define while using a function (call it `WHILE`)?"
   ]
  },
  {
   "cell_type": "markdown",
   "metadata": {},
   "source": [
    "The function `WHILE` can be defined as follows:\n",
    "\n",
    "```scala\n",
    "def WHILE(condition: => Boolean)(command: => Unit): Unit =\n",
    "if (condition) {\n",
    "command\n",
    "WHILE(condition)(command)\n",
    "}\n",
    "else ()\n",
    "\n",
    "```\n",
    "**Note: The condition and the command must be passed by name so that they’re reevaluated in each iteration.**\n",
    "\n",
    "**Note: WHILE is tail recursive, so it can operate with a constant stack size.**"
   ]
  },
  {
   "cell_type": "markdown",
   "metadata": {},
   "source": [
    "Write a function implementing a repeat loop that is used as follows:\n",
    "\n",
    "```scala\n",
    "REPEAT {\n",
    "command\n",
    "} ( condition )\n",
    "\n",
    "```\n",
    "It should execute command one or more times, until condition is true."
   ]
  },
  {
   "cell_type": "markdown",
   "metadata": {},
   "source": [
    "```scala\n",
    "def REPEAT(command: => Unit)(condition: => Boolean) = {\n",
    "    command\n",
    "    if(condition)\n",
    "    REPEAT(command)(condition)\n",
    "}\n",
    "\n",
    "```"
   ]
  },
  {
   "cell_type": "markdown",
   "metadata": {},
   "source": [
    "The classical for loop in Java can not be modeled simply by a higher-order function.\n",
    "The reason is that in a Java program like\n",
    "```java\n",
    "for (int i = 1; i < 3; i = i + 1) { System.out.print(i + ” ”); }\n",
    "```\n",
    "\n",
    "the arguments of `for` contain the declaration of the variable `i`, which is visible in other arguments and in the body.\n",
    "\n",
    "However, in Scala there is a kind of for loop similar to Java’s extended `for` loop:\n",
    "```scala\n",
    "for (i <- 1 until 3) { System.out.print(i + ” ”) }\n",
    "```\n",
    "This displays 1 2."
   ]
  },
  {
   "cell_type": "markdown",
   "metadata": {},
   "source": [
    "`For-loops` translate similarly to `for`-expressions, but using the `foreach` combinator instead of `map` and `flatMap`.\n",
    "\n",
    "`foreach` is defined on collections with elements of type `T` as follows:\n",
    "\n",
    "```scala\n",
    "def foreach(f: T => Unit): Unit =\n",
    "\n",
    "// apply ‘f‘ to each element of the collection\n",
    "```\n",
    "Example\n",
    "\n",
    "```scala\n",
    "for (i <- 1 until 3; j <- ”abc”) println(i + ” ” + j)\n",
    "```\n",
    "translates to:\n",
    "```scala\n",
    "(1 until 3) foreach (i => ”abc” foreach (j => println(i + ” ” + j)))\n",
    "```"
   ]
  },
  {
   "cell_type": "code",
   "execution_count": null,
   "metadata": {},
   "outputs": [],
   "source": []
  }
 ],
 "metadata": {
  "kernelspec": {
   "display_name": "Scala",
   "language": "scala",
   "name": "scala"
  },
  "language_info": {
   "codemirror_mode": "text/x-scala",
   "file_extension": ".sc",
   "mimetype": "text/x-scala",
   "name": "scala",
   "nbconvert_exporter": "script",
   "version": "2.13.3"
  }
 },
 "nbformat": 4,
 "nbformat_minor": 4
}
