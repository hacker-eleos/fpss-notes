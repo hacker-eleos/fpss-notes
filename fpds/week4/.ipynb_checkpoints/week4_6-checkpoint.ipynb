{
 "cells": [
  {
   "cell_type": "markdown",
   "metadata": {},
   "source": [
    "#  Discrete Event Simulation: Implementation and Test\n",
    "\n",
    "All we have left to do now is to implement the Simulation trait.\n",
    "The idea is to keep in every instance of the Simulation trait an agenda of\n",
    "actions to perform.\n",
    "The agenda is a list of (simulated) events. Each event consists of an\n",
    "action and the time when it must be produced.\n",
    "The agenda list is sorted in such a way that the actions to be performed\n",
    "first are in the beginning."
   ]
  },
  {
   "cell_type": "code",
   "execution_count": null,
   "metadata": {},
   "outputs": [],
   "source": []
  },
  {
   "cell_type": "code",
   "execution_count": 1,
   "metadata": {},
   "outputs": [
    {
     "data": {
      "text/plain": [
       "defined \u001b[32mtrait\u001b[39m \u001b[36mSimulation\u001b[39m"
      ]
     },
     "execution_count": 1,
     "metadata": {},
     "output_type": "execute_result"
    }
   ],
   "source": [
    "trait Simulation {\n",
    "    type Action = () => Unit\n",
    "\n",
    "    case class Event(time: Int, action: Action)\n",
    "\n",
    "    private type Agenda = List[Event]\n",
    "\n",
    "    private var agenda: Agenda = List()\n",
    "    \n",
    "    private var curtime = 0\n",
    "    \n",
    "    def currentTime: Int = curtime\n",
    "\n",
    "    def afterDelay(delay: Int)(block: => Unit): Unit = {\n",
    "\n",
    "        val item = Event(currentTime + delay, () => block)\n",
    "        agenda = insert(agenda, item)\n",
    "    }\n",
    "    \n",
    "    private def insert(ag: List[Event], item: Event): List[Event] = ag match {\n",
    "        case first :: rest if first.time <= item.time =>\n",
    "                first :: insert(rest, item)\n",
    "        case _ =>\n",
    "       item :: ag\n",
    "    }\n",
    "    private def loop(): Unit = agenda match {\n",
    "        case first :: rest =>agenda = rest\n",
    "        curtime = first.time\n",
    "        first.action()\n",
    "        loop()\n",
    "        case Nil =>\n",
    "    }\n",
    "    \n",
    "    def run(): Unit = {\n",
    "        afterDelay(0) {\n",
    "        println(\"*** simulation started, time = \"+currentTime+\" ***\")\n",
    "        }\n",
    "        loop()\n",
    "    }\n",
    "}"
   ]
  },
  {
   "cell_type": "markdown",
   "metadata": {},
   "source": [
    "There is also a private variable, `curtime`, that contains the current simulation time:\n",
    "\n",
    "`private var curtime = 0`\n",
    "It can be accessed with a getter function `currentTime`:\n",
    "```scala\n",
    "def currentTime: Int = curtime\n",
    "```\n",
    "An application of the `afterDelay(delay)(block)` method inserts the task\n",
    "\n",
    "`Event(curtime + delay, () => block)`\n",
    "\n",
    "into the agenda list at the right position.\n",
    "\n",
    "The event handling loop (method `loop`) removes successive elements from the agenda, and performs the associated actions.\n",
    "\n",
    "The `run` method executes the event loop after installing an initial message that signals the start of simulation."
   ]
  },
  {
   "cell_type": "markdown",
   "metadata": {},
   "source": [
    "Before launching the simulation, we still need a way to examine the changes of the signals on the wires.\n",
    "\n",
    "To this end, we define the function `probe`."
   ]
  },
  {
   "cell_type": "markdown",
   "metadata": {},
   "source": [
    "It’s convenient to pack all delay constants into their own trait which can\n",
    "be mixed into a simulation. For instance:"
   ]
  },
  {
   "cell_type": "code",
   "execution_count": 2,
   "metadata": {},
   "outputs": [
    {
     "data": {
      "text/plain": [
       "defined \u001b[32mtrait\u001b[39m \u001b[36mParameters\u001b[39m"
      ]
     },
     "execution_count": 2,
     "metadata": {},
     "output_type": "execute_result"
    }
   ],
   "source": [
    "trait Parameters {\n",
    "def InverterDelay = 2\n",
    "def AndGateDelay = 3\n",
    "def OrGateDelay = 5\n",
    "}"
   ]
  },
  {
   "cell_type": "code",
   "execution_count": 3,
   "metadata": {},
   "outputs": [
    {
     "data": {
      "text/plain": [
       "defined \u001b[32mclass\u001b[39m \u001b[36mGates\u001b[39m"
      ]
     },
     "execution_count": 3,
     "metadata": {},
     "output_type": "execute_result"
    }
   ],
   "source": [
    "abstract class Gates extends Simulation{\n",
    "    def InverterDelay: Int\n",
    "    def AndGateDelay: Int\n",
    "    def OrGateDelay: Int\n",
    "    \n",
    "    class Wire {\n",
    "        type Action = () => Unit\n",
    "        private var sigVal = false\n",
    "        private var actions: List[Action] = Nil\n",
    "        def getSignal: Boolean = sigVal\n",
    "        def setSignal(s: Boolean): Unit =\n",
    "        if (s != sigVal) {\n",
    "            sigVal = s\n",
    "            actions foreach (_())\n",
    "        }\n",
    "        def addAction(a: Action): Unit = {\n",
    "            actions = a :: actions\n",
    "            a()\n",
    "        }\n",
    "    }\n",
    "    \n",
    "    def inverter(input: Wire, output: Wire): Unit = {\n",
    "        def invertAction(): Unit = {\n",
    "            val inputSig = input.getSignal\n",
    "        afterDelay(InverterDelay) { output setSignal !inputSig }\n",
    "        }\n",
    "        input addAction invertAction\n",
    "    }\n",
    "    \n",
    "    def andGate(in1: Wire, in2: Wire, output: Wire): Unit = {\n",
    "        def andAction(): Unit = {\n",
    "            val in1Sig = in1.getSignal\n",
    "            val in2Sig = in2.getSignal\n",
    "            afterDelay(AndGateDelay) { output setSignal (in1Sig & in2Sig) }\n",
    "        }\n",
    "        in1 addAction andAction\n",
    "        in2 addAction andAction\n",
    "    }\n",
    "    \n",
    "    def orGate(in1: Wire, in2: Wire, output: Wire): Unit = {\n",
    "        def orAction(): Unit = {\n",
    "            val in1Sig = in1.getSignal\n",
    "            val in2Sig = in2.getSignal\n",
    "        afterDelay(OrGateDelay) { output setSignal (in1Sig | in2Sig) }\n",
    "        }\n",
    "        in1 addAction orAction\n",
    "        in2 addAction orAction\n",
    "    }\n",
    "    \n",
    "    def probe(name: String, wire: Wire): Unit = {\n",
    "        def probeAction(): Unit = {\n",
    "            println(s\"$name $currentTime value = ${wire.getSignal}\")\n",
    "        }\n",
    "        wire addAction probeAction\n",
    "    }\n",
    "}"
   ]
  },
  {
   "cell_type": "code",
   "execution_count": 4,
   "metadata": {},
   "outputs": [
    {
     "data": {
      "text/plain": [
       "defined \u001b[32mclass\u001b[39m \u001b[36mCircuits\u001b[39m"
      ]
     },
     "execution_count": 4,
     "metadata": {},
     "output_type": "execute_result"
    }
   ],
   "source": [
    "abstract class Circuits extends Gates{\n",
    "    \n",
    "    def halfAdder(a: Wire, b: Wire, s: Wire, c: Wire): Unit = {\n",
    "        val d = new Wire\n",
    "        val e = new Wire\n",
    "        orGate(a, b, d)\n",
    "        andGate(a, b, c)\n",
    "        inverter(c, e)\n",
    "        andGate(d, e, s)\n",
    "    }\n",
    "    \n",
    "    def fullAdder(a: Wire, b: Wire, cin: Wire, sum: Wire, cout: Wire): Unit = {\n",
    "        val s = new Wire\n",
    "        val c1 = new Wire\n",
    "        val c2 = new Wire\n",
    "        halfAdder(b, cin, s, c1)\n",
    "        halfAdder(a, s, sum, c2)\n",
    "        orGate(c1, c2, cout)\n",
    "    }\n",
    "}"
   ]
  },
  {
   "cell_type": "markdown",
   "metadata": {},
   "source": [
    "Now let's run a concrete simulation"
   ]
  },
  {
   "cell_type": "code",
   "execution_count": 5,
   "metadata": {},
   "outputs": [
    {
     "data": {
      "text/plain": [
       "defined \u001b[32mobject\u001b[39m \u001b[36msim\u001b[39m\n",
       "\u001b[32mimport \u001b[39m\u001b[36msim._\u001b[39m"
      ]
     },
     "execution_count": 5,
     "metadata": {},
     "output_type": "execute_result"
    }
   ],
   "source": [
    "object sim extends Circuits with Parameters\n",
    "import sim._"
   ]
  },
  {
   "cell_type": "code",
   "execution_count": 6,
   "metadata": {},
   "outputs": [
    {
     "data": {
      "text/plain": [
       "\u001b[36min1\u001b[39m: \u001b[32mWire\u001b[39m = ammonite.$sess.cmd2$Helper$Gates$Wire@133d8e9\n",
       "\u001b[36min2\u001b[39m: \u001b[32mWire\u001b[39m = ammonite.$sess.cmd2$Helper$Gates$Wire@84a36c\n",
       "\u001b[36msum\u001b[39m: \u001b[32mWire\u001b[39m = ammonite.$sess.cmd2$Helper$Gates$Wire@7d60e8\n",
       "\u001b[36mcarry\u001b[39m: \u001b[32mWire\u001b[39m = ammonite.$sess.cmd2$Helper$Gates$Wire@809a9c"
      ]
     },
     "execution_count": 6,
     "metadata": {},
     "output_type": "execute_result"
    }
   ],
   "source": [
    "val in1, in2, sum, carry = new Wire"
   ]
  },
  {
   "cell_type": "code",
   "execution_count": 7,
   "metadata": {},
   "outputs": [
    {
     "name": "stdout",
     "output_type": "stream",
     "text": [
      "sum 0 value = false\n",
      "carry 0 value = false\n"
     ]
    }
   ],
   "source": [
    "halfAdder(in1, in2, sum, carry)\n",
    "probe(\"sum\", sum)\n",
    "probe(\"carry\", carry)"
   ]
  },
  {
   "cell_type": "code",
   "execution_count": 8,
   "metadata": {},
   "outputs": [],
   "source": [
    "in1 setSignal true\n"
   ]
  },
  {
   "cell_type": "code",
   "execution_count": 9,
   "metadata": {},
   "outputs": [
    {
     "name": "stdout",
     "output_type": "stream",
     "text": [
      "*** simulation started, time = 0 ***\n",
      "sum 8 value = true\n"
     ]
    }
   ],
   "source": [
    "run()"
   ]
  },
  {
   "cell_type": "code",
   "execution_count": 10,
   "metadata": {},
   "outputs": [],
   "source": [
    "in2 setSignal true"
   ]
  },
  {
   "cell_type": "code",
   "execution_count": 11,
   "metadata": {},
   "outputs": [
    {
     "name": "stdout",
     "output_type": "stream",
     "text": [
      "*** simulation started, time = 8 ***\n",
      "carry 11 value = true\n",
      "sum 16 value = false\n"
     ]
    }
   ],
   "source": [
    "run()"
   ]
  },
  {
   "cell_type": "code",
   "execution_count": 12,
   "metadata": {},
   "outputs": [
    {
     "name": "stdout",
     "output_type": "stream",
     "text": [
      "*** simulation started, time = 16 ***\n",
      "carry 19 value = false\n",
      "sum 24 value = true\n"
     ]
    }
   ],
   "source": [
    "in1 setSignal false\n",
    "run()"
   ]
  },
  {
   "cell_type": "markdown",
   "metadata": {},
   "source": [
    "An alternative version of the OR-gate can be defined in terms of AND and INV\n",
    ".\n"
   ]
  },
  {
   "cell_type": "code",
   "execution_count": 13,
   "metadata": {},
   "outputs": [
    {
     "data": {
      "text/plain": [
       "defined \u001b[32mfunction\u001b[39m \u001b[36morGateAlt\u001b[39m"
      ]
     },
     "execution_count": 13,
     "metadata": {},
     "output_type": "execute_result"
    }
   ],
   "source": [
    "def orGateAlt(in1: Wire, in2: Wire, output: Wire): Unit = {\n",
    "val notIn1, notIn2, notOut = new Wire\n",
    "inverter(in1, notIn1); inverter(in2, notIn2)\n",
    "andGate(notIn1, notIn2, notOut)\n",
    "inverter(notOut, output)\n",
    "}"
   ]
  },
  {
   "cell_type": "markdown",
   "metadata": {},
   "source": [
    "**Question:**\n",
    "\n",
    "What would change in the circuit simulation if the implementation of `orGateAlt` was used for OR?"
   ]
  },
  {
   "cell_type": "markdown",
   "metadata": {},
   "source": [
    "State and assignments make our mental model of computation more complicated.\n",
    "\n",
    "In particular, we lose referential transparency.\n",
    "\n",
    "On the other hand, assignments allow us to formulate certain programs in an elegant way.\n",
    "\n",
    "Example: discrete event simulation.\n",
    "\n",
    "* Here, a system is represented by a mutable list of actions.\n",
    "* The effect of actions, when they’re called, change the state of objects and can also install other actions to be executed in the future."
   ]
  }
 ],
 "metadata": {
  "kernelspec": {
   "display_name": "Scala",
   "language": "scala",
   "name": "scala"
  },
  "language_info": {
   "codemirror_mode": "text/x-scala",
   "file_extension": ".sc",
   "mimetype": "text/x-scala",
   "name": "scala",
   "nbconvert_exporter": "script",
   "version": "2.13.3"
  }
 },
 "nbformat": 4,
 "nbformat_minor": 4
}
