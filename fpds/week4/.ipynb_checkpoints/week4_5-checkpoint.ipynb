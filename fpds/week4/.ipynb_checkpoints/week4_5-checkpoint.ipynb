{
 "cells": [
  {
   "cell_type": "markdown",
   "metadata": {},
   "source": [
    "## Discrete Event Simulation: API and Usage\n",
    "The class `Wire` and the functions `inverter`, `andGate`, and `orGate` represent a small description language of digital circuits.\n",
    "\n",
    "We now give the implementation of this class and its functions which allow us to simulate circuits.\n",
    "\n",
    "These implementations are based on a simple API for discrete event simulation."
   ]
  },
  {
   "cell_type": "markdown",
   "metadata": {},
   "source": [
    "A discrete event simulator performs actions, specified by the user at a given moment.\n",
    "\n",
    "An action is a function that doesn’t take any parameters and which returns `Unit`:\n",
    "```scala\n",
    "type Action = () => Unit\n",
    "\n",
    "```\n",
    "`Action` do everything by side effect.\n",
    "\n",
    "The time is simulated; it has nothing to with the actual time."
   ]
  },
  {
   "cell_type": "markdown",
   "metadata": {},
   "source": [
    "A concrete simulation happens inside an object that inherits from the trait\n",
    "Simulation, which has the following signature:\n",
    "\n",
    "```scala\n",
    "trait Simulation {\n",
    "/** The current simulated time */\n",
    "def currentTime: Int = ???\n",
    "/** Registers an action ‘block‘ to perform after a given delay\n",
    "* relative to the current time */\n",
    "def afterDelay(delay: Int)(block: => Unit): Unit = ???\n",
    "/** Performs the simulation until there are no actions waiting */\n",
    "def run(): Unit = ???\n",
    "}\n",
    "```\n",
    "\n",
    "* Here `currentTime` returns current simulated time, after in the form of an integer.\n",
    "* `afterDelay` registers an action to perform after a certain delay (relative to the current delay).\n",
    "* `run` performs the simulation untill there are no more actions waiting."
   ]
  },
  {
   "cell_type": "markdown",
   "metadata": {},
   "source": [
    "`Simulation` trait would be inherited by `Wire`, and `gates`."
   ]
  },
  {
   "cell_type": "markdown",
   "metadata": {},
   "source": [
    "A wire must support three basic operations:\n",
    "\n",
    "`getSignal: Boolean`\n",
    "\n",
    "Returns the current value of the signal transported by the wire.\n",
    "\n",
    "\n",
    "`setSignal(sig: Boolean): Unit`\n",
    "\n",
    "Modifies the value of the signal transported by the wire.\n",
    "\n",
    "\n",
    "`addAction(a: Action): Unit`\n",
    "\n",
    "Attaches the specified procedure to the actions of the wire. All of the attached actions are executed at each change of the transported signal. When the signal of wires, certain things should happen, those actions can be installed using this method."
   ]
  },
  {
   "cell_type": "markdown",
   "metadata": {},
   "source": [
    "Here is an implementation of the class `Wire`:\n",
    "\n",
    "```scala\n",
    "class Wire {\n",
    "private var sigVal = false\n",
    "private var actions: List[Action] = Nil\n",
    "def getSignal: Boolean = sigVal\n",
    "def setSignal(s: Boolean): Unit =\n",
    "if (s != sigVal) {\n",
    "sigVal = s\n",
    "actions foreach (_())\n",
    "}\n",
    "def addAction(a: Action): Unit = {\n",
    "actions = a :: actions\n",
    "a()\n",
    "}\n",
    "}\n",
    "```\n",
    "`sigVal` represents value of current signal in wire. `actions` are list of actions to be performed when signal is changed. `setSignal` would check for change in `sigVal`, if there is change, then it would go through each of the actions and trigger them."
   ]
  },
  {
   "cell_type": "markdown",
   "metadata": {},
   "source": [
    "The state of a wire is modeled by two private variables:\n",
    "\n",
    "`sigVal` represents the current value of the signal.\n",
    "\n",
    "`actions` represents the actions currently attached to the wire."
   ]
  },
  {
   "cell_type": "markdown",
   "metadata": {},
   "source": [
    "We implement the inverter by installing an action on its input wire. This action produces the inverse of the input signal on the output wire. The change must be effective after a delay of `InverterDelay` units of simulated time.\n",
    "\n",
    "We thus obtain the following implementation:\n",
    "\n",
    "```scala\n",
    "def inverter(input: Wire, output: Wire): Unit = {\n",
    "def invertAction(): Unit = {\n",
    "val inputSig = input.getSignal\n",
    "afterDelay(InverterDelay) { output setSignal !inputSig }\n",
    "}\n",
    "input addAction invertAction\n",
    "}\n",
    "```\n",
    "\n",
    "`input` will perform the action `invertAction` everytime it's input changes."
   ]
  },
  {
   "cell_type": "markdown",
   "metadata": {},
   "source": [
    "The AND gate is implemented in a similar way.\n",
    "The action of an AND gate produces the conjunction of input signals on\n",
    "the output wire.\n",
    "This happens after a delay of AndGateDelay units of simulated time.\n",
    "We thus obtain the following implementation:\n",
    "\n",
    "```scala\n",
    "def andGate(in1: Wire, in2: Wire, output: Wire): Unit = {\n",
    "def andAction(): Unit = {\n",
    "val in1Sig = in1.getSignal\n",
    "val in2Sig = in2.getSignal\n",
    "afterDelay(AndGateDelay) { output setSignal (in1Sig & in2Sig) }\n",
    "}\n",
    "in1 addAction andAction\n",
    "in2 addAction andAction\n",
    "}\n",
    "\n",
    "```\n",
    "When any of the `in1` and `in2` changes, `andAction` is triggered."
   ]
  },
  {
   "cell_type": "markdown",
   "metadata": {},
   "source": [
    "The OR gate is implemented analogously to the AND gate.\n",
    "\n",
    "```scala\n",
    "def orGate(in1: Wire, in2: Wire, output: Wire): Unit = {\n",
    "def orAction(): Unit = {\n",
    "val in1Sig = in1.getSignal\n",
    "val in2Sig = in2.getSignal\n",
    "afterDelay(OrGateDelay) { output setSignal (in1Sig | in2Sig) }\n",
    "}\n",
    "in1 addAction orAction\n",
    "in2 addAction orAction\n",
    "}\n",
    "```"
   ]
  },
  {
   "cell_type": "markdown",
   "metadata": {},
   "source": [
    "What happens if we compute `in1Sig` and `in2Sig` inline inside `afterDelay`\n",
    "instead of computing them as values?\n",
    "\n",
    "```scala\n",
    "def orGate2(in1: Wire, in2: Wire, output: Wire): Unit = {\n",
    "def orAction(): Unit = {\n",
    "afterDelay(OrGateDelay) {\n",
    "output setSignal (in1.getSignal | in2.getSignal) }\n",
    "}\n",
    "in1 addAction orAction\n",
    "in2 addAction orAction\n",
    "}\n",
    "```\n",
    "In the original `orGate` we would sample first and wait for delay time units and set output afterwards. Obviously, when we sample after the delay, it is not the same as original one. So it doesn't represent `orGate` faithfully."
   ]
  },
  {
   "cell_type": "code",
   "execution_count": null,
   "metadata": {},
   "outputs": [],
   "source": []
  }
 ],
 "metadata": {
  "kernelspec": {
   "display_name": "Scala",
   "language": "scala",
   "name": "scala"
  },
  "language_info": {
   "codemirror_mode": "text/x-scala",
   "file_extension": ".sc",
   "mimetype": "text/x-scala",
   "name": "scala",
   "nbconvert_exporter": "script",
   "version": "2.13.3"
  }
 },
 "nbformat": 4,
 "nbformat_minor": 4
}
