{
 "cells": [
  {
   "cell_type": "markdown",
   "metadata": {},
   "source": [
    "# Type Classes\n",
    "In the previous lectures we have seen a particular pattern of code combining parameterized types and implicits. We have defined a parameterized type `Ordering[A]`, implicit instances of that type for concrete types `A`, and implicit parameters of type `Ordering[A]`:"
   ]
  },
  {
   "cell_type": "markdown",
   "metadata": {},
   "source": [
    "```scala\n",
    "trait Ordering[A] {\n",
    "  def compare(a1: A, a2: A): Int\n",
    "}\n",
    "\n",
    "object Ordering {\n",
    "  implicit val Int: Ordering[Int] =\n",
    "    new Ordering[Int] {\n",
    "      def compare(x: Int, y: Int) = if (x < y) -1 else if (x > y) 1 else 0\n",
    "    }\n",
    "  implicit val String: Ordering[String] =\n",
    "    new Ordering[String] {\n",
    "      def compare(s: String, t: String) = s.compareTo(t)\n",
    "  }\n",
    "}\n",
    "\n",
    "def sort[A: Ordering](xs: List[A]): List[A] = ...\n",
    "```"
   ]
  },
  {
   "cell_type": "markdown",
   "metadata": {},
   "source": [
    "We say that Ordering is a type class.\n",
    "\n",
    "Type classes provide yet another form of polymorphism. The method sort can be called with lists containing elements of any type A for which there is an implicit value of type `Ordering[A]`. Type classes are a powerful feature of Scala that allow us to extend existing libraries with new func􀦞onality, without using inheritance and without having\n",
    "access to the original library source code.\n",
    "\n",
    "At compile-time, the compiler resolves the specific Ordering implementation that matches the type of the list elements."
   ]
  },
  {
   "cell_type": "markdown",
   "metadata": {},
   "source": [
    "A simple example of a type class is the `Ordering` trait. For a type `A`, an\n",
    "`Ordering[A]` defines a comparison method compare that compares two instances\n",
    "of `A` by some ordering. To construct an `Ordering` we can use the\n",
    "convenience method `fromLessThan` defined on the companion object.\n",
    "Imagine we want to sort a `List` of `Int`s. There are many different ways to sort\n",
    "such a list. For example, we could sort from highest to lowest, or we could sort\n",
    "from lowest to highest. There is a method `sorted` on List that will sort a list,\n",
    "but to use it we must pass in an `Orderin`g to give the particular ordering we want.\n",
    "Let’s define some Orderings and see them in action."
   ]
  },
  {
   "cell_type": "code",
   "execution_count": 9,
   "metadata": {},
   "outputs": [
    {
     "data": {
      "text/plain": [
       "import scala.math.Ordering\r\n",
       "import scala.util.Random\r\n",
       "minOrdering: scala.math.Ordering[Int] = scala.math.Ordering$$anon$6@17dba93\r\n",
       "maxOrdering: scala.math.Ordering[Int] = scala.math.Ordering$$anon$6@1fe986b\r\n",
       "p: Seq[Int] = List(575986169, 868806559, 493526361, -1103739054)\r\n",
       "res0: Seq[Int] = List(-1103739054, 493526361, 575986169, 868806559)\r\n"
      ]
     },
     "execution_count": 9,
     "metadata": {},
     "output_type": "execute_result"
    }
   ],
   "source": [
    "import scala.math.Ordering\n",
    "import scala.util.Random\n",
    "val minOrdering = Ordering.fromLessThan[Int](_ < _)\n",
    "val maxOrdering = Ordering.fromLessThan[Int](_ > _)\n",
    "val p = Seq.fill(4)(Random.nextInt)\n",
    "p.sorted(minOrdering)\n"
   ]
  },
  {
   "cell_type": "markdown",
   "metadata": {},
   "source": [
    "The type class pattern separates the implementation of functionality (the type\n",
    "class instance, an `Ordering[A]` in our example) from the type the functionality\n",
    "is provided for (the `A` in an `Ordering[A]`). This is the basic pattern for type\n",
    "classes. Everything else we will see just provides extra convenience."
   ]
  },
  {
   "cell_type": "markdown",
   "metadata": {},
   "source": [
    "## Retroactive Extension\n",
    "Type classes let us add new features to data types without changing the original definition of these data types. For instance, consider the following Rational type, modeling a rational number:"
   ]
  },
  {
   "cell_type": "code",
   "execution_count": 2,
   "metadata": {},
   "outputs": [
    {
     "data": {
      "text/plain": [
       "defined class Rational\r\n"
      ]
     },
     "execution_count": 2,
     "metadata": {},
     "output_type": "execute_result"
    }
   ],
   "source": [
    "/** A rational number\n",
    "  * @param num   Numerator\n",
    "  * @param denom Denominator\n",
    "  */\n",
    "case class Rational(num: Int, denom: Int)"
   ]
  },
  {
   "cell_type": "markdown",
   "metadata": {},
   "source": [
    "We can add the capability \"to be compared\" to the type `Rational` by defining an implicit instance of type `Ordering[Rational]`"
   ]
  },
  {
   "cell_type": "code",
   "execution_count": 3,
   "metadata": {},
   "outputs": [
    {
     "data": {
      "text/plain": [
       "defined object RationalOrdering\r\n"
      ]
     },
     "execution_count": 3,
     "metadata": {},
     "output_type": "execute_result"
    }
   ],
   "source": [
    "object RationalOrdering {\n",
    "  implicit val orderingRational: Ordering[Rational] =\n",
    "    new Ordering[Rational] {\n",
    "      def compare(q: Rational, r: Rational): Int =\n",
    "        q.num * r.denom - r.num * q.denom\n",
    "    }\n",
    "}"
   ]
  },
  {
   "cell_type": "markdown",
   "metadata": {},
   "source": [
    "## Summary\n",
    "In this lesson we have identified a new programming pattern: type classes.\n",
    "\n",
    "Type classes provide a form of polymorphism: they can be used to implement algorithms that can be applied to various types. The compiler selects the type class implementation for a specific type at compile-time.\n",
    "\n",
    "A type class definition is a trait that takes type parameters and defines operations that apply to these types. Generally, a type class definition is accompanied by laws, checking that implementations of their operations are correct."
   ]
  }
 ],
 "metadata": {
  "kernelspec": {
   "display_name": "spylon-kernel",
   "language": "scala",
   "name": "spylon-kernel"
  },
  "language_info": {
   "codemirror_mode": "text/x-scala",
   "file_extension": ".scala",
   "help_links": [
    {
     "text": "MetaKernel Magics",
     "url": "https://metakernel.readthedocs.io/en/latest/source/README.html"
    }
   ],
   "mimetype": "text/x-scala",
   "name": "scala",
   "pygments_lexer": "scala",
   "version": "0.4.1"
  }
 },
 "nbformat": 4,
 "nbformat_minor": 4
}
