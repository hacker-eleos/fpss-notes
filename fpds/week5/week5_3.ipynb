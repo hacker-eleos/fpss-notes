{
 "cells": [
  {
   "cell_type": "markdown",
   "metadata": {},
   "source": [
    "# A Simple FRP Implementation\n",
    "In the last section, we have seen how to use a very simple API of signals and vars for functional reactive programming. In this unit, we are going to take a look under the covers and see how that simple API could be implemented.\n",
    "\n",
    "We now develop a simple implementation of Signals and Vars, which\n",
    "together make up the basis of our approach to functional reactive\n",
    "programming."
   ]
  },
  {
   "cell_type": "markdown",
   "metadata": {},
   "source": [
    "## The Signal API"
   ]
  },
  {
   "cell_type": "code",
   "execution_count": 9,
   "metadata": {},
   "outputs": [
    {
     "data": {
      "text/plain": [
       "defined \u001b[32mclass\u001b[39m \u001b[36mSignal\u001b[39m\n",
       "defined \u001b[32mobject\u001b[39m \u001b[36mSignal\u001b[39m"
      ]
     },
     "execution_count": 9,
     "metadata": {},
     "output_type": "execute_result"
    }
   ],
   "source": [
    "class Signal[T](expr: => T) {\n",
    "def apply(): T = ???\n",
    "}\n",
    "object Signal {\n",
    "def apply[T](expr: => T) = new Signal(expr)\n",
    "}"
   ]
  },
  {
   "cell_type": "markdown",
   "metadata": {},
   "source": [
    "## The Var API"
   ]
  },
  {
   "cell_type": "code",
   "execution_count": 10,
   "metadata": {},
   "outputs": [
    {
     "data": {
      "text/plain": [
       "defined \u001b[32mclass\u001b[39m \u001b[36mVar\u001b[39m\n",
       "defined \u001b[32mobject\u001b[39m \u001b[36mVar\u001b[39m"
      ]
     },
     "execution_count": 10,
     "metadata": {},
     "output_type": "execute_result"
    }
   ],
   "source": [
    "class Var[T](expr: => T) extends Signal[T](expr) {\n",
    "def update(expr: => T): Unit = ???\n",
    "}\n",
    "object Var {\n",
    "def apply[T](expr: => T) = new Var(expr)\n",
    "}"
   ]
  },
  {
   "cell_type": "markdown",
   "metadata": {},
   "source": [
    "Implementation Idea:\n",
    "\n",
    "Each signal maintains\n",
    "* its current value,\n",
    "* the current expression that defines the signal value,\n",
    "* a set of observers: the other signals that depend on its value.\n",
    "\n",
    "Then, if the signal changes, all observers need to be re-evaluated."
   ]
  },
  {
   "cell_type": "markdown",
   "metadata": {},
   "source": [
    "How do we record dependencies in observers?\n",
    "\n",
    "* When evaluating a signal-valued expression, need to know which signal caller gets defined or updated by the expression.\n",
    "* If we know that, then executing a `sig()` means adding caller to the observers of sig.\n",
    "* When signal sig’s value changes, all previously observing signals are re-evaluated and the set `sig.observers` is cleared.\n",
    "* Re-evaluation will re-enter a calling signal caller in `sig.observers`, as long as caller’s value still depends on `sig`.\n",
    "\n",
    "How do we find out on whose behalf a signal expression is evaluated?\n",
    "\n",
    "One simple (simplistic?) way to do this is to maintain a global data\n",
    "structure referring to the current caller. (We will discuss and refine this\n",
    "later).\n",
    "\n",
    "That data structure is accessed in a stack-like fashion because one\n",
    "evaluation of a signal might trigger others."
   ]
  },
  {
   "cell_type": "markdown",
   "metadata": {},
   "source": [
    "Here’s a class for stackable variables:"
   ]
  },
  {
   "cell_type": "code",
   "execution_count": 4,
   "metadata": {},
   "outputs": [
    {
     "data": {
      "text/plain": [
       "defined \u001b[32mclass\u001b[39m \u001b[36mStackableVariable\u001b[39m"
      ]
     },
     "execution_count": 4,
     "metadata": {},
     "output_type": "execute_result"
    }
   ],
   "source": [
    "class StackableVariable[T](init: T) {\n",
    "private var values: List[T] = List(init)\n",
    "def value: T = values.head\n",
    "def withValue[R](newValue: T)(op: => R): R = {\n",
    "values = newValue :: values\n",
    "try op finally values = values.tail\n",
    "}\n",
    "}"
   ]
  },
  {
   "cell_type": "markdown",
   "metadata": {},
   "source": [
    "You access it like this\n",
    "```scala\n",
    "\n",
    "val caller = new StackableVar(initialSig)\n",
    "caller.withValue(otherSig) { ... }\n",
    "... caller.value ...\n",
    "```"
   ]
  },
  {
   "cell_type": "markdown",
   "metadata": {},
   "source": [
    "We also evaluate signal expressions at the top-level when there is no other\n",
    "signal that’s defined or updated.\n",
    "We use the “sentinel” \n",
    "object `NoSignal` as the caller for these expressions.\n",
    "\n",
    "\n",
    "Together:\n",
    "```scala\n",
    "object NoSignal extends Signal[Nothing](???) { ... }\n",
    "object Signal {\n",
    "val caller = new StackableVariable[Signal[_]](NoSignal)\n",
    "def apply[T](expr: => T) = new Signal(expr)\n",
    "}\n",
    "```"
   ]
  },
  {
   "cell_type": "code",
   "execution_count": 11,
   "metadata": {},
   "outputs": [
    {
     "data": {
      "text/plain": [
       "defined \u001b[32mobject\u001b[39m \u001b[36mNoSignal\u001b[39m\n",
       "defined \u001b[32mobject\u001b[39m \u001b[36mSignal\u001b[39m"
      ]
     },
     "execution_count": 11,
     "metadata": {},
     "output_type": "execute_result"
    }
   ],
   "source": [
    "object NoSignal extends Signal[Nothing](???)\n",
    "object Signal {\n",
    "val caller = new StackableVariable[Signal[_]](NoSignal)\n",
    "def apply[T](expr: => T) = new Signal(expr)\n",
    "}"
   ]
  },
  {
   "cell_type": "code",
   "execution_count": 0,
   "metadata": {},
   "outputs": [
    {
     "name": "stderr",
     "output_type": "stream",
     "text": [
      "cmd0.sc:2: not found: value Signal\n",
      "import Signal._\n",
      "       ^cmd0.sc:15: value += is not a member of Set[Helper.this.Signal[_]]\n",
      "  Expression does not convert to assignment because:\n",
      "    not found: value caller\n",
      "    expansion: Signal.this.observers = Signal.this.observers.+(<caller: error>.<value: error>)\n",
      "observers += caller.value\n",
      "          ^cmd0.sc:16: not found: value caller\n",
      "assert(!caller.value.observers.contains(this), \"cyclic signal definition\")\n",
      "        ^cmd0.sc:12: not found: value caller\n",
      "myValue = caller.withValue(this)(myExpr())\n",
      "          ^Compilation Failed"
     ]
    },
    {
     "ename": "",
     "evalue": "",
     "output_type": "error",
     "traceback": [
      "Compilation Failed"
     ]
    }
   ],
   "source": [
    "class Signal[T](expr: => T) {\n",
    "import Signal._\n",
    "private var myExpr: () => T = _\n",
    "private var myValue: T = _\n",
    "private var observers: Set[Signal[_]] = Set()\n",
    "update(expr)\n",
    "protected def update(expr: => T): Unit = {\n",
    "myExpr = () => expr\n",
    "computeValue()\n",
    "}\n",
    "protected def computeValue(): Unit = {\n",
    "myValue = caller.withValue(this)(myExpr())\n",
    "}\n",
    "def apply() = {\n",
    "observers += caller.value\n",
    "assert(!caller.value.observers.contains(this), \"cyclic signal definition\")\n",
    "myValue\n",
    "}\n",
    "}"
   ]
  },
  {
   "cell_type": "code",
   "execution_count": 8,
   "metadata": {},
   "outputs": [],
   "source": []
  },
  {
   "cell_type": "code",
   "execution_count": null,
   "metadata": {},
   "outputs": [],
   "source": []
  }
 ],
 "metadata": {
  "kernelspec": {
   "display_name": "Scala",
   "language": "scala",
   "name": "scala"
  },
  "language_info": {
   "codemirror_mode": "text/x-scala",
   "file_extension": ".sc",
   "mimetype": "text/x-scala",
   "name": "scala",
   "nbconvert_exporter": "script",
   "version": "2.13.3"
  }
 },
 "nbformat": 4,
 "nbformat_minor": 4
}
