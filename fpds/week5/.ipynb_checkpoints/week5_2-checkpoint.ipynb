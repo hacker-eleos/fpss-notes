{
 "cells": [
  {
   "cell_type": "markdown",
   "metadata": {},
   "source": [
    "# Functional Reactive Programming\n",
    "\n",
    "In functional view, we can take sequence of events and aggregate into a signal.\n",
    "Imperative reactive programming is about reacting to sequences of events that happen in time.\n",
    "\n",
    "**Functional view:** Aggregate an event sequence into a signal.\n",
    "* A signal is a value that changes over time.\n",
    "* It is represented as a function from time to the value domain.\n",
    "* Instead of propagating updates to mutable state, we define new\n",
    "signals in terms of existing ones."
   ]
  },
  {
   "cell_type": "markdown",
   "metadata": {},
   "source": [
    "**Event-based view:**\n",
    "\n",
    "Whenever the mouse moves, an event\n",
    "```scala\n",
    "MouseMoved(toPos: Position)\n",
    "```\n",
    "is fired.\n",
    "\n",
    "**FRP view:**\n",
    "\n",
    "A signal, \n",
    "```scala\n",
    "mousePosition: Signal[Position] \n",
    "```\n",
    "which at any point in time represents the current mouse position.\n",
    "\n",
    "In event-based view whenever mouse moved then application gets `MouseMoved` events get fired and it's position is updated. All of the updates are imperative.\n",
    "\n",
    "In functional point of view, the core idea is that I define a signal, call it also `mousePosition`, which is now a signal of position, which at any point in time represents the current mouse position. So, it's a function from the domain of time values to positions.\n",
    "\n",
    "Functional Reactive Programming started in 1997 with the paper *Functional Reactive Animation by Conal Elliot and Paul Hudak, and Conal* also wrote a, a language called Fran, which was implemented as an embedded library in Haskell.\n",
    "\n",
    "There have been many FRP systems since, both standalone languages and embedded libraries.\n",
    "\n",
    "Some examples are: Flapjax, Elm, Bacon.js, React4J.\n",
    "\n",
    "Event streaming dataflow programming systems such as Rx (which we will see in two weeks), are related but the term FRP is not commonly used for them.\n",
    "We will introduce FRP by means of of a minimal class, `frp.Signal` whose implementation is explained at the end of this module.\n",
    "`frp.Signal` is modelled after `Scala.react`, which is described in the paper *Deprecating the Observer Pattern.*"
   ]
  },
  {
   "cell_type": "markdown",
   "metadata": {},
   "source": [
    "## Fundamental Signal Operations\n",
    "\n",
    "There are two fundamental operations over signals:\n",
    "\n",
    "1. Obtain the value of the signal at the current time.\n",
    "\n",
    "In our library this is expressed by `()` application.\n",
    "```scala\n",
    "mousePosition() // the current mouse position\n",
    "```\n",
    "2. Define a signal in terms of other signals.\n",
    "\n",
    "In our library, this is expressed by the Signal constructor.\n",
    "```scala\n",
    "def inReactangle(LL: Position, UR: Position): Signal[Boolean] =\n",
    "Signal {\n",
    "val pos = mousePosition()\n",
    "LL <= pos && pos <= UR\n",
    "}\n",
    "```\n",
    "3. Constant Signal\n",
    "\n",
    "The `Signal(...)` syntax can also be used to define a signal that has always the same value:\n",
    "```scala\n",
    "val sig = Signal(3)\n",
    "```\n",
    "\n",
    "## Variable Signals\n",
    "* Values of type Signal are immutable.\n",
    "\n",
    "* But our library also defines a subclass Var of Signal for signals that can be changed.\n",
    "\n",
    "* `Var` class provides an `update` operation, which allows to redefine the value of a signal from the current time on.\n",
    "\n",
    "```scala\n",
    "val sig = Var(3)\n",
    "sig.update(5)\n",
    "```\n",
    "\n",
    "In Scala, calls to update can be written as assignments.\n",
    "\n",
    "For instance, for an array `arr`\n",
    "```scala\n",
    "arr(i) = 0\n",
    "\n",
    "```\n",
    "is translated to\n",
    "```scala\n",
    "arr.update(i, 0)\n",
    "```\n",
    "which calls an update method which can be thought of as follows:\n",
    "```\n",
    "class Array[T] {\n",
    "def update(idx: Int, value: T): Unit\n",
    "...\n",
    "}\n",
    "```\n",
    "\n",
    "Generally, an indexed assignment like $f(E1, ..., En) = E$ is translated to $f.update(E1, ..., En, E)$.\n",
    "This works also if $n = 0$: $f() = E$ is shorthand for $f.update(E).$\n",
    "Hence,\n",
    "```scala\n",
    "sig.update(5)\n",
    "```\n",
    "can be abbreviated to\n",
    "\n",
    "```scala\n",
    "sig() = 5\n",
    "```"
   ]
  },
  {
   "cell_type": "markdown",
   "metadata": {},
   "source": [
    "Signals of type Var look a bit like mutable variables, where\n",
    "```scala\n",
    "sig()\n",
    "```\n",
    "is dereferencing, and\n",
    "```scala\n",
    "sig() = newValue\n",
    "```\n",
    "is update.\n",
    "\n",
    "But there’s a crucial difference:\n",
    "\n",
    "We can map over signals, which gives us a relation between two signals that is maintained automatically, at all future points in time.\n",
    "No such mechanism exists for mutable variables; we have to propagate all updates manually"
   ]
  },
  {
   "cell_type": "markdown",
   "metadata": {},
   "source": [
    "## Example\n",
    "\n",
    "Repeat the `BankAccount` example of last section with signals.\n",
    "\n",
    "Add a signal `balance` to BankAccounts.\n",
    "\n",
    "Define a function consolidated which produces the sum of all balances of a given list of accounts.\n",
    "\n",
    "What savings were possible compared to the `publish/subscribe` implementation?"
   ]
  },
  {
   "cell_type": "code",
   "execution_count": 1,
   "metadata": {},
   "outputs": [
    {
     "ename": "<console>",
     "evalue": "24: error: not found: value rx\r",
     "output_type": "error",
     "traceback": [
      "<console>:24: error: not found: value rx\r",
      "       import rx._\r",
      "              ^\r",
      ""
     ]
    }
   ],
   "source": [
    "import rx._"
   ]
  },
  {
   "cell_type": "code",
   "execution_count": null,
   "metadata": {},
   "outputs": [],
   "source": [
    "class BankAccount{\n",
    "    val balance = Var(0)\n",
    "}"
   ]
  }
 ],
 "metadata": {
  "kernelspec": {
   "display_name": "spylon-kernel",
   "language": "scala",
   "name": "spylon-kernel"
  },
  "language_info": {
   "codemirror_mode": "text/x-scala",
   "file_extension": ".scala",
   "help_links": [
    {
     "text": "MetaKernel Magics",
     "url": "https://metakernel.readthedocs.io/en/latest/source/README.html"
    }
   ],
   "mimetype": "text/x-scala",
   "name": "scala",
   "pygments_lexer": "scala",
   "version": "0.4.1"
  }
 },
 "nbformat": 4,
 "nbformat_minor": 4
}
