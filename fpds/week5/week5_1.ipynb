{
 "cells": [
  {
   "cell_type": "markdown",
   "metadata": {},
   "source": [
    "# Imperative Event Handling: The Observer Pattern\n"
   ]
  },
  {
   "cell_type": "markdown",
   "metadata": {},
   "source": [
    "We are going to look at traditional ways to handle event handling. The traditional way to deal with user interface is with observer pattern. We are going to look at different way to treat events in these programs functional reactive programming where events are essentially summarized as signals."
   ]
  },
  {
   "cell_type": "markdown",
   "metadata": {},
   "source": [
    "The Observer Pattern is widely used when views need to react to changes in a model.\n",
    "Some variants are also called \n",
    "* publish/subscribe  \n",
    "* model/view/controller (MVC)\n",
    "\n",
    "The idea is we have some sort of model, which captures the state of an appplication. We might have one or more views that present the state. Views can announce themselves to the model with a method called subscribe. The model will then change publish the fact new information is available. Views can enquire the model and change it's presentation. There could be multiple views subscribed to the same model. \n",
    "\n",
    "Here is a trait for publisher."
   ]
  },
  {
   "cell_type": "code",
   "execution_count": 1,
   "metadata": {},
   "outputs": [
    {
     "data": {
      "text/plain": [
       "defined \u001b[32mtrait\u001b[39m \u001b[36mPublisher\u001b[39m\n",
       "defined \u001b[32mtrait\u001b[39m \u001b[36mSubscriber\u001b[39m"
      ]
     },
     "execution_count": 1,
     "metadata": {},
     "output_type": "execute_result"
    }
   ],
   "source": [
    "trait Publisher {\n",
    "private var subscribers: Set[Subscriber] = Set()\n",
    "def subscribe(subscriber: Subscriber): Unit =\n",
    "subscribers += subscriber\n",
    "def unsubscribe(subscriber: Subscriber): Unit =\n",
    "subscribers -= subscriber\n",
    "def publish(): Unit =\n",
    "subscribers.foreach(_.handler(this))\n",
    "}\n",
    "trait Subscriber {\n",
    "def handler(pub: Publisher)\n",
    "    \n",
    "}"
   ]
  },
  {
   "cell_type": "markdown",
   "metadata": {},
   "source": [
    "Publishers maintain internally a set of subscribers. You can add a new subsriber to the publisher using method `subscribe`, which announces the publisher. The dual of `subscribe` is `unsubscribe`. Anothe method `publish`, it would go through all subscribers and invokes `handler` method.\n",
    "\n",
    "Subscriber need to have only `handler` method. We pass the publisher that publish new information as parameter.\n",
    "\n",
    "Let’s make BankAccount a Publisher:"
   ]
  },
  {
   "cell_type": "code",
   "execution_count": 2,
   "metadata": {},
   "outputs": [
    {
     "data": {
      "text/plain": [
       "defined \u001b[32mclass\u001b[39m \u001b[36mBankAccount\u001b[39m"
      ]
     },
     "execution_count": 2,
     "metadata": {},
     "output_type": "execute_result"
    }
   ],
   "source": [
    "class BankAccount extends Publisher {\n",
    "  //we publish everytime we change the state of the bank account\n",
    "  private var balance = 0\n",
    "  \n",
    "  //accessor method\n",
    "  def currentBalance = balance       \n",
    "  \n",
    "  def deposit(amount: Int): Unit = {\n",
    "    if (amount > 0) balance = balance + amount\n",
    "    publish()            // <--\n",
    "  }\n",
    "  \n",
    "  def withdraw(amount: Int): Unit = {\n",
    "    if (0 < amount && amount <= balance) {\n",
    "      balance = balance - amount\n",
    "      publish()          // <--\n",
    "    } else throw new Error(\"insufficient funds\")\n",
    "  }\n",
    "\n",
    "}\n"
   ]
  },
  {
   "cell_type": "markdown",
   "metadata": {},
   "source": [
    "A Subscriber to maintain the total balance of a list of accounts:"
   ]
  },
  {
   "cell_type": "code",
   "execution_count": 3,
   "metadata": {},
   "outputs": [
    {
     "data": {
      "text/plain": [
       "defined \u001b[32mclass\u001b[39m \u001b[36mConsolidator\u001b[39m"
      ]
     },
     "execution_count": 3,
     "metadata": {},
     "output_type": "execute_result"
    }
   ],
   "source": [
    "//consolidator is a subscriber to maintain the total balance of a list of account\n",
    "class Consolidator(observed: List[BankAccount]) extends Subscriber {\n",
    "  observed.foreach(_.subscribe(this)) //subscribe to all BankAccounts\n",
    "  \n",
    "  private var total: Int = _\n",
    "  compute()\n",
    "  \n",
    "  private def compute() = {\n",
    "    total = observed.map(_.currentBalance).sum\n",
    "  }\n",
    "  //everytime something changes, you compute\n",
    "  def handler(pub: Publisher) = compute()\n",
    "  def totalBalance = total\n",
    "}"
   ]
  },
  {
   "cell_type": "markdown",
   "metadata": {},
   "source": [
    "`Consolidator` is a subscriber. It maintians total balance of all accounts. Whenver a bankaccount changed using `handler` method, the results are published (using `publish` method in Publisher), by calling `sum` method, which updates the total balance.\n",
    "One could envision many ways to do this. Finally `totalBalance` accesor methods gives total balance."
   ]
  },
  {
   "cell_type": "code",
   "execution_count": 4,
   "metadata": {},
   "outputs": [
    {
     "data": {
      "text/plain": [
       "\u001b[36ma\u001b[39m: \u001b[32mBankAccount\u001b[39m = ammonite.$sess.cmd1$Helper$BankAccount@16bbbe2\n",
       "\u001b[36mb\u001b[39m: \u001b[32mBankAccount\u001b[39m = ammonite.$sess.cmd1$Helper$BankAccount@97b0c5\n",
       "\u001b[36mc\u001b[39m: \u001b[32mConsolidator\u001b[39m = ammonite.$sess.cmd2$Helper$Consolidator@b5cc3e"
      ]
     },
     "execution_count": 4,
     "metadata": {},
     "output_type": "execute_result"
    }
   ],
   "source": [
    "val a = new BankAccount()\n",
    "val b = new BankAccount()\n",
    "val c = new Consolidator(List(a,b))"
   ]
  },
  {
   "cell_type": "code",
   "execution_count": 5,
   "metadata": {},
   "outputs": [
    {
     "data": {
      "text/plain": [
       "\u001b[36mres4\u001b[39m: \u001b[32mInt\u001b[39m = \u001b[32m0\u001b[39m"
      ]
     },
     "execution_count": 5,
     "metadata": {},
     "output_type": "execute_result"
    }
   ],
   "source": [
    "c.totalBalance"
   ]
  },
  {
   "cell_type": "code",
   "execution_count": 6,
   "metadata": {
    "scrolled": true
   },
   "outputs": [],
   "source": [
    "a deposit 20\n"
   ]
  },
  {
   "cell_type": "code",
   "execution_count": 7,
   "metadata": {},
   "outputs": [
    {
     "data": {
      "text/plain": [
       "\u001b[36mres6\u001b[39m: \u001b[32mInt\u001b[39m = \u001b[32m20\u001b[39m"
      ]
     },
     "execution_count": 7,
     "metadata": {},
     "output_type": "execute_result"
    }
   ],
   "source": [
    "c.totalBalance"
   ]
  },
  {
   "cell_type": "code",
   "execution_count": 8,
   "metadata": {},
   "outputs": [],
   "source": [
    "b deposit 30"
   ]
  },
  {
   "cell_type": "code",
   "execution_count": 9,
   "metadata": {},
   "outputs": [
    {
     "data": {
      "text/plain": [
       "\u001b[36mres8\u001b[39m: \u001b[32mInt\u001b[39m = \u001b[32m50\u001b[39m"
      ]
     },
     "execution_count": 9,
     "metadata": {},
     "output_type": "execute_result"
    }
   ],
   "source": [
    "c.totalBalance"
   ]
  },
  {
   "cell_type": "markdown",
   "metadata": {},
   "source": [
    "## Observer Pattern, The Good\n",
    "* Decouples views from state\n",
    "* Allows to have a varying number of views of a given state\n",
    "* Simple to set up\n",
    "\n",
    "## Observer Pattern, The Bad\n",
    "- Forces imperative style, since handlers are Unit-typed\n",
    "- Many moving parts that need to be co-ordinated (every publisher has to announce and every subscriber handler need to be called)\n",
    "- Concurrency makes things more complicated\n",
    "- Views are still tightly bound to one state; view update happens immediately.\n"
   ]
  }
 ],
 "metadata": {
  "kernelspec": {
   "display_name": "Scala",
   "language": "scala",
   "name": "scala"
  },
  "language_info": {
   "codemirror_mode": "text/x-scala",
   "file_extension": ".sc",
   "mimetype": "text/x-scala",
   "name": "scala",
   "nbconvert_exporter": "script",
   "version": "2.13.3"
  }
 },
 "nbformat": 4,
 "nbformat_minor": 4
}
