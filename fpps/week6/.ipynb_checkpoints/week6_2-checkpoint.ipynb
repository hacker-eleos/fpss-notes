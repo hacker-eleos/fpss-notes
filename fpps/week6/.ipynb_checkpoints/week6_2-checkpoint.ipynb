{
 "cells": [
  {
   "cell_type": "markdown",
   "metadata": {},
   "source": [
    "# Combinatorial Search and For-Expressions\n",
    "\n",
    "Given a positive integer $n$ find all pairs of positive integers $i$ and $j$ with $i \\leq j < i < n $ such that $i+j$ is prime."
   ]
  },
  {
   "cell_type": "markdown",
   "metadata": {},
   "source": [
    "## Algorithm \n",
    "\n",
    "A natural way to do this is to:\n",
    "\n",
    " * Generate the sequence of pair of integers $(i,j)$ such that $i \\leq j < i < n $.\n",
    " * Filter the pairs for which $i+j$ is prime.\n",
    "\n",
    "One way to generate the natural sequence of pairs\n",
    "\n",
    "* Generate all the integers between $1$ and $n$ (excluded).\n",
    "* For each integer $i$, we generate the list of pairs $(i,1), \\dots, (i, i-1)$\n",
    "\n",
    "It can be achieved by combining `map` and `until`\n",
    "\n",
    "```scala\n",
    "(1 until n) map (i => (1 until i) map (j => (i, j)))\n",
    "```"
   ]
  },
  {
   "cell_type": "code",
   "execution_count": 5,
   "metadata": {},
   "outputs": [
    {
     "data": {
      "text/plain": [
       "isPrime: (n: Int)Boolean\r\n"
      ]
     },
     "execution_count": 5,
     "metadata": {},
     "output_type": "execute_result"
    }
   ],
   "source": [
    "def isPrime(n: Int) =  (2 until n) forall(n % _ != 0)"
   ]
  },
  {
   "cell_type": "code",
   "execution_count": 2,
   "metadata": {},
   "outputs": [
    {
     "data": {
      "text/plain": [
       "n: Int = 6\r\n",
       "res1: scala.collection.immutable.IndexedSeq[scala.collection.immutable.IndexedSeq[(Int, Int)]] = Vector(Vector(), Vector((2,1)), Vector((3,1), (3,2)), Vector((4,1), (4,2), (4,3)), Vector((5,1), (5,2), (5,3), (5,4)))\r\n"
      ]
     },
     "execution_count": 2,
     "metadata": {},
     "output_type": "execute_result"
    }
   ],
   "source": [
    "val n = 6\n",
    "(1 until n) map (i => (1 until i) map (j => (i, j)))"
   ]
  },
  {
   "cell_type": "markdown",
   "metadata": {},
   "source": [
    "Why did I get vector of vectors?\n",
    "`Range` is subtype of `Seq`. The range we started with `1 until n` got transformed with map, that map produce a sequence of pairs, (they are not elements of `Range`). So we need anothe representation. A type sits between `Seq` and `Range` is `IndexSeq`. A prototypical implementation of `IndexSeq` is `Vector`. So the type inference decided to go with `Vector`."
   ]
  },
  {
   "cell_type": "markdown",
   "metadata": {},
   "source": [
    "Above step give seqquence of sequences (call it `xss`). We need just a sequence of pairs. We can combine all the sub-sequences using `foldRight` with `++`.\n",
    "\n",
    "```scala\n",
    "(xss foldRight Seq[Int]())(_ ++ _)\n",
    "```\n",
    "\n",
    "Or equivalently use a built-in method `flatten`\n",
    "(1 until n) map (i => (1 until i) map (j => (i, j))).flatten"
   ]
  },
  {
   "cell_type": "markdown",
   "metadata": {},
   "source": [
    "Here is a useful law\n",
    "```scala\n",
    "xs flatMap f = (xs map f).flatten\n",
    "```"
   ]
  },
  {
   "cell_type": "code",
   "execution_count": 3,
   "metadata": {},
   "outputs": [
    {
     "data": {
      "text/plain": [
       "res2: scala.collection.immutable.IndexedSeq[(Int, Int)] = Vector((2,1), (3,1), (3,2), (4,1), (4,2), (4,3), (5,1), (5,2), (5,3), (5,4))\r\n"
      ]
     },
     "execution_count": 3,
     "metadata": {},
     "output_type": "execute_result"
    }
   ],
   "source": [
    "(1 until n) flatMap (i => (1 until i) map (j => (i, j)))"
   ]
  },
  {
   "cell_type": "markdown",
   "metadata": {},
   "source": [
    "We need to filter the sequence according to criteria sum of pair is prime."
   ]
  },
  {
   "cell_type": "code",
   "execution_count": 6,
   "metadata": {},
   "outputs": [
    {
     "data": {
      "text/plain": [
       "res4: scala.collection.immutable.IndexedSeq[(Int, Int)] = Vector((2,1), (3,2), (4,1), (4,3), (5,2))\r\n"
      ]
     },
     "execution_count": 6,
     "metadata": {},
     "output_type": "execute_result"
    }
   ],
   "source": [
    "(1 until n) flatMap (i => (1 until i) map (j => (i, j))) filter { case (x,y) => isPrime(x+y)}"
   ]
  },
  {
   "cell_type": "markdown",
   "metadata": {},
   "source": [
    "We indeed get the sequence we wanted. Is thee a simpler way to organize the expression?"
   ]
  },
  {
   "cell_type": "markdown",
   "metadata": {},
   "source": [
    "Let `persons` be list of classes `Person`, with fields `name` and `age`."
   ]
  },
  {
   "cell_type": "code",
   "execution_count": 7,
   "metadata": {},
   "outputs": [
    {
     "data": {
      "text/plain": [
       "defined class Person\r\n"
      ]
     },
     "execution_count": 7,
     "metadata": {},
     "output_type": "execute_result"
    }
   ],
   "source": [
    "case class Person(name: String, age: Int)"
   ]
  },
  {
   "cell_type": "markdown",
   "metadata": {},
   "source": [
    "To obtain the name of person age over 20 years old, you can write\n",
    "```scala\n",
    "\n",
    "for(p <- persons if p.age > 20) yield p.name\n",
    "\n",
    "```\n",
    "which is equivalent to \n",
    "\n",
    "```scala\n",
    "persons filter ( p => p.age > 20) map (p => p.name)\n",
    "```\n",
    "The for-expression is similar to loops in imperative language, except it builds a list of the results of all iterations. It has no side effect."
   ]
  },
  {
   "cell_type": "markdown",
   "metadata": {},
   "source": [
    "A for expression is of the form\n",
    "\n",
    "```scala\n",
    "for (s) yield e\n",
    "```\n",
    "where `s` is sequence of genrators and filters and `e` is an expression whose value is returned by an iteration.\n",
    "\n",
    "* A **generator** is of the form `p <- e` where `p` is a patern and `e` is a expression whose value is a collection.\n",
    "* A **filter** is of the form `if f ` where `f` is a boolean expression.\n",
    "* The sequence must start with a generator.\n",
    "* If there are several generators in the sequence, the last generators vary faster than the first.\n",
    "\n",
    "Instead of `(s)` we can use braces `{s}` and then the sequence of generators and fiters can be written on multiple lines without requiring semicolons.\n",
    "\n",
    "We can solve the above problem in new way. \n",
    "Given a positive integer $n$ find all pairs of positive integers $i$ and $j$ with $i \\leq j < i < n $ such that $i+j$ is prime."
   ]
  },
  {
   "cell_type": "code",
   "execution_count": 11,
   "metadata": {},
   "outputs": [
    {
     "data": {
      "text/plain": [
       "res8: scala.collection.immutable.IndexedSeq[(Int, Int)] = Vector((2,1), (3,2), (4,1), (4,3), (5,2))\r\n"
      ]
     },
     "execution_count": 11,
     "metadata": {},
     "output_type": "execute_result"
    }
   ],
   "source": [
    "for{i <- 1 until n\n",
    "    j <- (1 until i)\n",
    "    if isPrime(i+j)}yield (i,j)"
   ]
  },
  {
   "cell_type": "markdown",
   "metadata": {},
   "source": [
    "Write a version of scalar prouduct using for-expression"
   ]
  },
  {
   "cell_type": "code",
   "execution_count": 12,
   "metadata": {},
   "outputs": [
    {
     "data": {
      "text/plain": [
       "scalarProduct: (xs: List[Double], ys: List[Double])Double\r\n"
      ]
     },
     "execution_count": 12,
     "metadata": {},
     "output_type": "execute_result"
    }
   ],
   "source": [
    "def scalarProduct(xs : List[Double], ys: List[Double]):Double = (for {(x, y) <- xs zip ys} yield x*y).sum\n"
   ]
  },
  {
   "cell_type": "code",
   "execution_count": 13,
   "metadata": {},
   "outputs": [
    {
     "data": {
      "text/plain": [
       "res9: Double = 17.580000000000002\r\n"
      ]
     },
     "execution_count": 13,
     "metadata": {},
     "output_type": "execute_result"
    }
   ],
   "source": [
    "scalarProduct(List(1.0,2.3,2.2), List(1.1,4.2,3.1))"
   ]
  }
 ],
 "metadata": {
  "kernelspec": {
   "display_name": "spylon-kernel",
   "language": "scala",
   "name": "spylon-kernel"
  },
  "language_info": {
   "codemirror_mode": "text/x-scala",
   "file_extension": ".scala",
   "help_links": [
    {
     "text": "MetaKernel Magics",
     "url": "https://metakernel.readthedocs.io/en/latest/source/README.html"
    }
   ],
   "mimetype": "text/x-scala",
   "name": "scala",
   "pygments_lexer": "scala",
   "version": "0.4.1"
  }
 },
 "nbformat": 4,
 "nbformat_minor": 4
}
