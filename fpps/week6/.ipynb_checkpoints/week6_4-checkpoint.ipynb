{
 "cells": [
  {
   "cell_type": "markdown",
   "metadata": {},
   "source": [
    "# Maps\n",
    "\n",
    "Another fundamental collection type in map. A map of type `Map[Key, Value]`is a data structure that associates keys of type `Key` with values of type `Value`"
   ]
  },
  {
   "cell_type": "code",
   "execution_count": 2,
   "metadata": {},
   "outputs": [
    {
     "data": {
      "text/plain": [
       "romanNumerals: scala.collection.immutable.Map[Char,Int] = Map(I -> 1, V -> 5, X -> 10)\r\n"
      ]
     },
     "execution_count": 2,
     "metadata": {},
     "output_type": "execute_result"
    }
   ],
   "source": [
    "val romanNumerals = Map('I'->1, 'V'->5,'X'->10)"
   ]
  },
  {
   "cell_type": "code",
   "execution_count": 3,
   "metadata": {},
   "outputs": [
    {
     "data": {
      "text/plain": [
       "capitalOfCountry: scala.collection.immutable.Map[String,String] = Map(Washington -> USA, NewDelhi -> India)\r\n"
      ]
     },
     "execution_count": 3,
     "metadata": {},
     "output_type": "execute_result"
    }
   ],
   "source": [
    "val capitalOfCountry = Map(\"Washington\"->\"USA\",\"NewDelhi\"->\"India\")"
   ]
  },
  {
   "cell_type": "markdown",
   "metadata": {},
   "source": [
    "## Maps are functions\n",
    "class `Map[Key,Value]` extends the function type `Key => Value`so maps can be used everywhere functions can. In particulat maps can be applied to key arguments."
   ]
  },
  {
   "cell_type": "code",
   "execution_count": 4,
   "metadata": {},
   "outputs": [
    {
     "data": {
      "text/plain": [
       "res0: String = USA\r\n"
      ]
     },
     "execution_count": 4,
     "metadata": {},
     "output_type": "execute_result"
    }
   ],
   "source": [
    "capitalOfCountry(\"Washington\")"
   ]
  },
  {
   "cell_type": "markdown",
   "metadata": {},
   "source": [
    "To query a map without knowing beforehand wether it contains a key, you can use `get` operation. The result of `get` operation is `Option` value."
   ]
  },
  {
   "cell_type": "code",
   "execution_count": null,
   "metadata": {},
   "outputs": [],
   "source": [
    "capitalOfCountry.get(\"Andorra\")"
   ]
  },
  {
   "cell_type": "markdown",
   "metadata": {},
   "source": [
    "## The Option type\n",
    "```scala\n",
    "trait Option[+A]\n",
    "case class Some[+A](value: A) extends Option[A]\n",
    "object None extends Option[Nothing]\n",
    "```\n",
    "The expression `map get key` returns\n",
    "* `None` - if `map` doesn't contain the given `key`\n",
    "* Some(x) - if `map` associates the given `key` with value `x`\n",
    "\n",
    "\n",
    "Since options are defined as case classes they can be decomposed using pattern matching."
   ]
  },
  {
   "cell_type": "code",
   "execution_count": null,
   "metadata": {},
   "outputs": [],
   "source": [
    "capitalOfCountry.get(\"Washington\") match {\n",
    "    case None => \"Key Not Found\"\n",
    "    case Some(x) => x.toString\n",
    "}"
   ]
  },
  {
   "cell_type": "markdown",
   "metadata": {},
   "source": [
    "## Sorted and Group By\n",
    "Two useful operations of SQL queries in addition to for-expressions are `groupBy` and `orderBy`\n",
    "\n",
    "`orderBy` on a collection can be expressed by `sortedWith` and `sorted`."
   ]
  },
  {
   "cell_type": "code",
   "execution_count": null,
   "metadata": {},
   "outputs": [],
   "source": [
    "val fruits = List(\"appple\",\"pear\",\"orange\",\"pineapple\")\n",
    "fruits.sortWith(_.length < _.length)"
   ]
  },
  {
   "cell_type": "code",
   "execution_count": null,
   "metadata": {},
   "outputs": [],
   "source": [
    "fruits.sorted"
   ]
  },
  {
   "cell_type": "markdown",
   "metadata": {},
   "source": [
    "`groupBy` is available on collection in Scala. It partitions a collection into a map of collections according to discrimination function `f`."
   ]
  },
  {
   "cell_type": "code",
   "execution_count": null,
   "metadata": {},
   "outputs": [],
   "source": [
    "fruits groupBy (_.head)"
   ]
  },
  {
   "cell_type": "markdown",
   "metadata": {},
   "source": [
    "## Map Example\n",
    "A polynomial can be seen as map from exponents to coefficients.\n",
    "For example $ x^3 - 2x + 5$ can be represented as \n",
    "\n",
    "```scala\n",
    "Map(0->5,1->-2,3->1)\n",
    "```\n",
    "\n",
    "Let's design a class which represents polynomials as maps. Note that `++` operation on maps is alias for concatenation."
   ]
  },
  {
   "cell_type": "code",
   "execution_count": null,
   "metadata": {},
   "outputs": [],
   "source": [
    "class Poly(val terms: Map[Int, Double]) {\n",
    "    def +(other: Poly): Poly = new Poly(terms ++ other.terms)\n",
    "    override def toString = (for((exp, coeff) <- terms.toList.sorted.reverse) yield coeff + \"x^\" +exp) mkString \" + \"\n",
    "}"
   ]
  },
  {
   "cell_type": "code",
   "execution_count": null,
   "metadata": {},
   "outputs": [],
   "source": [
    "val p1 = new Poly(Map(1 -> 2.0, 3 -> 4.0, 5 -> 6.2))\n",
    "val p2 = new Poly(Map(0 -> 3, 3 -> 7.0))\n",
    "p1 + p2"
   ]
  },
  {
   "cell_type": "markdown",
   "metadata": {},
   "source": [
    "Oops we need sum of two coefficents for $x^3$. We need to have function to add two coefficients."
   ]
  },
  {
   "cell_type": "code",
   "execution_count": null,
   "metadata": {},
   "outputs": [],
   "source": [
    "class Poly(val terms: Map[Int, Double]) {\n",
    "    def +(other: Poly): Poly = new Poly(terms ++ (other.terms map adjust))\n",
    "    def adjust (term: (Int, Double)): (Int, Double) = {\n",
    "        val (exp, coeff) = term\n",
    "        terms get exp match {\n",
    "            case None => exp -> coeff\n",
    "            case Some(c) => exp -> (coeff + c)\n",
    "        }\n",
    "    }\n",
    "    override def toString = (for((exp, coeff) <- terms.toList.sorted.reverse) yield coeff + \"x^\" +exp) mkString \" + \"\n",
    "}"
   ]
  },
  {
   "cell_type": "code",
   "execution_count": null,
   "metadata": {},
   "outputs": [],
   "source": [
    "val p1 = new Poly(Map(1 -> 2.0, 3 -> 4.0, 5 -> 6.2))\n",
    "val p2 = new Poly(Map(0 -> 3, 3 -> 7.0))\n",
    "p1 + p2"
   ]
  },
  {
   "cell_type": "markdown",
   "metadata": {},
   "source": [
    "Is there a simpler way? So far maps were **partial functions**. Applying a map to key value in `map(key)` could lead to an exception, if the key was not stored in the map. There is an operation `withDefaultValue` that turns a map into a total function. "
   ]
  },
  {
   "cell_type": "code",
   "execution_count": null,
   "metadata": {},
   "outputs": [],
   "source": [
    "val cap_ = capitalOfCountry withDefaultValue \"<unknown>\""
   ]
  },
  {
   "cell_type": "code",
   "execution_count": null,
   "metadata": {},
   "outputs": [],
   "source": [
    "cap_(\"Andorra\")"
   ]
  },
  {
   "cell_type": "markdown",
   "metadata": {},
   "source": [
    "Let's apply this technique."
   ]
  },
  {
   "cell_type": "code",
   "execution_count": null,
   "metadata": {},
   "outputs": [],
   "source": [
    "class Poly(val terms_ : Map[Int, Double]) {\n",
    "    val terms = terms_ withDefaultValue 0.0 \n",
    "    def +(other: Poly): Poly = new Poly(terms ++ (other.terms map adjust))\n",
    "    def adjust (term: (Int, Double)): (Int, Double) = {\n",
    "        val (exp, coeff) = term\n",
    "        exp -> (coeff + terms(exp))\n",
    "    }\n",
    "    override def toString = (for((exp, coeff) <- terms.toList.sorted.reverse) yield coeff + \"x^\" +exp) mkString \" + \"\n",
    "}"
   ]
  },
  {
   "cell_type": "code",
   "execution_count": null,
   "metadata": {},
   "outputs": [],
   "source": [
    "val p1 = new Poly(Map(1 -> 2.0, 3 -> 4.0, 5 -> 6.2))\n",
    "val p2 = new Poly(Map(0 -> 3, 3 -> 7.0))\n",
    "p1 + p2"
   ]
  },
  {
   "cell_type": "markdown",
   "metadata": {},
   "source": [
    "We would like to have a better way to create polynomials. We can pass aribatry number of arguments using `*` notation and the arguments are reprsented as sequence. See below"
   ]
  },
  {
   "cell_type": "code",
   "execution_count": null,
   "metadata": {},
   "outputs": [],
   "source": [
    "class Poly(val terms_ : Map[Int, Double]) {\n",
    "    def this(bindings: (Int, Double)*) = this(bindings.toMap)\n",
    "    val terms = terms_ withDefaultValue 0.0 \n",
    "    def +(other: Poly): Poly = new Poly(terms ++ (other.terms map adjust))\n",
    "    def adjust (term: (Int, Double)): (Int, Double) = {\n",
    "        val (exp, coeff) = term\n",
    "        exp -> (coeff + terms(exp))\n",
    "    }\n",
    "    override def toString = (for((exp, coeff) <- terms.toList.sorted.reverse) yield coeff + \"x^\" +exp) mkString \" + \"\n",
    "}"
   ]
  },
  {
   "cell_type": "code",
   "execution_count": null,
   "metadata": {},
   "outputs": [],
   "source": [
    "val p1 = new Poly(1 -> 2.0, 3 -> 4.0, 5 -> 6.2)\n",
    "val p2 = new Poly(0 -> 3, 3 -> 7.0)"
   ]
  },
  {
   "cell_type": "markdown",
   "metadata": {},
   "source": [
    "The `+` operation on polynomials used map concatenation with `++`. Design another version of `+` in terms of `foldLeft`? Which one do you think it's most efficient?"
   ]
  },
  {
   "cell_type": "code",
   "execution_count": null,
   "metadata": {},
   "outputs": [],
   "source": [
    "class Poly(val terms_ : Map[Int, Double]) {\n",
    "    def this(bindings: (Int, Double)*) = this(bindings.toMap)\n",
    "    val terms = terms_ withDefaultValue 0.0 \n",
    "    def +(other: Poly): Poly = new Poly((other.terms foldLeft terms)(addTerms))\n",
    "    def addTerms(terms: Map[Int, Double], term: (Int, Double)): Map[Int, Double] = {\n",
    "        val (exp, coeff) = term\n",
    "        terms ++ Map(exp -> (coeff + terms(exp)))\n",
    "    }\n",
    "    override def toString = (for((exp, coeff) <- terms.toList.sorted.reverse) yield coeff + \"x^\" +exp) mkString \" + \"\n",
    "}"
   ]
  },
  {
   "cell_type": "code",
   "execution_count": null,
   "metadata": {},
   "outputs": [],
   "source": [
    "val p1 = new Poly(1 -> 2.0, 3 -> 4.0, 5 -> 6.2)\n",
    "val p2 = new Poly(0 -> 3, 3 -> 7.0)\n",
    "p1 + p2"
   ]
  },
  {
   "cell_type": "markdown",
   "metadata": {},
   "source": [
    "`foldLeft` is more efficient, because each of the bindings added to map directly. Before we create the terms and concatenate to result."
   ]
  }
 ],
 "metadata": {
  "kernelspec": {
   "display_name": "spylon-kernel",
   "language": "scala",
   "name": "spylon-kernel"
  },
  "language_info": {
   "codemirror_mode": "text/x-scala",
   "file_extension": ".scala",
   "help_links": [
    {
     "text": "MetaKernel Magics",
     "url": "https://metakernel.readthedocs.io/en/latest/source/README.html"
    }
   ],
   "mimetype": "text/x-scala",
   "name": "scala",
   "pygments_lexer": "scala",
   "version": "0.4.1"
  }
 },
 "nbformat": 4,
 "nbformat_minor": 4
}
