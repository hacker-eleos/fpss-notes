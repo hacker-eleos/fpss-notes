{
 "cells": [
  {
   "cell_type": "markdown",
   "metadata": {},
   "source": [
    "# Combinatorial Search Example\n",
    "So far, we  have sequences. We are going to see \n",
    "* Sets\n",
    "* Maps\n",
    "Now we look at sets."
   ]
  },
  {
   "cell_type": "code",
   "execution_count": 1,
   "metadata": {},
   "outputs": [
    {
     "data": {
      "text/plain": [
       "Intitializing Scala interpreter ..."
      ]
     },
     "metadata": {},
     "output_type": "display_data"
    },
    {
     "data": {
      "text/plain": [
       "Spark Web UI available at http://MININT-PN59L2S.fareast.corp.microsoft.com:4040\n",
       "SparkContext available as 'sc' (version = 3.0.1, master = local[*], app id = local-1609318136037)\n",
       "SparkSession available as 'spark'\n"
      ]
     },
     "metadata": {},
     "output_type": "display_data"
    },
    {
     "data": {
      "text/plain": [
       "fruits: scala.collection.immutable.Set[String] = Set(apple, banana, orange)\r\n",
       "s: scala.collection.immutable.Set[Int] = Set(5, 1, 6, 2, 3, 4)\r\n"
      ]
     },
     "execution_count": 1,
     "metadata": {},
     "output_type": "execute_result"
    }
   ],
   "source": [
    "val fruits = Set(\"apple\",\"banana\",\"orange\")\n",
    "val s = (1 to 6).toSet"
   ]
  },
  {
   "cell_type": "markdown",
   "metadata": {},
   "source": [
    "Most operations on sequences are available on sets. See `Iterables` on Scaladoc for more information. `Seq` itself is subclass of `Iterable`."
   ]
  },
  {
   "cell_type": "code",
   "execution_count": 18,
   "metadata": {},
   "outputs": [
    {
     "name": "stdout",
     "output_type": "stream",
     "text": [
      "Set(5, 6, 7, 3, 8, 4)\n",
      "Set(apple)\n",
      "true\n"
     ]
    }
   ],
   "source": [
    "println(s map (_ + 2))\n",
    "println(fruits filter (_.startsWith(\"app\")))\n",
    "println(s.nonEmpty)"
   ]
  },
  {
   "cell_type": "markdown",
   "metadata": {},
   "source": [
    "The principle differences between sets and sequences.\n",
    "\n",
    "* Sets are unordered.\n",
    "* Sets do not have duplicate elements\n",
    "* The fundamental operation on set is `contains`"
   ]
  },
  {
   "cell_type": "code",
   "execution_count": 19,
   "metadata": {},
   "outputs": [
    {
     "data": {
      "text/plain": [
       "res16: Boolean = true\r\n"
      ]
     },
     "execution_count": 19,
     "metadata": {},
     "output_type": "execute_result"
    }
   ],
   "source": [
    "s contains 5"
   ]
  },
  {
   "cell_type": "markdown",
   "metadata": {},
   "source": [
    "## N-Queens Problem\n",
    "The queens problem is to place the eight queens on chessboard so that no queen is threatened by another. In other words two queens can't be in same row, or column, or diagonal. We now develop solution for chessboard of any size. One way is to place a queen on each row. Once we have place $k-1$ queens, one must place the $k$ th queen in a column which is not in check with any other queen on the board."
   ]
  },
  {
   "cell_type": "markdown",
   "metadata": {},
   "source": [
    "## Algorithm\n",
    "\n",
    "* Suppose we have already generated all the solutions consisting of placing $k-1$ queens on board of size $n$. \n",
    "* Each solution is represented by a list of length $k-1$ containing the number of columns (between $0$ and $n-1$).\n",
    "* The column number of queen in the $k-1$th row comes first, followed by queen in row $k-2$ etc.\n",
    "* The solution is thus represented as set of lists, with one element for each solution.\n",
    "* Now to place the $k$th queen, we generate all the possible extensions of each solution preceded by a new queen."
   ]
  },
  {
   "cell_type": "markdown",
   "metadata": {},
   "source": [
    "Write a function \n",
    "```scala\n",
    "def isSafe(col:Int, queens: List[Int]): Boolean\n",
    "```\n",
    "which tests if a queen placed in indicated columns is secure amongst the other placed queens. It is assumed that new queen is placed in the next available row after the placed queens. (in row `queens.length`)"
   ]
  },
  {
   "cell_type": "code",
   "execution_count": 28,
   "metadata": {},
   "outputs": [
    {
     "data": {
      "text/plain": [
       "isSafe: (col: Int, queens: List[Int])Boolean\r\n"
      ]
     },
     "execution_count": 28,
     "metadata": {},
     "output_type": "execute_result"
    }
   ],
   "source": [
    "def isSafe(col:Int, queens: List[Int]): Boolean = {\n",
    "    val row = queens.length\n",
    "    val queensWithRow = (row-1 to 0 by -1) zip queens \n",
    "    queensWithRow forall {\n",
    "        case (r,c) => col !=c && math.abs(col - c) != math.abs(row - r)\n",
    "    }\n",
    "}"
   ]
  },
  {
   "cell_type": "code",
   "execution_count": 31,
   "metadata": {},
   "outputs": [
    {
     "data": {
      "text/plain": [
       "defined object nqueens\r\n"
      ]
     },
     "execution_count": 31,
     "metadata": {},
     "output_type": "execute_result"
    }
   ],
   "source": [
    "object nqueens{\n",
    "    def queens(n: Int): Set[List[Int]] = {\n",
    "    def placeQueens(k: Int): Set[List[Int]] = {\n",
    "        if (k == 0) Set(List())\n",
    "        else \n",
    "        for{\n",
    "            queens <- placeQueens(k-1)\n",
    "            col <- 0 until n\n",
    "            if isSafe(col, queens)\n",
    "        } yield col::queens\n",
    "        \n",
    "    }\n",
    "        placeQueens(n)\n",
    "    }\n",
    "}"
   ]
  },
  {
   "cell_type": "code",
   "execution_count": 37,
   "metadata": {},
   "outputs": [
    {
     "data": {
      "text/plain": [
       "show: (queens: List[Int])String\r\n"
      ]
     },
     "execution_count": 37,
     "metadata": {},
     "output_type": "execute_result"
    }
   ],
   "source": [
    "def show(queens: List[Int]) = {\n",
    "    val lines = for (col <- queens.reverse) yield Vector.fill(queens.length)(\"* \").updated(col, \"X \").mkString\n",
    "    \"\\n\" + (lines mkString \"\\n\")\n",
    "}"
   ]
  },
  {
   "cell_type": "code",
   "execution_count": 41,
   "metadata": {},
   "outputs": [
    {
     "data": {
      "text/plain": [
       "solution: scala.collection.immutable.Set[List[Int]] = Set(List(2, 0, 6, 4, 7, 1, 3, 5), List(5, 2, 0, 7, 3, 1, 6, 4), List(4, 1, 7, 0, 3, 6, 2, 5))\r\n"
      ]
     },
     "execution_count": 41,
     "metadata": {},
     "output_type": "execute_result"
    }
   ],
   "source": [
    "val solution = nqueens.queens(8).take(3)"
   ]
  },
  {
   "cell_type": "code",
   "execution_count": 42,
   "metadata": {},
   "outputs": [
    {
     "data": {
      "text/plain": [
       "res28: String =\r\n",
       "\"\r\n",
       "* * * * * X * *\r\n",
       "* * X * * * * *\r\n",
       "* * * * * * X *\r\n",
       "* * * X * * * *\r\n",
       "X * * * * * * *\r\n",
       "* * * * * * * X\r\n",
       "* X * * * * * *\r\n",
       "* * * * X * * *\r\n",
       "\r\n",
       "* * * * X * * *\r\n",
       "* * * * * * X *\r\n",
       "* X * * * * * *\r\n",
       "* * * X * * * *\r\n",
       "* * * * * * * X\r\n",
       "X * * * * * * *\r\n",
       "* * X * * * * *\r\n",
       "* * * * * X * *\r\n",
       "\r\n",
       "* * * * * X * *\r\n",
       "* * * X * * * *\r\n",
       "* X * * * * * *\r\n",
       "* * * * * * * X\r\n",
       "* * * * X * * *\r\n",
       "* * * * * * X *\r\n",
       "X * * * * * * *\r\n",
       "* * X * * * * * \"\r\n"
      ]
     },
     "execution_count": 42,
     "metadata": {},
     "output_type": "execute_result"
    }
   ],
   "source": [
    "(solution map show) mkString \"\\n\""
   ]
  }
 ],
 "metadata": {
  "kernelspec": {
   "display_name": "spylon-kernel",
   "language": "scala",
   "name": "spylon-kernel"
  },
  "language_info": {
   "codemirror_mode": "text/x-scala",
   "file_extension": ".scala",
   "help_links": [
    {
     "text": "MetaKernel Magics",
     "url": "https://metakernel.readthedocs.io/en/latest/source/README.html"
    }
   ],
   "mimetype": "text/x-scala",
   "name": "scala",
   "pygments_lexer": "scala",
   "version": "0.4.1"
  }
 },
 "nbformat": 4,
 "nbformat_minor": 4
}
