{
 "cells": [
  {
   "cell_type": "markdown",
   "metadata": {},
   "source": [
    "# Parallel Sorting\n",
    "\n",
    "We will implement a parallel merge sort algorithm.\n",
    "\n",
    "1. recursively sort the two halves of the array in parallel\n",
    "2. sequentially merge the two array halves by copying into a temporary array\n",
    "3. copy the temporary array back into the original array\n",
    "\n",
    "The `parMergeSort` method takes an array, and a maximum depth:"
   ]
  },
  {
   "cell_type": "code",
   "execution_count": null,
   "metadata": {},
   "outputs": [],
   "source": []
  }
 ],
 "metadata": {
  "kernelspec": {
   "display_name": "Scala",
   "language": "scala",
   "name": "scala"
  },
  "language_info": {
   "codemirror_mode": "text/x-scala",
   "file_extension": ".sc",
   "mimetype": "text/x-scala",
   "name": "scala",
   "nbconvert_exporter": "script",
   "version": "2.13.3"
  }
 },
 "nbformat": 4,
 "nbformat_minor": 4
}
