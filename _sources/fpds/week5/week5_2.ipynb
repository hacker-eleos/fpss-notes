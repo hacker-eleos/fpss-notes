{
 "cells": [
  {
   "cell_type": "markdown",
   "metadata": {},
   "source": [
    "# Functional Reactive Programming\n",
    "\n",
    "In functional view, we can take sequence of events and aggregate into a signal.\n",
    "Imperative reactive programming is about reacting to sequences of events that happen in time.\n",
    "\n",
    "**Functional view:** Aggregate an event sequence into a signal.\n",
    "* A signal is a value that changes over time.\n",
    "* It is represented as a function from time to the value domain.\n",
    "* Instead of propagating updates to mutable state, we define new\n",
    "signals in terms of existing ones."
   ]
  },
  {
   "cell_type": "markdown",
   "metadata": {},
   "source": [
    "**Event-based view:**\n",
    "\n",
    "Whenever the mouse moves, an event\n",
    "```scala\n",
    "MouseMoved(toPos: Position)\n",
    "```\n",
    "is fired.\n",
    "\n",
    "**FRP view:**\n",
    "\n",
    "A signal, \n",
    "```scala\n",
    "mousePosition: Signal[Position] \n",
    "```\n",
    "which at any point in time represents the current mouse position.\n",
    "\n",
    "In event-based view whenever mouse moved then application gets `MouseMoved` events get fired and it's position is updated. All of the updates are imperative.\n",
    "\n",
    "In functional point of view, the core idea is that I define a signal, call it also `mousePosition`, which is now a signal of position, which at any point in time represents the current mouse position. So, it's a function from the domain of time values to positions.\n",
    "\n",
    "Functional Reactive Programming started in 1997 with the paper *Functional Reactive Animation by Conal Elliot and Paul Hudak, and Conal* also wrote a, a language called Fran, which was implemented as an embedded library in Haskell.\n",
    "\n",
    "There have been many FRP systems since, both standalone languages and embedded libraries.\n",
    "\n",
    "Some examples are: Flapjax, Elm, Bacon.js, React4J.\n",
    "\n",
    "Event streaming dataflow programming systems such as Rx (which we will see in two weeks), are related but the term FRP is not commonly used for them.\n",
    "We will introduce FRP by means of of a minimal class, `frp.Signal` whose implementation is explained at the end of this module.\n",
    "`frp.Signal` is modelled after `Scala.react`, which is described in the paper *Deprecating the Observer Pattern.*"
   ]
  },
  {
   "cell_type": "markdown",
   "metadata": {},
   "source": [
    "## Fundamental Signal Operations\n",
    "\n",
    "There are two fundamental operations over signals:\n",
    "\n",
    "1. Obtain the value of the signal at the current time.\n",
    "\n",
    "In our library this is expressed by `()` application.\n",
    "```scala\n",
    "mousePosition() // the current mouse position\n",
    "```\n",
    "2. Define a signal in terms of other signals.\n",
    "\n",
    "In our library, this is expressed by the Signal constructor.\n",
    "```scala\n",
    "def inReactangle(LL: Position, UR: Position): Signal[Boolean] =\n",
    "Signal {\n",
    "val pos = mousePosition()\n",
    "LL <= pos && pos <= UR\n",
    "}\n",
    "```\n",
    "3. Constant Signal\n",
    "\n",
    "The `Signal(...)` syntax can also be used to define a signal that has always the same value:\n",
    "```scala\n",
    "val sig = Signal(3)\n",
    "```\n",
    "\n",
    "## Variable Signals\n",
    "* Values of type Signal are immutable.\n",
    "\n",
    "* But our library also defines a subclass Var of Signal for signals that can be changed.\n",
    "\n",
    "* `Var` class provides an `update` operation, which allows to redefine the value of a signal from the current time on.\n",
    "\n",
    "```scala\n",
    "val sig = Var(3)\n",
    "sig.update(5)\n",
    "```\n",
    "\n",
    "In Scala, calls to update can be written as assignments.\n",
    "\n",
    "For instance, for an array `arr`\n",
    "```scala\n",
    "arr(i) = 0\n",
    "\n",
    "```\n",
    "is translated to\n",
    "```scala\n",
    "arr.update(i, 0)\n",
    "```\n",
    "which calls an update method which can be thought of as follows:\n",
    "```\n",
    "class Array[T] {\n",
    "def update(idx: Int, value: T): Unit\n",
    "...\n",
    "}\n",
    "```\n",
    "\n",
    "Generally, an indexed assignment like $f(E1, ..., En) = E$ is translated to $f.update(E1, ..., En, E)$.\n",
    "This works also if $n = 0$: $f() = E$ is shorthand for $f.update(E).$\n",
    "Hence,\n",
    "```scala\n",
    "sig.update(5)\n",
    "```\n",
    "can be abbreviated to\n",
    "\n",
    "```scala\n",
    "sig() = 5\n",
    "```"
   ]
  },
  {
   "cell_type": "markdown",
   "metadata": {},
   "source": [
    "Signals of type Var look a bit like mutable variables, where\n",
    "```scala\n",
    "sig()\n",
    "```\n",
    "is dereferencing, and\n",
    "```scala\n",
    "sig() = newValue\n",
    "```\n",
    "is update.\n",
    "\n",
    "But there’s a crucial difference:\n",
    "\n",
    "We can map over signals, which gives us a relation between two signals that is maintained automatically, at all future points in time.\n",
    "No such mechanism exists for mutable variables; we have to propagate all updates manually"
   ]
  },
  {
   "cell_type": "markdown",
   "metadata": {},
   "source": [
    "## Example\n",
    "\n",
    "Repeat the `BankAccount` example of last section with signals.\n",
    "\n",
    "Add a signal `balance` to BankAccounts.\n",
    "\n",
    "Define a function consolidated which produces the sum of all balances of a given list of accounts.\n",
    "\n",
    "What savings were possible compared to the `publish/subscribe` implementation?"
   ]
  },
  {
   "cell_type": "markdown",
   "metadata": {},
   "source": [
    "Let's implement `BankAccount` in functional reactive style.\n"
   ]
  },
  {
   "cell_type": "code",
   "execution_count": 1,
   "metadata": {},
   "outputs": [
    {
     "data": {
      "text/plain": [
       "\u001b[32mimport \u001b[39m\u001b[36mSignal.caller\n",
       "\u001b[39m\n",
       "\u001b[32mimport \u001b[39m\u001b[36mscala.util.DynamicVariable\n",
       "\n",
       "\u001b[39m\n",
       "defined \u001b[32mclass\u001b[39m \u001b[36mSignal\u001b[39m\n",
       "defined \u001b[32mobject\u001b[39m \u001b[36mNoSignal\u001b[39m\n",
       "defined \u001b[32mobject\u001b[39m \u001b[36mSignal\u001b[39m\n",
       "defined \u001b[32mclass\u001b[39m \u001b[36mVar\u001b[39m\n",
       "defined \u001b[32mobject\u001b[39m \u001b[36mVar\u001b[39m\n",
       "defined \u001b[32mclass\u001b[39m \u001b[36mStackableVariable\u001b[39m"
      ]
     },
     "execution_count": 1,
     "metadata": {},
     "output_type": "execute_result"
    }
   ],
   "source": [
    "import Signal.caller\n",
    "import scala.util.DynamicVariable\n",
    "\n",
    "class Signal[T](expr: => T) {\n",
    "  import Signal._\n",
    "  private var myExpr: () => T = _\n",
    "  private var myValue: T = _\n",
    "  private var observers: Set[Signal[_]] = Set()\n",
    "  update(expr)\n",
    "  \n",
    "  //update method gets called during the initialization of the Signal or\n",
    "  //someone calls an update operation on a Var, or the value of a dependent\n",
    "  ///signal changes. \n",
    "  //\"protected\" means only subclasses of Signal has access to this method\n",
    "  //clients of the Signal cannot. This means clients of Signal cannot call update\n",
    "  protected def update(expr: => T): Unit = {\n",
    "    myExpr = () => expr\n",
    "    computeValue()\n",
    "  }\n",
    "  protected def computeValue(): Unit = {\n",
    "    val newValue = caller.withValue(this)(myExpr())\n",
    "    //re-evaluating the callers\n",
    "    if (myValue != newValue) {\n",
    "      myValue = newValue\n",
    "      val obs = observers\n",
    "      observers = Set() //clear the observers set\n",
    "      obs.foreach(_.computeValue()) //add the updated observer into the observer sets\n",
    "    }\n",
    "  }\n",
    "  \n",
    "  \n",
    "  //catches cyclic signal s() = s() + 1, If you don't add this assert, then infinite \n",
    "  //recursion and stackoverflow\n",
    "  def apply(): T = {\n",
    "    observers += caller.value\n",
    "    assert(!caller.value.observers.contains(this), \"cyclic signal definition\")\n",
    "    myValue\n",
    "  }\n",
    "}\n",
    "object NoSignal extends Signal[Nothing](???) {\n",
    "  //below code disables computeValue because we can't evaluate an expression of type Nothing\n",
    "  override def computeValue() = () //empty expression can't evaluate NoSignal\n",
    "}\n",
    "object Signal {\n",
    "\n",
    "  import scala.util.DynamicVariable\n",
    "  \n",
    "  //private val caller = new StackableVariable[Signal[_]](NoSignal)    // <--global variable\n",
    "  \n",
    "  /* global variable caller! Global variables in concurrency is bad idea (results in \n",
    "   * race conditions). One way to do that is to use synchronization, which comes\n",
    "   * with its own problems (use of threads could create deadlock). We replace the \n",
    "   * \"new StackableVariable\" below by \"new DynamicVariable\" in \n",
    "   * scala.util.DynamicVariable to replace global state by thread-local state (each\n",
    "   * thread accesses a separate copy of a variable.\n",
    "   * \n",
    "   */\n",
    "  private val caller = new DynamicVariable[Signal[_]](NoSignal)\n",
    "  \n",
    "  def apply[T](expr: => T) = new Signal(expr)\n",
    "}\n",
    "\n",
    "//Var is a sub-class of Signal\n",
    "class Var[T](expr: => T) extends Signal[T](expr) {\n",
    "  //client of Var can call update. That's why here, the keyword \"protected\" is overridden.\n",
    "  override def update(expr: => T): Unit = super.update(expr)\n",
    "}\n",
    "object Var {\n",
    "  def apply[T](expr: => T) = new Var(expr) //constructor\n",
    "}\n",
    "\n",
    "  //global variables - don't use if doing concurrency\n",
    "class StackableVariable[T](init: T) {\n",
    "  private var values: List[T] = List(init)\n",
    "  def value: T = values.head\n",
    "  def withValue[R](newValue: T)(op: => R): R = {\n",
    "    values = newValue :: values\n",
    "    try op finally values = values.tail\n",
    "  }\n",
    "}"
   ]
  },
  {
   "cell_type": "code",
   "execution_count": 2,
   "metadata": {},
   "outputs": [
    {
     "data": {
      "text/plain": [
       "defined \u001b[32mclass\u001b[39m \u001b[36mBankAccountSignal\u001b[39m\n",
       "defined \u001b[32mfunction\u001b[39m \u001b[36mconsolidated\u001b[39m"
      ]
     },
     "execution_count": 2,
     "metadata": {},
     "output_type": "execute_result"
    }
   ],
   "source": [
    "class BankAccountSignal {\n",
    "  \n",
    "  val balance = Var(0) //balance is a variable signal\n",
    "  \n",
    "  def deposit(amount: Int): Unit = {\n",
    "    if (amount > 0) {\n",
    "      val b = balance()\n",
    "      balance() = b + amount\n",
    "    }\n",
    "  }\n",
    "  \n",
    "  def withdraw(amount: Int): Unit = {\n",
    "    if (0 < amount && amount <= balance()) {\n",
    "      val b = balance()\n",
    "      balance() = b - amount\n",
    "    } else throw new Error(\"insufficient funds\")\n",
    "  }\n",
    "\n",
    "}\n",
    "\n",
    "def consolidated(accts: List[BankAccountSignal]): Signal[Int] = Signal{\n",
    "    accts.map(_.balance()).sum\n",
    "}"
   ]
  },
  {
   "cell_type": "code",
   "execution_count": 3,
   "metadata": {},
   "outputs": [
    {
     "data": {
      "text/plain": [
       "\u001b[36ma\u001b[39m: \u001b[32mBankAccountSignal\u001b[39m = ammonite.$sess.cmd1$Helper$BankAccountSignal@1e1c9fe\n",
       "\u001b[36mb\u001b[39m: \u001b[32mBankAccountSignal\u001b[39m = ammonite.$sess.cmd1$Helper$BankAccountSignal@10c83d4\n",
       "\u001b[36mc\u001b[39m: \u001b[32mSignal\u001b[39m[\u001b[32mInt\u001b[39m] = ammonite.$sess.cmd0$Helper$Signal@46529e"
      ]
     },
     "execution_count": 3,
     "metadata": {},
     "output_type": "execute_result"
    }
   ],
   "source": [
    "val a,b = new BankAccountSignal                                                           \n",
    "val c = consolidated(List(a,b))   "
   ]
  },
  {
   "cell_type": "code",
   "execution_count": 4,
   "metadata": {},
   "outputs": [
    {
     "data": {
      "text/plain": [
       "\u001b[36mres3\u001b[39m: \u001b[32mInt\u001b[39m = \u001b[32m0\u001b[39m"
      ]
     },
     "execution_count": 4,
     "metadata": {},
     "output_type": "execute_result"
    }
   ],
   "source": [
    "c()"
   ]
  },
  {
   "cell_type": "code",
   "execution_count": 5,
   "metadata": {},
   "outputs": [],
   "source": [
    "a deposit 20"
   ]
  },
  {
   "cell_type": "code",
   "execution_count": 6,
   "metadata": {},
   "outputs": [
    {
     "data": {
      "text/plain": [
       "\u001b[36mres5\u001b[39m: \u001b[32mInt\u001b[39m = \u001b[32m20\u001b[39m"
      ]
     },
     "execution_count": 6,
     "metadata": {},
     "output_type": "execute_result"
    }
   ],
   "source": [
    "c()"
   ]
  },
  {
   "cell_type": "code",
   "execution_count": 7,
   "metadata": {},
   "outputs": [],
   "source": [
    "b deposit 30"
   ]
  },
  {
   "cell_type": "code",
   "execution_count": 8,
   "metadata": {},
   "outputs": [
    {
     "data": {
      "text/plain": [
       "\u001b[36mres7\u001b[39m: \u001b[32mInt\u001b[39m = \u001b[32m50\u001b[39m"
      ]
     },
     "execution_count": 8,
     "metadata": {},
     "output_type": "execute_result"
    }
   ],
   "source": [
    "c()"
   ]
  },
  {
   "cell_type": "markdown",
   "metadata": {},
   "source": [
    "Say, we want to have another signal exchange rate."
   ]
  },
  {
   "cell_type": "code",
   "execution_count": 10,
   "metadata": {},
   "outputs": [
    {
     "data": {
      "text/plain": [
       "\u001b[36mxchange\u001b[39m: \u001b[32mSignal\u001b[39m[\u001b[32mDouble\u001b[39m] = ammonite.$sess.cmd0$Helper$Signal@13e3806\n",
       "\u001b[36minDollar\u001b[39m: \u001b[32mSignal\u001b[39m[\u001b[32mDouble\u001b[39m] = ammonite.$sess.cmd0$Helper$Signal@4ee39e"
      ]
     },
     "execution_count": 10,
     "metadata": {},
     "output_type": "execute_result"
    }
   ],
   "source": [
    "val xchange = Signal(246.0)\n",
    "val inDollar = Signal(c()*xchange())"
   ]
  },
  {
   "cell_type": "code",
   "execution_count": 11,
   "metadata": {},
   "outputs": [
    {
     "data": {
      "text/plain": [
       "\u001b[36mres10\u001b[39m: \u001b[32mDouble\u001b[39m = \u001b[32m12300.0\u001b[39m"
      ]
     },
     "execution_count": 11,
     "metadata": {},
     "output_type": "execute_result"
    }
   ],
   "source": [
    "inDollar()"
   ]
  },
  {
   "cell_type": "code",
   "execution_count": 12,
   "metadata": {},
   "outputs": [],
   "source": [
    "b withdraw 10"
   ]
  },
  {
   "cell_type": "code",
   "execution_count": 13,
   "metadata": {},
   "outputs": [
    {
     "data": {
      "text/plain": [
       "\u001b[36mres12\u001b[39m: \u001b[32mDouble\u001b[39m = \u001b[32m9840.0\u001b[39m"
      ]
     },
     "execution_count": 13,
     "metadata": {},
     "output_type": "execute_result"
    }
   ],
   "source": [
    "inDollar()"
   ]
  },
  {
   "cell_type": "markdown",
   "metadata": {},
   "source": [
    "That's bank account done redone with signals. It's much shorter and cleaner. \n",
    "Note that there’s an important difference between the variable assignment\n",
    "\n",
    "`v = v + 1`\n",
    "and the signal update\n",
    "\n",
    "`s() = s() + 1`\n",
    "\n",
    "In the first case, the new value of `v` becomes the `_old+ value of v plus 1`.\n",
    "\n",
    "In the second case, we try define a signal `s` to be at all points in time one\n",
    "larger than itself.\n",
    "This obviously makes no sense!"
   ]
  },
  {
   "cell_type": "markdown",
   "metadata": {},
   "source": [
    "Consider the two code fragments below\n",
    "\n",
    "```scala\n",
    "val num = Signal(1) val twice = Signal(num() * 2) num() = 2\n",
    "```\n",
    "\n",
    "```scala \n",
    "var num = Signal(1) val twice = Signal(num() * 2) num = Signal(2)\n",
    "```\n",
    "\n",
    "So they yield the same final value for twice()?"
   ]
  },
  {
   "cell_type": "markdown",
   "metadata": {},
   "source": [
    "In second case num points to new signal whose value is 2. While the first always stays 2."
   ]
  }
 ],
 "metadata": {
  "kernelspec": {
   "display_name": "Scala",
   "language": "scala",
   "name": "scala"
  },
  "language_info": {
   "codemirror_mode": "text/x-scala",
   "file_extension": ".sc",
   "mimetype": "text/x-scala",
   "name": "scala",
   "nbconvert_exporter": "script",
   "version": "2.13.3"
  }
 },
 "nbformat": 4,
 "nbformat_minor": 4
}
