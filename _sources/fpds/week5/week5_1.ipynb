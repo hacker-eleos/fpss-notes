{
 "cells": [
  {
   "cell_type": "markdown",
   "metadata": {},
   "source": [
    "# Imperative Event Handling: The Observer Pattern\n"
   ]
  },
  {
   "cell_type": "markdown",
   "metadata": {},
   "source": [
    "We are going to look at traditional ways to handle event handling. The traditional way to deal with user interface is with observer pattern. We are going to look at different way to treat events in these programs functional reactive programming where events are essentially summarized as signals."
   ]
  },
  {
   "cell_type": "markdown",
   "metadata": {},
   "source": [
    "The Observer Pattern is widely used when views need to react to changes in a model.\n",
    "Some variants are also called \n",
    "* publish/subscribe  \n",
    "* model/view/controller (MVC)\n",
    "\n",
    "The idea is we have some sort of model, which captures the state of an appplication. We might have one or more views that present the state. Views can announce themselves to the model with a method called subscribe. The model will then change publish the fact new information is available. Views can enquire the model and change it's presentation. There could be multiple views subscribed to the same model. \n",
    "\n",
    "Here is a trait for publisher."
   ]
  },
  {
   "cell_type": "code",
   "execution_count": 4,
   "metadata": {},
   "outputs": [
    {
     "data": {
      "text/plain": [
       "defined trait Publisher\r\n",
       "defined trait Subscriber\r\n"
      ]
     },
     "execution_count": 4,
     "metadata": {},
     "output_type": "execute_result"
    }
   ],
   "source": [
    "trait Publisher {\n",
    "private var subscribers: Set[Subscriber] = Set()\n",
    "def subscribe(subscriber: Subscriber): Unit =\n",
    "subscribers += subscriber\n",
    "def unsubscribe(subscriber: Subscriber): Unit =\n",
    "subscribers -= subscriber\n",
    "def publish(): Unit =\n",
    "subscribers.foreach(_.handler(this))\n",
    "}\n",
    "trait Subscriber {\n",
    "def handler(pub: Publisher)\n",
    "}"
   ]
  },
  {
   "cell_type": "markdown",
   "metadata": {},
   "source": [
    "Publishers maintain internally a set of subscribers. You can add a new subsriber to the publisher using method `subscribe`, which announces the publisher. The dual of `subscribe` is `unsubscribe`. Anothe method `publish`, it would go through all subscribers and invokes `handler` method.\n",
    "\n",
    "Subscriber need to have only `handler` method. We pass the publisher that publish new information as parameter.\n",
    "\n",
    "Let’s make BankAccount a Publisher:"
   ]
  },
  {
   "cell_type": "code",
   "execution_count": 8,
   "metadata": {},
   "outputs": [
    {
     "data": {
      "text/plain": [
       "defined class BankAccount\r\n"
      ]
     },
     "execution_count": 8,
     "metadata": {},
     "output_type": "execute_result"
    }
   ],
   "source": [
    "class BankAccount extends Publisher {\n",
    "    private var balance = 0\n",
    "    def deposit(amount: Int): Unit =\n",
    "    if (amount > 0) {\n",
    "    balance = balance + amount\n",
    "    publish()\n",
    "    }\n",
    "    def withdraw(amount: Int): Unit =\n",
    "    if (0 < amount && amount <= balance) {\n",
    "    balance = balance - amount\n",
    "    publish() \n",
    "    } else throw new Error(\"insufficient funds\")\n",
    "}"
   ]
  },
  {
   "cell_type": "code",
   "execution_count": 9,
   "metadata": {},
   "outputs": [
    {
     "data": {
      "text/plain": [
       "defined class BankAccount\r\n"
      ]
     },
     "execution_count": 9,
     "metadata": {},
     "output_type": "execute_result"
    }
   ],
   "source": [
    "class BankAccount extends Publisher {\n",
    "    \n",
    "}"
   ]
  },
  {
   "cell_type": "code",
   "execution_count": null,
   "metadata": {},
   "outputs": [],
   "source": []
  }
 ],
 "metadata": {
  "kernelspec": {
   "display_name": "spylon-kernel",
   "language": "scala",
   "name": "spylon-kernel"
  },
  "language_info": {
   "codemirror_mode": "text/x-scala",
   "file_extension": ".scala",
   "help_links": [
    {
     "text": "MetaKernel Magics",
     "url": "https://metakernel.readthedocs.io/en/latest/source/README.html"
    }
   ],
   "mimetype": "text/x-scala",
   "name": "scala",
   "pygments_lexer": "scala",
   "version": "0.4.1"
  }
 },
 "nbformat": 4,
 "nbformat_minor": 4
}
