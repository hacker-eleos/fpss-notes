{
 "cells": [
  {
   "cell_type": "markdown",
   "metadata": {},
   "source": [
    "# Implicit Conversions\n",
    "Implicit conversions make it possible to automatically convert an expression of a given type to an expression of a different type.\n",
    "\n",
    "This mechanism is usually used to provide more ergonomic APIs. In this lesson, we will see how to use them to design a JSON library and a duration library with the following user-facing syntax:\n",
    "\n",
    "```scala\n",
    "// { \"name\": \"Paul\", \"age\": 42 }\n",
    "Json.obj(\"name\" -> \"Paul\", \"age\" -> 42)\n",
    "\n",
    "val delay = 15.seconds \n",
    "```"
   ]
  },
  {
   "cell_type": "markdown",
   "metadata": {},
   "source": [
    "## Type Coercion\n",
    "JSON is a data-interchange format often used in web applications. As an example, here is a JSON document describing a user with a name and an age:\n",
    "\n",
    "```json\n",
    "{ \"name\": \"Paul\", \"age\": 42 }\n",
    "```\n",
    "\n",
    "JSON is text-based format. To manipulate JSON documents in our programs, it is more convenient to parse these documents into an Abstract Syntax Tree (AST).\n",
    "\n",
    "Here is a Scala definition of a Json AST:"
   ]
  },
  {
   "cell_type": "code",
   "execution_count": 1,
   "metadata": {},
   "outputs": [
    {
     "data": {
      "text/plain": [
       "Intitializing Scala interpreter ..."
      ]
     },
     "metadata": {},
     "output_type": "display_data"
    },
    {
     "data": {
      "text/plain": [
       "Spark Web UI available at http://MININT-PN59L2S.mshome.net:4040\n",
       "SparkContext available as 'sc' (version = 3.0.1, master = local[*], app id = local-1609400245700)\n",
       "SparkSession available as 'spark'\n"
      ]
     },
     "metadata": {},
     "output_type": "display_data"
    },
    {
     "data": {
      "text/plain": [
       "defined trait Json\r\n",
       "defined class JNumber\r\n",
       "defined class JString\r\n",
       "defined class JBoolean\r\n",
       "defined class JArray\r\n",
       "defined class JObject\r\n"
      ]
     },
     "execution_count": 1,
     "metadata": {},
     "output_type": "execute_result"
    }
   ],
   "source": [
    "sealed trait Json\n",
    "case class JNumber(value: BigDecimal) extends Json\n",
    "case class JString(value: String) extends Json\n",
    "case class JBoolean(value: Boolean) extends Json\n",
    "case class JArray(elems: List[Json]) extends Json\n",
    "case class JObject(fields: (String, Json)*) extends Json"
   ]
  },
  {
   "cell_type": "markdown",
   "metadata": {},
   "source": [
    "With this definition, the JSON document shown above can be constructed like the following:"
   ]
  },
  {
   "cell_type": "code",
   "execution_count": 2,
   "metadata": {},
   "outputs": [
    {
     "data": {
      "text/plain": [
       "res0: JObject = JObject(WrappedArray((name,JString(Paul)), (age,JNumber(42))))\r\n"
      ]
     },
     "execution_count": 2,
     "metadata": {},
     "output_type": "execute_result"
    }
   ],
   "source": [
    "JObject(\"name\" -> JString(\"Paul\"), \"age\" -> JNumber(42))"
   ]
  },
  {
   "cell_type": "markdown",
   "metadata": {},
   "source": [
    "This works fine, but it is a bit more verbose than the plain JSON syntax. Would it be possible to design an API providing a syntax closer to plain JSON than the current syntax?\n",
    "\n",
    "Again, here is the JSON document that we used as an example:\n",
    "```json\n",
    "{ \"name\": \"Paul\", \"age\": 42 }\n",
    "```"
   ]
  },
  {
   "cell_type": "markdown",
   "metadata": {},
   "source": [
    "Would it be possible to support the following user-facing Scala syntax instead?\n",
    "```scala\n",
    "obj(\"name\" -> \"Paul\", \"age\" -> 42)\n",
    "```\n",
    "\n",
    "To achieve that, we provide implicit conversions to convert String values to JSON string values, and Int values to JSON number values, and so on for other possible JSON values:\n",
    "\n",
    "```scala\n",
    "object Json {\n",
    "  import scala.language.implicitConversions\n",
    "  implicit def stringToJson(s: String): Json = JString(s)\n",
    "  implicit def intToJson(n: Int): Json = JNumber(n)\n",
    "  ...\n",
    "}\n",
    "```\n",
    "Before defining the implicit conversions, we inform the compiler of our intent by writing the import clause `import scala.language.implicitConversions`"
   ]
  },
  {
   "cell_type": "markdown",
   "metadata": {},
   "source": [
    "Implicit conversions are implicit definitions that take exactly one (non-implicit) parameter. These conversions can be used by the compiler when the code would otherwise not type check.\n",
    "\n",
    "Now, all the pieces are in place to support the desired user-facing syntax:\n",
    "\n",
    "```scala\n",
    "obj(\"name\" -> \"Paul\", \"age\" -> 42)\n",
    "\n",
    "```\n",
    "This expression is not well typed as it is written, so the compiler implicitly inserts the following conversions to make it well typed:\n",
    "```scala\n",
    "obj(\n",
    "  \"name\" -> Json.stringToJson(\"Paul\"),\n",
    "  \"age\" -> Json.intToJson(42)\n",
    ")\n",
    "```\n",
    "In this example, we have seen that implicit conversions can be used to perform **type coercion.**\n",
    "\n"
   ]
  },
  {
   "cell_type": "code",
   "execution_count": 3,
   "metadata": {},
   "outputs": [
    {
     "data": {
      "text/plain": [
       "defined trait Json\r\n",
       "defined class JNumber\r\n",
       "defined class JString\r\n",
       "defined class JBoolean\r\n",
       "defined class JArray\r\n",
       "defined class JObject\r\n",
       "defined object Json\r\n",
       "res1: JArray = JArray(List(JString(Int), JString(String)))\r\n"
      ]
     },
     "execution_count": 3,
     "metadata": {},
     "output_type": "execute_result"
    }
   ],
   "source": [
    "sealed trait Json\n",
    "case class JNumber(value: BigDecimal) extends Json\n",
    "case class JString(value: String) extends Json\n",
    "case class JBoolean(value: Boolean) extends Json\n",
    "case class JArray(elems: List[Json]) extends Json\n",
    "case class JObject(fields: (String, Json)*) extends Json\n",
    "object Json {\n",
    "  import scala.language.implicitConversions\n",
    "  implicit def stringToJson(s: String): Json = JString(s)\n",
    "  implicit def intToJson(n: Int): Json = JNumber(n)\n",
    "}\n",
    "JObject(\"name\" -> \"Paul\", \"age\" -> 42)\n",
    "JArray(List(1,2,3))\n",
    "JArray(List(\"Int\",\"String\"))"
   ]
  },
  {
   "cell_type": "markdown",
   "metadata": {},
   "source": [
    "Extension Methods\n",
    "The second example shows how to implement extension methods.\n",
    "\n",
    "Consider the following type Duration:"
   ]
  },
  {
   "cell_type": "code",
   "execution_count": 23,
   "metadata": {},
   "outputs": [
    {
     "data": {
      "text/plain": [
       "import java.util.concurrent.TimeUnit\r\n",
       "defined class Duration\r\n"
      ]
     },
     "execution_count": 23,
     "metadata": {},
     "output_type": "execute_result"
    }
   ],
   "source": [
    "import java.util.concurrent.TimeUnit\n",
    "case class Duration(value: Int, unit: TimeUnit)"
   ]
  },
  {
   "cell_type": "markdown",
   "metadata": {},
   "source": [
    "Defining a duration of “15 seconds” looks like the following:\n",
    "\n"
   ]
  },
  {
   "cell_type": "code",
   "execution_count": 13,
   "metadata": {},
   "outputs": [
    {
     "data": {
      "text/plain": [
       "delay: Duration = Duration(15,SECONDS)\r\n"
      ]
     },
     "execution_count": 13,
     "metadata": {},
     "output_type": "execute_result"
    }
   ],
   "source": [
    "val delay = Duration(15, TimeUnit.SECONDS)"
   ]
  },
  {
   "cell_type": "markdown",
   "metadata": {},
   "source": [
    "Would it be possible to support a more concise and direct syntax, like this one for instance?\n",
    "```scala\n",
    "val delay = 15.seconds\n",
    "```\n",
    "We need to enrich the type `Int` with a method `seconds`. We achieve this by creating an `implicit class HasSeconds` that has a method `seconds` and that takes a number of seconds as a constructor parameter:\n"
   ]
  },
  {
   "cell_type": "code",
   "execution_count": 24,
   "metadata": {},
   "outputs": [
    {
     "data": {
      "text/plain": [
       "defined class Duration\r\n",
       "defined object Duration\r\n"
      ]
     },
     "execution_count": 24,
     "metadata": {},
     "output_type": "execute_result"
    }
   ],
   "source": [
    "case class Duration(value: Int, unit: TimeUnit)\n",
    "object Duration {\n",
    "\n",
    "  object Syntax {\n",
    "    import scala.language.implicitConversions\n",
    "    implicit class HasSeconds(n: Int) {\n",
    "      def seconds: Duration = Duration(n, TimeUnit.SECONDS)\n",
    "    }\n",
    "  }\n",
    "\n",
    "}"
   ]
  },
  {
   "cell_type": "markdown",
   "metadata": {},
   "source": [
    "The usage looks like this:\n",
    "\n"
   ]
  },
  {
   "cell_type": "code",
   "execution_count": 22,
   "metadata": {},
   "outputs": [
    {
     "data": {
      "text/plain": [
       "import Duration.Syntax._\r\n",
       "delay: Duration = Duration(15,SECONDS)\r\n"
      ]
     },
     "execution_count": 22,
     "metadata": {},
     "output_type": "execute_result"
    }
   ],
   "source": [
    "import Duration.Syntax._\n",
    "\n",
    "val delay = 15.seconds"
   ]
  },
  {
   "cell_type": "markdown",
   "metadata": {},
   "source": [
    "The compiler implicitly inserts the following conversion:\n",
    "```scala\n",
    "val delay = new HasSeconds(15).seconds\n",
    "```\n",
    "Constructors of implicit classes act as implicit conversions."
   ]
  },
  {
   "cell_type": "markdown",
   "metadata": {},
   "source": [
    "Implicit Conversions\n",
    "We have seen two examples of usage of implicit conversions. In this section, we explain how the compiler uses (and doesn’t use) them.\n",
    "\n",
    "The compiler looks for implicit conversions on an expression e of type T in the following situations:\n",
    "\n",
    "* T does not conform to the expression’s expected type,\n",
    "* in a selection e.m, if member m is not accessible on T,\n",
    "* in a selection e.m(args), if member m is accessible on T but is not applicable to the arguments args.\n",
    "\n",
    "In all these cases, the compiler will look for an implicit conversion that, if it is applied, makes the expression type check.\n",
    "\n",
    "Implicit conversions are implicit methods (or implicit class constructors) that take exactly one non-implicit parameter (and possibly additional implicit parameters).\n",
    "\n",
    "Note: at most one implicit conversion can be applied to a given expression.\n",
    "\n",
    "Implicit conversions are searched in the same places as implicit definitions: in the enclosing lexical scope (local definitions, inherited definitions, or imported definitions), or in the implicit search scope (companion objects) of the expected type or the expression’s type.\n",
    "\n",
    "For instance, in the second example the implicit class HasSeconds is found in the imported implicit definitions (`import Duration.Syntax._`). However, in the first example, the implicit conversions are found in the companion object of the expected type Json (the method obj expects arguments of type `Json`).\n",
    "\n",
    "We conclude this lesson with a warning. Because implicit conversions are silently applied by the compiler and they change the type of expressions, they can confuse developers reading code. Care must be taken when using implicit conversions: reducing boilerplate is a good purpose, but this should always be balanced with the possible drawbacks of not seeing pieces of code that are yet part of the program."
   ]
  }
 ],
 "metadata": {
  "kernelspec": {
   "display_name": "spylon-kernel",
   "language": "scala",
   "name": "spylon-kernel"
  },
  "language_info": {
   "codemirror_mode": "text/x-scala",
   "file_extension": ".scala",
   "help_links": [
    {
     "text": "MetaKernel Magics",
     "url": "https://metakernel.readthedocs.io/en/latest/source/README.html"
    }
   ],
   "mimetype": "text/x-scala",
   "name": "scala",
   "pygments_lexer": "scala",
   "version": "0.4.1"
  }
 },
 "nbformat": 4,
 "nbformat_minor": 4
}
