{
 "cells": [
  {
   "cell_type": "markdown",
   "metadata": {},
   "source": [
    "# Implicit Conversions\n",
    "Implicit conversions make it possible to automatically convert an expression of a given type to an expression of a different type.\n",
    "\n",
    "This mechanism is usually used to provide more ergonomic APIs. In this lesson, we will see how to use them to design a JSON library and a duration library with the following user-facing syntax:\n",
    "\n",
    "```scala\n",
    "// { \"name\": \"Paul\", \"age\": 42 }\n",
    "Json.obj(\"name\" -> \"Paul\", \"age\" -> 42)\n",
    "\n",
    "val delay = 15.seconds \n",
    "```"
   ]
  },
  {
   "cell_type": "code",
   "execution_count": null,
   "metadata": {},
   "outputs": [],
   "source": []
  }
 ],
 "metadata": {
  "kernelspec": {
   "display_name": "spylon-kernel",
   "language": "scala",
   "name": "spylon-kernel"
  },
  "language_info": {
   "codemirror_mode": "text/x-scala",
   "file_extension": ".scala",
   "help_links": [
    {
     "text": "MetaKernel Magics",
     "url": "https://metakernel.readthedocs.io/en/latest/source/README.html"
    }
   ],
   "mimetype": "text/x-scala",
   "name": "scala",
   "pygments_lexer": "scala",
   "version": "0.4.1"
  }
 },
 "nbformat": 4,
 "nbformat_minor": 4
}
