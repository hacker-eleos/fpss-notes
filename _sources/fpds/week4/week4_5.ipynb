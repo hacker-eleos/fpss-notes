{
 "cells": [
  {
   "cell_type": "markdown",
   "metadata": {},
   "source": [
    "## Discrete Event Simulation: API and Usage\n",
    "The class `Wire` and the functions `inverter`, `andGate`, and `orGate` represent a small description language of digital circuits.\n",
    "\n",
    "We now give the implementation of this class and its functions which allow us to simulate circuits.\n",
    "\n",
    "These implementations are based on a simple API for discrete event simulation."
   ]
  },
  {
   "cell_type": "markdown",
   "metadata": {},
   "source": [
    "A discrete event simulator performs actions, specified by the user at a given moment.\n",
    "\n",
    "An action is a function that doesn’t take any parameters and which returns `Unit`:\n",
    "```scala\n",
    "type Action = () => Unit\n",
    "\n",
    "```\n",
    "\n",
    "The time is simulated; it has nothing to with the actual time."
   ]
  }
 ],
 "metadata": {
  "kernelspec": {
   "display_name": "Scala",
   "language": "scala",
   "name": "scala"
  },
  "language_info": {
   "codemirror_mode": "text/x-scala",
   "file_extension": ".sc",
   "mimetype": "text/x-scala",
   "name": "scala",
   "nbconvert_exporter": "script",
   "version": "2.13.3"
  }
 },
 "nbformat": 4,
 "nbformat_minor": 4
}
