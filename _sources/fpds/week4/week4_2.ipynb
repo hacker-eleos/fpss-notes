{
 "cells": [
  {
   "cell_type": "markdown",
   "metadata": {},
   "source": [
    "# Identity and Change"
   ]
  },
  {
   "cell_type": "markdown",
   "metadata": {},
   "source": [
    "Assignment poses the new problem of deciding whether two expressions\n",
    "are “the same”\n",
    "When one excludes assignments and one writes:\n",
    "```scala\n",
    "val x = E; val y = E\n",
    "```\n",
    "where `E` is an arbitrary expression, then it is reasonable to assume that `x`\n",
    "and `y` are the same. \n",
    "That is to say that we could have also written:\n",
    "```scala\n",
    "val x = E; val y = x\n",
    "```\n",
    "(This property is usually called referential transparency)"
   ]
  },
  {
   "cell_type": "markdown",
   "metadata": {},
   "source": [
    "But once we allow the assignment, the two formulations are different. For example:\n",
    "```scala\n",
    "val x = new BankAccount\n",
    "val y = new BankAccount\n",
    "\n",
    "```\n",
    "Are `x` and `y` same here?\n",
    "\n",
    "To respond to the last question, we must specify what is meant by “the same”.\n",
    "\n",
    "The precise meaning of “being the same” is defined by the property of operational equivalence.\n",
    "\n",
    "In a somewhat informal way, this property is stated as follows.\n",
    "\n",
    "Suppose we have two definitions `x` and `y`.\n",
    "\n",
    "`x` and `y` are operationally equivalent if no possible test can distinguish\n",
    "between them.\n",
    "\n",
    "\n",
    "To test if x and y are the same, we must\n",
    "* Execute the definitions followed by an arbitrary sequence of operations that involves x and y, observing the possible outcomes.\n",
    "\n",
    "```scala\n",
    "val x = new BankAccount  \n",
    "val y = new BankAccount \n",
    "f(x, y) \n",
    "\n",
    "```\n",
    "\n",
    "```scala\n",
    "val x = new BankAccount\n",
    "val y = new BankAccount\n",
    "f(x, x)\n",
    "```\n",
    "* Then, execute the definitions with another sequence `S’` obtained by renaming all occurrences of `y` by `x` in `S`.\n",
    "\n",
    "* If the results are different, then the expressions `x` and `y` are certainly different.\n",
    "\n",
    "* On the other hand, if all possible pairs of sequences (`S`, `S’`) produce the same result, then `x` and `y` are the same."
   ]
  },
  {
   "cell_type": "markdown",
   "metadata": {},
   "source": [
    "Let’s follow the definitions by a test sequence:\n",
    "```scala\n",
    "val x = new BankAccount\n",
    "val y = new BankAccount\n",
    "x deposit 30 // val res1: Int = 30\n",
    "y withdraw 20\n",
    "```\n",
    "\n",
    "Now rename all occurrences of `y` with `x` in this sequence. We obtain:\n",
    "\n",
    "```scala\n",
    "val x = new BankAccount\n",
    "val y = new BankAccount\n",
    "x deposit 30 // val res1: Int = 30\n",
    "x withdraw 20 // val res2: Int = 10\n",
    "```\n",
    "The final results are different. We conclude that `x` and `y are not the same."
   ]
  },
  {
   "cell_type": "markdown",
   "metadata": {},
   "source": [
    "The preceding examples show that our model of computation by substitution cannot be used.\n",
    "\n",
    "Indeed, according to this model, one can always replace the name of a\n",
    "value by the expression that defines it. For example, in\n",
    "```scala\n",
    "val x = new BankAccount \n",
    "val y = x \n",
    "```\n",
    "\n",
    "```scala\n",
    "val y = new BankAccount\n",
    "val x = new BankAccount\n",
    "```\n",
    "\n",
    "the `x` in the definition of `y` could be replaced by `new BankAccount`\n",
    "But we have seen that this change leads to a different program!\n",
    "\n",
    "The substitution model ceases to be valid when we add the assignment.\n",
    "\n",
    "It is possible to adapt the substitution model by introducing a store, but\n",
    "this becomes considerably more complicated."
   ]
  },
  {
   "cell_type": "code",
   "execution_count": null,
   "metadata": {},
   "outputs": [],
   "source": []
  }
 ],
 "metadata": {
  "kernelspec": {
   "display_name": "Scala",
   "language": "scala",
   "name": "scala"
  },
  "language_info": {
   "codemirror_mode": "text/x-scala",
   "file_extension": ".sc",
   "mimetype": "text/x-scala",
   "name": "scala",
   "nbconvert_exporter": "script",
   "version": "2.13.3"
  }
 },
 "nbformat": 4,
 "nbformat_minor": 4
}
