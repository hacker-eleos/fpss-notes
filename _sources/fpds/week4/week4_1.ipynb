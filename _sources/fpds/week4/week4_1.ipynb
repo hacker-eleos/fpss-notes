{
 "cells": [
  {
   "cell_type": "markdown",
   "metadata": {},
   "source": [
    "# Functions and State\n",
    "\n",
    "\n",
    "So far our programs are side-effect free. That means all program that terminate, any sequence of actions would give the same result. This was reflected also on the substitution model of the computation.\n",
    "We are going to broaden our notion of functions, to work with mutable state.\n",
    "\n",
    "In substitution model, the programs can be evaluated by rewriting the program text\n",
    "The most important rewrite rule covers function applications:\n",
    "\n",
    "```scala\n",
    "def f(x1, ..., xn) = B; ... f(v1, ..., vn)\n",
    "→\n",
    "def f(x1, ..., xn) = B; ... [v1/x1, ..., vn/xn] B\n",
    "```\n",
    "\n",
    "In the above example, the call for `f` with actual parameter `f(v1, ..., vn)` can be evaluated by substituting all the occurrences of formal parameters `x1, x2, ..., xn` with `v1, v2, ..., vn`.\n",
    "\n",
    "Let's see it in action in an example.\n",
    "\n",
    "```scala\n",
    "def iterate(n: Int, f: Int => Int, x: Int) =\n",
    "if (n == 0) x else iterate(n-1, f, f(x))\n",
    "def square(x: Int) = x * x\n",
    "iterate(1, square, 3)\n",
    "```\n",
    "\n",
    "```scala\n",
    "→ if (1 == 0) 3 else iterate(1-1, square, square(3))\n",
    "→ iterate(0, square, square(3))\n",
    "→ iterate(0, square, 3 * 3)\n",
    "→ iterate(0, square, 9)\n",
    "→ if (0 == 0) 9 else iterate(0-1, square, square(9)) → 9\n",
    "```\n",
    "\n",
    "Rewriting can be done anywhere in the term and all rewriting which terminate leads to same result. This is a important result of $\\lambda-$ calculus, theory behind functional programming.\n",
    "\n",
    "```scala\n",
    "if (1 == 0) 3 else iterate(1 - 1, square, square(3))\n",
    "iterate(0, square, square(3)) if (1 == 0) 3 // first way\n",
    "else iterate(1 - 1, square, 3 * 3) //another way to rewrite\n",
    "```\n",
    "\n",
    "Both paths would give the same result. This property is called confluence (Church-Russev Theorem).\n",
    "\n",
    "Let's introduce state in the objects. States can change over the course of time. An object has a state, if it's behavior is influenced by the history.\n",
    "\n",
    "Every form of state is constructed from variable. In Scala, we use the keyword `var` to create variable. In practice object with state are represented as object with variables as members.\n",
    "\n",
    "Here is an example of bank account:\n",
    "\n",
    "```scala\n",
    "class BankAccount {\n",
    "private var balance = 0\n",
    "def deposit(amount: Int): Unit = {\n",
    "if (amount > 0) balance = balance + amount\n",
    "}\n",
    "def withdraw(amount: Int): Int =\n",
    "if (0 < amount && amount <= balance) {\n",
    "balance = balance - amount\n",
    "balance\n",
    "} else throw new Error(\"insufficient funds\")\n",
    "}\n",
    "```"
   ]
  },
  {
   "cell_type": "code",
   "execution_count": 1,
   "metadata": {},
   "outputs": [
    {
     "data": {
      "text/plain": [
       "defined \u001b[32mclass\u001b[39m \u001b[36mBankAccount\u001b[39m"
      ]
     },
     "execution_count": 1,
     "metadata": {},
     "output_type": "execute_result"
    }
   ],
   "source": [
    "class BankAccount {\n",
    "private var balance = 0\n",
    "def deposit(amount: Int): Unit = {\n",
    "if (amount > 0) balance = balance + amount\n",
    "}\n",
    "def withdraw(amount: Int): Int =\n",
    "if (0 < amount && amount <= balance) {\n",
    "balance = balance - amount\n",
    "balance\n",
    "} else throw new Error(\"insufficient funds\")\n",
    "}"
   ]
  },
  {
   "cell_type": "code",
   "execution_count": 2,
   "metadata": {},
   "outputs": [
    {
     "data": {
      "text/plain": [
       "\u001b[36macct\u001b[39m: \u001b[32mBankAccount\u001b[39m = ammonite.$sess.cmd0$Helper$BankAccount@aed5c5"
      ]
     },
     "execution_count": 2,
     "metadata": {},
     "output_type": "execute_result"
    }
   ],
   "source": [
    "val acct = new BankAccount\n",
    "acct deposit 50"
   ]
  },
  {
   "cell_type": "code",
   "execution_count": 3,
   "metadata": {},
   "outputs": [
    {
     "data": {
      "text/plain": [
       "\u001b[36mres2\u001b[39m: \u001b[32mInt\u001b[39m = \u001b[32m30\u001b[39m"
      ]
     },
     "execution_count": 3,
     "metadata": {},
     "output_type": "execute_result"
    }
   ],
   "source": [
    "acct withdraw 20"
   ]
  },
  {
   "cell_type": "code",
   "execution_count": 4,
   "metadata": {},
   "outputs": [
    {
     "ename": "",
     "evalue": "",
     "output_type": "error",
     "traceback": [
      "\u001b[31mjava.lang.Error: insufficient funds\u001b[39m\n  ammonite.$sess.cmd0$Helper$BankAccount.withdraw(\u001b[32mcmd0.sc\u001b[39m:\u001b[32m10\u001b[39m)\n  ammonite.$sess.cmd3$Helper.<init>(\u001b[32mcmd3.sc\u001b[39m:\u001b[32m1\u001b[39m)\n  ammonite.$sess.cmd3$.<clinit>(\u001b[32mcmd3.sc\u001b[39m:\u001b[32m7\u001b[39m)"
     ]
    }
   ],
   "source": [
    "acct withdraw 40"
   ]
  },
  {
   "cell_type": "markdown",
   "metadata": {},
   "source": [
    "Clearly accounts are stateful objects. Effect of withdraw depends on the history of the object. Statefullness and variables are connected, let's how tight (or lossely) coupled."
   ]
  },
  {
   "cell_type": "markdown",
   "metadata": {},
   "source": [
    "Remember the definition of streams (lazy sequences). Instead of using a `lazy val`, we could also implement non-empty streams using a mutable variable:\n",
    "\n",
    "```scala\n",
    "def cons[T](hd: T, tl: => Stream[T]) = new Stream[T] {\n",
    "def head = hd\n",
    "private var tlOpt: Option[Stream[T]] = None\n",
    "def tail: T = tlOpt match {\n",
    "case Some(x) => x\n",
    "case None => tlOpt = Some(tl); tail\n",
    "}}\n",
    "```\n",
    "Is the result of  `cons` a stateful object?\n"
   ]
  },
  {
   "cell_type": "markdown",
   "metadata": {},
   "source": [
    "It depends on the assumption you make on the rest of the system. One common assumption is streams are defined over purely functional computations. So the tail operation should not have side effects. In that case, optimization to cache `tail` and `tailOpt` to reuse it on all previous call to tails is purely a optimization that doesn't have a observable side effect outside the class of streams.\n",
    "\n",
    "On the other hand, let's say tail could have a printing statement, then you would see that the second time tail is called in this string. It would come straight out of the cache, so there would be no side effect performed. Whereas, the first time, it would be called the operation would be performed, including the printing statement. So that means clearly the operation tail depends on the previous history of the object. It would be different depending on whether a previous tail was performed or not. So in that sense, the answer would be cons is a stateful object, provided that you also allow imperative side effect in computations for tail."
   ]
  },
  {
   "cell_type": "markdown",
   "metadata": {},
   "source": [
    "Consider the following class:\n",
    "\n",
    "```scala\n",
    "class BankAccountProxy(ba: BankAccount) {\n",
    "def deposit(amount: Int): Unit = ba.deposit(amount)\n",
    "def withdraw(amount: Int): Int = ba.withdraw(amount)\n",
    "}\n",
    "```\n",
    "\n",
    "Question: Are instances of `BankAccountProxy` stateful objects?"
   ]
  },
  {
   "cell_type": "markdown",
   "metadata": {},
   "source": [
    "Clearly, `BankAccountProxy` are stateful objects, because calling withdraw twice might lead to out of balance."
   ]
  }
 ],
 "metadata": {
  "kernelspec": {
   "display_name": "Scala",
   "language": "scala",
   "name": "scala"
  },
  "language_info": {
   "codemirror_mode": "text/x-scala",
   "file_extension": ".sc",
   "mimetype": "text/x-scala",
   "name": "scala",
   "nbconvert_exporter": "script",
   "version": "2.13.3"
  }
 },
 "nbformat": 4,
 "nbformat_minor": 4
}
