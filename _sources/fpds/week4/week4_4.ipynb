{
 "cells": [
  {
   "cell_type": "markdown",
   "metadata": {},
   "source": [
    "# Discrete Event Simulation"
   ]
  },
  {
   "cell_type": "markdown",
   "metadata": {},
   "source": [
    "Here’s an example that shows how assignments and higher-order functions can be combined in interesting ways.\n",
    "We will construct a digital circuit simulator.\n",
    "The simulator is based on a general framework for discrete event simulation."
   ]
  },
  {
   "cell_type": "markdown",
   "metadata": {},
   "source": [
    "Let’s start with a small description language for digital circuits.\n",
    "\n",
    "A digital circuit is composed of wires and of functional components.\n",
    "Wires transport signals that are transformed by components.\n",
    "\n",
    "We represent signals using booleans `true` and `false`.\n",
    "\n",
    "The base components (gates) are:\n",
    "* The `Inverter`, whose output is the inverse of its input.\n",
    "* The `AND` Gate, whose output is the conjunction of its inputs.\n",
    "* The `OR` Gate, whose output is the disjunction of its inputs.\n",
    "\n",
    "Other components can be constructed by combining these base components.\n",
    "\n",
    "The components have a reaction time (or delay), i.e. their outputs don’t change immediately after a change to their inputs."
   ]
  },
  {
   "cell_type": "markdown",
   "metadata": {},
   "source": [
    "We describe the elements of a digital circuit using the following Scala classes and functions.\n",
    "\n",
    "To start with, the class `Wire` models wires.\n",
    "\n",
    "Wires can be constructed as follows:\n",
    "```scala\n",
    "val a = new Wire; val b = new Wire; val c = new Wire\n",
    "```\n",
    "or, equivalently:\n",
    "\n",
    "```scala\n",
    "val a, b, c = new Wire\n",
    "```"
   ]
  },
  {
   "cell_type": "markdown",
   "metadata": {},
   "source": [
    "Then, there are the following functions. Each has a side effect that creates\n",
    "a gate.\n",
    "\n",
    "```scala\n",
    "def inverter(input: Wire, output: Wire): Unit\n",
    "def andGate(a1: Wire, a2: Wire, output: Wire): Unit\n",
    "def orGate(o1: Wire, o2: Wire, output: Wire): Unit\n",
    "```"
   ]
  },
  {
   "cell_type": "markdown",
   "metadata": {},
   "source": [
    "For example, a half-adder can be defined as follows:\n",
    "\n",
    "```scala\n",
    "def halfAdder(a: Wire, b: Wire, s: Wire, c: Wire): Unit = {\n",
    "val d = new Wire\n",
    "val e = new Wire\n",
    "orGate(a, b, d)\n",
    "andGate(a, b, c)\n",
    "inverter(c, e)\n",
    "andGate(d, e, s)\n",
    "}\n",
    "```"
   ]
  },
  {
   "cell_type": "markdown",
   "metadata": {},
   "source": [
    "This half-adder can in turn be used to define a full adder:\n",
    "\n",
    "```scala\n",
    "def fullAdder(a: Wire, b: Wire, cin: Wire, sum: Wire, cout: Wire): Unit = {\n",
    "val s = new Wire\n",
    "val c1 = new Wire\n",
    "val c2 = new Wire\n",
    "halfAdder(b, cin, s, c1)\n",
    "halfAdder(a, s, sum, c2)\n",
    "orGate(c1, c2, cout)\n",
    "}\n",
    "```"
   ]
  },
  {
   "cell_type": "code",
   "execution_count": null,
   "metadata": {},
   "outputs": [],
   "source": []
  }
 ],
 "metadata": {
  "kernelspec": {
   "display_name": "Scala",
   "language": "scala",
   "name": "scala"
  },
  "language_info": {
   "codemirror_mode": "text/x-scala",
   "file_extension": ".sc",
   "mimetype": "text/x-scala",
   "name": "scala",
   "nbconvert_exporter": "script",
   "version": "2.13.3"
  }
 },
 "nbformat": 4,
 "nbformat_minor": 4
}
