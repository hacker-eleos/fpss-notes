{
 "cells": [
  {
   "cell_type": "markdown",
   "metadata": {},
   "source": [
    "# Putting Pieces Together"
   ]
  },
  {
   "cell_type": "markdown",
   "metadata": {},
   "source": [
    "We are going to write program that convert telephone numbers to sentences. Phone keys have mnemonics assigned to them."
   ]
  },
  {
   "cell_type": "code",
   "execution_count": 1,
   "metadata": {},
   "outputs": [
    {
     "output_type": "execute_result",
     "data": {
      "text/plain": [
       "\u001b[36mmnemonics\u001b[39m: \u001b[32mMap\u001b[39m[\u001b[32mChar\u001b[39m, \u001b[32mString\u001b[39m] = \u001b[33mHashMap\u001b[39m(\n",
       "  \u001b[32m'8'\u001b[39m -> \u001b[32m\"TUV\"\u001b[39m,\n",
       "  \u001b[32m'4'\u001b[39m -> \u001b[32m\"GHI\"\u001b[39m,\n",
       "  \u001b[32m'9'\u001b[39m -> \u001b[32m\"WXYZ\"\u001b[39m,\n",
       "  \u001b[32m'5'\u001b[39m -> \u001b[32m\"JKL\"\u001b[39m,\n",
       "  \u001b[32m'6'\u001b[39m -> \u001b[32m\"MNO\"\u001b[39m,\n",
       "  \u001b[32m'2'\u001b[39m -> \u001b[32m\"ABC\"\u001b[39m,\n",
       "  \u001b[32m'7'\u001b[39m -> \u001b[32m\"PQRS\"\u001b[39m,\n",
       "  \u001b[32m'3'\u001b[39m -> \u001b[32m\"DEF\"\u001b[39m\n",
       ")"
      ]
     },
     "metadata": {},
     "execution_count": 1
    }
   ],
   "source": [
    "val mnemonics = Map('2'-> \"ABC\", '3' -> \"DEF\", '4' -> \"GHI\",'5' -> \"JKL\", '6' -> \"MNO\", '7' ->\"PQRS\", '8' -> \"TUV\", '9' -> \"WXYZ\")"
   ]
  },
  {
   "cell_type": "markdown",
   "metadata": {},
   "source": [
    "Assume you are given dictionary `words` as list of words. Design a method `translate` such that `translate(phoneNumber)` produces all phases that serves as mnemonics for the phone number.\n",
    "\n",
    "The phone number \"7225247386\" should have the mnemonic `Scala is fun` as one element in set of solution phrases."
   ]
  },
  {
   "cell_type": "code",
   "execution_count": 3,
   "metadata": {},
   "outputs": [
    {
     "output_type": "execute_result",
     "data": {
      "text/plain": [
       "\u001b[32mimport \u001b[39m\u001b[36mscala.io.Source\n",
       "\n",
       "\u001b[39m\n",
       "\u001b[36min\u001b[39m: \u001b[32mio\u001b[39m.\u001b[32mBufferedSource\u001b[39m = \u001b[32mempty iterator\u001b[39m\n",
       "\u001b[36mwords\u001b[39m: \u001b[32mList\u001b[39m[\u001b[32mString\u001b[39m] = \u001b[33mList\u001b[39m(\n",
       "  \u001b[32m\"Aarhus\"\u001b[39m,\n",
       "  \u001b[32m\"Aaron\"\u001b[39m,\n",
       "  \u001b[32m\"Ababa\"\u001b[39m,\n",
       "  \u001b[32m\"aback\"\u001b[39m,\n",
       "  \u001b[32m\"abaft\"\u001b[39m,\n",
       "  \u001b[32m\"abandon\"\u001b[39m,\n",
       "  \u001b[32m\"abandoned\"\u001b[39m,\n",
       "  \u001b[32m\"abandoning\"\u001b[39m,\n",
       "  \u001b[32m\"abandonment\"\u001b[39m,\n",
       "  \u001b[32m\"abandons\"\u001b[39m,\n",
       "  \u001b[32m\"abase\"\u001b[39m,\n",
       "  \u001b[32m\"abased\"\u001b[39m,\n",
       "  \u001b[32m\"abasement\"\u001b[39m,\n",
       "  \u001b[32m\"abasements\"\u001b[39m,\n",
       "  \u001b[32m\"abases\"\u001b[39m,\n",
       "  \u001b[32m\"abash\"\u001b[39m,\n",
       "  \u001b[32m\"abashed\"\u001b[39m,\n",
       "  \u001b[32m\"abashes\"\u001b[39m,\n",
       "  \u001b[32m\"abashing\"\u001b[39m,\n",
       "  \u001b[32m\"abasing\"\u001b[39m,\n",
       "  \u001b[32m\"abate\"\u001b[39m,\n",
       "  \u001b[32m\"abated\"\u001b[39m,\n",
       "  \u001b[32m\"abatement\"\u001b[39m,\n",
       "  \u001b[32m\"abatements\"\u001b[39m,\n",
       "  \u001b[32m\"abater\"\u001b[39m,\n",
       "  \u001b[32m\"abates\"\u001b[39m,\n",
       "  \u001b[32m\"abating\"\u001b[39m,\n",
       "  \u001b[32m\"Abba\"\u001b[39m,\n",
       "  \u001b[32m\"abbe\"\u001b[39m,\n",
       "  \u001b[32m\"abbey\"\u001b[39m,\n",
       "  \u001b[32m\"abbeys\"\u001b[39m,\n",
       "  \u001b[32m\"abbot\"\u001b[39m,\n",
       "  \u001b[32m\"abbots\"\u001b[39m,\n",
       "  \u001b[32m\"Abbott\"\u001b[39m,\n",
       "  \u001b[32m\"abbreviate\"\u001b[39m,\n",
       "  \u001b[32m\"abbreviated\"\u001b[39m,\n",
       "  \u001b[32m\"abbreviates\"\u001b[39m,\n",
       "  \u001b[32m\"abbreviating\"\u001b[39m,\n",
       "...\n",
       "\u001b[36mmnemo\u001b[39m: \u001b[32mMap\u001b[39m[\u001b[32mChar\u001b[39m, \u001b[32mString\u001b[39m] = \u001b[33mHashMap\u001b[39m(\n",
       "  \u001b[32m'8'\u001b[39m -> \u001b[32m\"TUV\"\u001b[39m,\n",
       "  \u001b[32m'4'\u001b[39m -> \u001b[32m\"GHI\"\u001b[39m,\n",
       "  \u001b[32m'9'\u001b[39m -> \u001b[32m\"WXYZ\"\u001b[39m,\n",
       "  \u001b[32m'5'\u001b[39m -> \u001b[32m\"JKL\"\u001b[39m,\n",
       "  \u001b[32m'6'\u001b[39m -> \u001b[32m\"MNO\"\u001b[39m,\n",
       "  \u001b[32m'2'\u001b[39m -> \u001b[32m\"ABC\"\u001b[39m,\n",
       "  \u001b[32m'7'\u001b[39m -> \u001b[32m\"PQRS\"\u001b[39m,\n",
       "  \u001b[32m'3'\u001b[39m -> \u001b[32m\"DEF\"\u001b[39m\n",
       ")"
      ]
     },
     "metadata": {},
     "execution_count": 3
    }
   ],
   "source": [
    "import scala.io.Source\n",
    "\n",
    "val in = Source.fromURL(\"file:./linuxwords.txt\")\n",
    "val words = in.getLines.toList.filter(word => word forall (c => c.isLetter ))\n",
    "val mnemo = Map('2'-> \"ABC\", '3' -> \"DEF\", '4' -> \"GHI\",'5' -> \"JKL\", '6' -> \"MNO\", '7' ->\"PQRS\", '8' -> \"TUV\", '9' -> \"WXYZ\")"
   ]
  },
  {
   "cell_type": "code",
   "execution_count": 4,
   "metadata": {},
   "outputs": [
    {
     "output_type": "execute_result",
     "data": {
      "text/plain": [
       "\u001b[36mcharCode\u001b[39m: \u001b[32mMap\u001b[39m[\u001b[32mChar\u001b[39m, \u001b[32mChar\u001b[39m] = \u001b[33mHashMap\u001b[39m(\n",
       "  \u001b[32m'N'\u001b[39m -> \u001b[32m'6'\u001b[39m,\n",
       "  \u001b[32m'T'\u001b[39m -> \u001b[32m'8'\u001b[39m,\n",
       "  \u001b[32m'U'\u001b[39m -> \u001b[32m'8'\u001b[39m,\n",
       "  \u001b[32m'F'\u001b[39m -> \u001b[32m'3'\u001b[39m,\n",
       "  \u001b[32m'A'\u001b[39m -> \u001b[32m'2'\u001b[39m,\n",
       "  \u001b[32m'M'\u001b[39m -> \u001b[32m'6'\u001b[39m,\n",
       "  \u001b[32m'I'\u001b[39m -> \u001b[32m'4'\u001b[39m,\n",
       "  \u001b[32m'B'\u001b[39m -> \u001b[32m'2'\u001b[39m,\n",
       "  \u001b[32m'P'\u001b[39m -> \u001b[32m'7'\u001b[39m,\n",
       "  \u001b[32m'C'\u001b[39m -> \u001b[32m'2'\u001b[39m,\n",
       "  \u001b[32m'H'\u001b[39m -> \u001b[32m'4'\u001b[39m,\n",
       "  \u001b[32m'W'\u001b[39m -> \u001b[32m'9'\u001b[39m,\n",
       "  \u001b[32m'O'\u001b[39m -> \u001b[32m'6'\u001b[39m,\n",
       "  \u001b[32m'D'\u001b[39m -> \u001b[32m'3'\u001b[39m,\n",
       "  \u001b[32m'E'\u001b[39m -> \u001b[32m'3'\u001b[39m,\n",
       "  \u001b[32m'X'\u001b[39m -> \u001b[32m'9'\u001b[39m,\n",
       "  \u001b[32m'Y'\u001b[39m -> \u001b[32m'9'\u001b[39m,\n",
       "  \u001b[32m'J'\u001b[39m -> \u001b[32m'5'\u001b[39m,\n",
       "  \u001b[32m'G'\u001b[39m -> \u001b[32m'4'\u001b[39m,\n",
       "  \u001b[32m'V'\u001b[39m -> \u001b[32m'8'\u001b[39m,\n",
       "  \u001b[32m'Q'\u001b[39m -> \u001b[32m'7'\u001b[39m,\n",
       "  \u001b[32m'L'\u001b[39m -> \u001b[32m'5'\u001b[39m,\n",
       "  \u001b[32m'K'\u001b[39m -> \u001b[32m'5'\u001b[39m,\n",
       "  \u001b[32m'R'\u001b[39m -> \u001b[32m'7'\u001b[39m,\n",
       "  \u001b[32m'Z'\u001b[39m -> \u001b[32m'9'\u001b[39m,\n",
       "  \u001b[32m'S'\u001b[39m -> \u001b[32m'7'\u001b[39m\n",
       ")"
      ]
     },
     "metadata": {},
     "execution_count": 4
    }
   ],
   "source": [
    "// Invert the mnemo map\n",
    "val charCode: Map[Char, Char] = for((digit, string) <- mnemo; ltr <- string) yield ltr -> digit"
   ]
  },
  {
   "cell_type": "code",
   "execution_count": 5,
   "metadata": {},
   "outputs": [
    {
     "output_type": "execute_result",
     "data": {
      "text/plain": [
       "defined \u001b[32mfunction\u001b[39m \u001b[36mwordCode\u001b[39m"
      ]
     },
     "metadata": {},
     "execution_count": 5
    }
   ],
   "source": [
    "//Map a word to the digit string it can represent Example \"Java\" -> \"5282\"\n",
    "def wordCode(word: String): String = word.toUpperCase map charCode"
   ]
  },
  {
   "cell_type": "code",
   "execution_count": 6,
   "metadata": {},
   "outputs": [
    {
     "output_type": "execute_result",
     "data": {
      "text/plain": [
       "\u001b[36mres5\u001b[39m: \u001b[32mString\u001b[39m = \u001b[32m\"5282\"\u001b[39m"
      ]
     },
     "metadata": {},
     "execution_count": 6
    }
   ],
   "source": [
    "wordCode(\"Java\")"
   ]
  },
  {
   "cell_type": "code",
   "execution_count": 7,
   "metadata": {},
   "outputs": [
    {
     "output_type": "execute_result",
     "data": {
      "text/plain": [
       "\u001b[36mwordsForNum\u001b[39m: \u001b[32mMap\u001b[39m[\u001b[32mString\u001b[39m, \u001b[32mSeq\u001b[39m[\u001b[32mString\u001b[39m]] = \u001b[33mMap\u001b[39m(\n",
       "  \u001b[32m\"63972278\"\u001b[39m -> \u001b[33mList\u001b[39m(\u001b[32m\"newscast\"\u001b[39m),\n",
       "  \u001b[32m\"868437\"\u001b[39m -> \u001b[33mList\u001b[39m(\u001b[32m\"unties\"\u001b[39m),\n",
       "  \u001b[32m\"3364646489\"\u001b[39m -> \u001b[33mList\u001b[39m(\u001b[32m\"femininity\"\u001b[39m),\n",
       "  \u001b[32m\"3987267346279\"\u001b[39m -> \u001b[33mList\u001b[39m(\u001b[32m\"extraordinary\"\u001b[39m),\n",
       "  \u001b[32m\"7855397\"\u001b[39m -> \u001b[33mList\u001b[39m(\u001b[32m\"pulleys\"\u001b[39m),\n",
       "  \u001b[32m\"67846493\"\u001b[39m -> \u001b[33mList\u001b[39m(\u001b[32m\"optimize\"\u001b[39m),\n",
       "  \u001b[32m\"4723837\"\u001b[39m -> \u001b[33mList\u001b[39m(\u001b[32m\"grafter\"\u001b[39m),\n",
       "  \u001b[32m\"746459\"\u001b[39m -> \u001b[33mList\u001b[39m(\u001b[32m\"singly\"\u001b[39m),\n",
       "  \u001b[32m\"84863372658\"\u001b[39m -> \u001b[33mList\u001b[39m(\u001b[32m\"thunderbolt\"\u001b[39m),\n",
       "  \u001b[32m\"46767833\"\u001b[39m -> \u001b[33mList\u001b[39m(\u001b[32m\"imported\"\u001b[39m),\n",
       "  \u001b[32m\"26437464\"\u001b[39m -> \u001b[33mList\u001b[39m(\u001b[32m\"angering\"\u001b[39m, \u001b[32m\"cohering\"\u001b[39m),\n",
       "  \u001b[32m\"8872267\"\u001b[39m -> \u001b[33mList\u001b[39m(\u001b[32m\"turbans\"\u001b[39m),\n",
       "  \u001b[32m\"772832\"\u001b[39m -> \u001b[33mList\u001b[39m(\u001b[32m\"Pravda\"\u001b[39m),\n",
       "  \u001b[32m\"29237638427\"\u001b[39m -> \u001b[33mList\u001b[39m(\u001b[32m\"cybernetics\"\u001b[39m),\n",
       "  \u001b[32m\"782754448\"\u001b[39m -> \u001b[33mList\u001b[39m(\u001b[32m\"starlight\"\u001b[39m),\n",
       "  \u001b[32m\"2559464\"\u001b[39m -> \u001b[33mList\u001b[39m(\u001b[32m\"allying\"\u001b[39m),\n",
       "  \u001b[32m\"862532733\"\u001b[39m -> \u001b[33mList\u001b[39m(\u001b[32m\"uncleared\"\u001b[39m),\n",
       "  \u001b[32m\"365692259\"\u001b[39m -> \u001b[33mList\u001b[39m(\u001b[32m\"enjoyably\"\u001b[39m),\n",
       "  \u001b[32m\"33767833\"\u001b[39m -> \u001b[33mList\u001b[39m(\u001b[32m\"deportee\"\u001b[39m),\n",
       "  \u001b[32m\"742533\"\u001b[39m -> \u001b[33mList\u001b[39m(\u001b[32m\"picked\"\u001b[39m),\n",
       "  \u001b[32m\"386583\"\u001b[39m -> \u001b[33mList\u001b[39m(\u001b[32m\"evolve\"\u001b[39m),\n",
       "  \u001b[32m\"78475464\"\u001b[39m -> \u001b[33mList\u001b[39m(\u001b[32m\"Stirling\"\u001b[39m),\n",
       "  \u001b[32m\"847827\"\u001b[39m -> \u001b[33mList\u001b[39m(\u001b[32m\"vistas\"\u001b[39m),\n",
       "  \u001b[32m\"546637737\"\u001b[39m -> \u001b[33mList\u001b[39m(\u001b[32m\"lionesses\"\u001b[39m),\n",
       "  \u001b[32m\"28754283\"\u001b[39m -> \u001b[33mList\u001b[39m(\u001b[32m\"curlicue\"\u001b[39m),\n",
       "  \u001b[32m\"77665377\"\u001b[39m -> \u001b[33mList\u001b[39m(\u001b[32m\"spoolers\"\u001b[39m),\n",
       "  \u001b[32m\"46636233\"\u001b[39m -> \u001b[33mList\u001b[39m(\u001b[32m\"homemade\"\u001b[39m),\n",
       "  \u001b[32m\"7446768759\"\u001b[39m -> \u001b[33mList\u001b[39m(\u001b[32m\"rigorously\"\u001b[39m),\n",
       "  \u001b[32m\"74644647\"\u001b[39m -> \u001b[33mList\u001b[39m(\u001b[32m\"ringings\"\u001b[39m),\n",
       "  \u001b[32m\"633738\"\u001b[39m -> \u001b[33mList\u001b[39m(\u001b[32m\"offset\"\u001b[39m),\n",
       "  \u001b[32m\"847825\"\u001b[39m -> \u001b[33mList\u001b[39m(\u001b[32m\"visual\"\u001b[39m),\n",
       "  \u001b[32m\"4729378\"\u001b[39m -> \u001b[33mList\u001b[39m(\u001b[32m\"grayest\"\u001b[39m),\n",
       "  \u001b[32m\"894824464\"\u001b[39m -> \u001b[33mList\u001b[39m(\u001b[32m\"twitching\"\u001b[39m),\n",
       "  \u001b[32m\"862244382253\"\u001b[39m -> \u001b[33mList\u001b[39m(\u001b[32m\"unachievable\"\u001b[39m),\n",
       "  \u001b[32m\"324437\"\u001b[39m -> \u001b[33mList\u001b[39m(\u001b[32m\"dagger\"\u001b[39m),\n",
       "  \u001b[32m\"367278873\"\u001b[39m -> \u001b[33mList\u001b[39m(\u001b[32m\"enrapture\"\u001b[39m),\n",
       "  \u001b[32m\"825524282443\"\u001b[39m -> \u001b[33mList\u001b[39m(\u001b[32m\"Tallahatchie\"\u001b[39m),\n",
       "  \u001b[32m\"7383683\"\u001b[39m -> \u001b[33mList\u001b[39m(\u001b[32m\"revenue\"\u001b[39m),\n",
       "..."
      ]
     },
     "metadata": {},
     "execution_count": 7
    }
   ],
   "source": [
    "// A map to digit string to words it represents\n",
    "// \"5282\" -> List(\"java\", \"kata\", \"lava\",...)\n",
    "val wordsForNum: Map[String, Seq[String]] = words.toList groupBy wordCode withDefaultValue Seq()"
   ]
  },
  {
   "cell_type": "code",
   "execution_count": 82,
   "metadata": {},
   "outputs": [
    {
     "data": {
      "text/plain": [
       "encode: (number: String)Set[List[String]]\r\n"
      ]
     },
     "execution_count": 82,
     "metadata": {},
     "output_type": "execute_result"
    }
   ],
   "source": [
    "def encode(number: String): Set[List[String]] = {\n",
    "    if(number.isEmpty) Set(List())\n",
    "    else {for{\n",
    "        split <- 1 to number.length\n",
    "        word <- wordsForNum(number take split)\n",
    "        rest <- encode(number drop split)\n",
    "    } yield word::rest}.toSet\n",
    "}"
   ]
  },
  {
   "cell_type": "code",
   "execution_count": 83,
   "metadata": {},
   "outputs": [
    {
     "data": {
      "text/plain": [
       "res21: Set[List[String]] = Set(List(rack, ah, re, to), List(sack, ah, re, to), List(Scala, ire, to), List(sack, air, fun), List(rack, air, fun), List(rack, bird, to), List(pack, air, fun), List(pack, ah, re, to), List(pack, bird, to), List(Scala, is, fun), List(sack, bird, to))\r\n"
      ]
     },
     "execution_count": 83,
     "metadata": {},
     "output_type": "execute_result"
    }
   ],
   "source": [
    "encode(\"7225247386\")"
   ]
  },
  {
   "cell_type": "markdown",
   "metadata": {},
   "source": [
    "**!TADA!**"
   ]
  },
  {
   "cell_type": "code",
   "execution_count": 84,
   "metadata": {},
   "outputs": [
    {
     "data": {
      "text/plain": [
       "translate: (number: String)Set[String]\r\n"
      ]
     },
     "execution_count": 84,
     "metadata": {},
     "output_type": "execute_result"
    }
   ],
   "source": [
    "def translate(number: String): Set[String] = encode(number).map(_ mkString \" \")"
   ]
  },
  {
   "cell_type": "code",
   "execution_count": 86,
   "metadata": {},
   "outputs": [
    {
     "data": {
      "text/plain": [
       "res23: Set[String] = Set(sack air fun, pack ah re to, pack bird to, Scala ire to, Scala is fun, rack ah re to, pack air fun, sack bird to, rack bird to, sack ah re to, rack air fun)\r\n"
      ]
     },
     "execution_count": 86,
     "metadata": {},
     "output_type": "execute_result"
    }
   ],
   "source": [
    "translate(\"7225247386\")"
   ]
  },
  {
   "cell_type": "markdown",
   "metadata": {},
   "source": [
    "Scala immutable collections are \n",
    "* easy to use - few steps to do the job\n",
    "* concise - one word replaces a whole loop\n",
    "* safe - type checker is really good at catching errors\n",
    "* fast - collection ops are tuned, can be parallelized\n",
    "* universal - one vocabulary to work on all kind of collections\n",
    "\n",
    "\n",
    "This makes them very attractive tool for software development."
   ]
  }
 ],
 "metadata": {
  "kernelspec": {
   "display_name": "Scala",
   "language": "scala",
   "name": "scala"
  },
  "language_info": {
   "codemirror_mode": "text/x-scala",
   "file_extension": ".scala",
   "help_links": [
    {
     "text": "MetaKernel Magics",
     "url": "https://metakernel.readthedocs.io/en/latest/source/README.html"
    }
   ],
   "mimetype": "text/x-scala",
   "name": "scala",
   "pygments_lexer": "scala",
   "version": "0.4.1"
  }
 },
 "nbformat": 4,
 "nbformat_minor": 4
}