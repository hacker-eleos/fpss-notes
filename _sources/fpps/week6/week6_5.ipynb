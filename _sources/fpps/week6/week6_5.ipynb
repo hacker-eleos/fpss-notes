{
 "cells": [
  {
   "cell_type": "markdown",
   "metadata": {},
   "source": [
    "# Putting Pieces Together"
   ]
  },
  {
   "cell_type": "markdown",
   "metadata": {},
   "source": [
    "We are going to write program that convert telephone numbers to sentences. Phone keys have mnemonics assigned to them."
   ]
  },
  {
   "cell_type": "code",
   "execution_count": 2,
   "metadata": {},
   "outputs": [
    {
     "data": {
      "text/plain": [
       "mnemonics: scala.collection.immutable.Map[Char,String] = Map(8 -> TUV, 4 -> GHI, 9 -> WXYZ, 5 -> JKL, 6 -> MNO, 2 -> ABC, 7 -> PQRS, 3 -> DEF)\r\n"
      ]
     },
     "execution_count": 2,
     "metadata": {},
     "output_type": "execute_result"
    }
   ],
   "source": [
    "val mnemonics = Map('2'-> \"ABC\", '3' -> \"DEF\", '4' -> \"GHI\",'5' -> \"JKL\", '6' -> \"MNO\", '7' ->\"PQRS\", '8' -> \"TUV\", '9' -> \"WXYZ\")"
   ]
  },
  {
   "cell_type": "markdown",
   "metadata": {},
   "source": [
    "Assume you are given dictionary `words` as list of words. Design a method `translate` such that `translate(phoneNumber)` produces all phases that serves as mnemonics for the phone number.\n",
    "\n",
    "The phone number \"7225247386\" should have the mnemonic `Scala is fun` as one element in set of solution phrases."
   ]
  },
  {
   "cell_type": "code",
   "execution_count": 71,
   "metadata": {},
   "outputs": [
    {
     "data": {
      "text/plain": [
       "import scala.io.Source\r\n",
       "in: scala.io.BufferedSource = <iterator>\r\n",
       "words: List[String] = List(Aarhus, Aaron, Ababa, aback, abaft, abandon, abandoned, abandoning, abandonment, abandons, abase, abased, abasement, abasements, abases, abash, abashed, abashes, abashing, abasing, abate, abated, abatement, abatements, abater, abates, abating, Abba, abbe, abbey, abbeys, abbot, abbots, Abbott, abbreviate, abbreviated, abbreviates, abbreviating, abbreviation, abbreviations, Abby, abdomen, abdomens, abdominal, abduct, abducted, abduction, abductions, abductor, abductors, abducts, Abe, abed, Abel, Abelian, Abelson, Aberdeen, Abernathy, aberrant, aberration, aberrations, abet, abets, abetted, abetter, abetting, abeyance, abhor, abhorred, abhorrent, abhorrer, abhorring, abhors, abide, abided, abides, ...\r\n"
      ]
     },
     "execution_count": 71,
     "metadata": {},
     "output_type": "execute_result"
    }
   ],
   "source": [
    "import scala.io.Source\n",
    "\n",
    "val in = Source.fromURL(\"file:///D:\\\\func_prog_notes\\\\fpps\\\\week6\\\\linuxwords.txt\")\n",
    "val words = in.getLines.toList.filter(word => word forall (c => c.isLetter ))\n",
    "val mnemo = Map('2'-> \"ABC\", '3' -> \"DEF\", '4' -> \"GHI\",'5' -> \"JKL\", '6' -> \"MNO\", '7' ->\"PQRS\", '8' -> \"TUV\", '9' -> \"WXYZ\")"
   ]
  },
  {
   "cell_type": "code",
   "execution_count": 72,
   "metadata": {},
   "outputs": [
    {
     "data": {
      "text/plain": [
       "charCode: Map[Char,Char] = Map(E -> 3, X -> 9, N -> 6, T -> 8, Y -> 9, J -> 5, U -> 8, F -> 3, A -> 2, M -> 6, I -> 4, G -> 4, V -> 8, Q -> 7, L -> 5, B -> 2, P -> 7, C -> 2, H -> 4, W -> 9, K -> 5, R -> 7, O -> 6, D -> 3, Z -> 9, S -> 7)\r\n"
      ]
     },
     "execution_count": 72,
     "metadata": {},
     "output_type": "execute_result"
    }
   ],
   "source": [
    "// Invert the mnemo map\n",
    "val charCode: Map[Char, Char] = for((digit, string) <- mnemo; ltr <- string) yield ltr -> digit"
   ]
  },
  {
   "cell_type": "code",
   "execution_count": 73,
   "metadata": {},
   "outputs": [
    {
     "data": {
      "text/plain": [
       "wordCode: (word: String)String\r\n"
      ]
     },
     "execution_count": 73,
     "metadata": {},
     "output_type": "execute_result"
    }
   ],
   "source": [
    "//Map a word to the digit string it can represent Example \"Java\" -> \"5282\"\n",
    "def wordCode(word: String): String = word.toUpperCase map charCode"
   ]
  },
  {
   "cell_type": "code",
   "execution_count": 74,
   "metadata": {},
   "outputs": [
    {
     "data": {
      "text/plain": [
       "res19: String = 5282\r\n"
      ]
     },
     "execution_count": 74,
     "metadata": {},
     "output_type": "execute_result"
    }
   ],
   "source": [
    "wordCode(\"Java\")"
   ]
  },
  {
   "cell_type": "code",
   "execution_count": 75,
   "metadata": {},
   "outputs": [
    {
     "data": {
      "text/plain": [
       "wordsForNum: Map[String,Seq[String]] = Map(63972278 -> List(newscast), 29237638427 -> List(cybernetics), 782754448 -> List(starlight), 2559464 -> List(allying), 862532733 -> List(uncleared), 365692259 -> List(enjoyably), 868437 -> List(unties), 33767833 -> List(deportee), 742533 -> List(picked), 3364646489 -> List(femininity), 3987267346279 -> List(extraordinary), 7855397 -> List(pulleys), 67846493 -> List(optimize), 4723837 -> List(grafter), 386583 -> List(evolve), 78475464 -> List(Stirling), 746459 -> List(singly), 847827 -> List(vistas), 546637737 -> List(lionesses), 28754283 -> List(curlicue), 84863372658 -> List(thunderbolt), 46767833 -> List(imported), 26437464 -> List(angering, cohering), 8872267 -> List(turbans), 77665377 -> List(spoolers), 46636233 -> List(homemade), 7446768759...\r\n"
      ]
     },
     "execution_count": 75,
     "metadata": {},
     "output_type": "execute_result"
    }
   ],
   "source": [
    "// A map to digit string to words it represents\n",
    "// \"5282\" -> List(\"java\", \"kata\", \"lava\",...)\n",
    "val wordsForNum: Map[String, Seq[String]] = words.toList groupBy wordCode"
   ]
  },
  {
   "cell_type": "code",
   "execution_count": 76,
   "metadata": {},
   "outputs": [
    {
     "ename": "<console>",
     "evalue": " error: incomplete input",
     "output_type": "error",
     "traceback": [
      "<console>: error: incomplete input"
     ]
    }
   ],
   "source": [
    "def encode(number: String): Set[List[String]]"
   ]
  },
  {
   "cell_type": "code",
   "execution_count": null,
   "metadata": {},
   "outputs": [],
   "source": []
  }
 ],
 "metadata": {
  "kernelspec": {
   "display_name": "spylon-kernel",
   "language": "scala",
   "name": "spylon-kernel"
  },
  "language_info": {
   "codemirror_mode": "text/x-scala",
   "file_extension": ".scala",
   "help_links": [
    {
     "text": "MetaKernel Magics",
     "url": "https://metakernel.readthedocs.io/en/latest/source/README.html"
    }
   ],
   "mimetype": "text/x-scala",
   "name": "scala",
   "pygments_lexer": "scala",
   "version": "0.4.1"
  }
 },
 "nbformat": 4,
 "nbformat_minor": 4
}
