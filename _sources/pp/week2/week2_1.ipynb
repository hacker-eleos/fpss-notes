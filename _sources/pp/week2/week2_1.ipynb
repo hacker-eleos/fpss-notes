{
 "cells": [
  {
   "cell_type": "markdown",
   "metadata": {},
   "source": [
    "# Parallel Sorting\n",
    "\n",
    "We will implement a parallel merge sort algorithm.\n",
    "\n",
    "1. recursively sort the two halves of the array in parallel\n",
    "2. sequentially merge the two array halves by copying into a temporary array\n",
    "3. copy the temporary array back into the original array\n",
    "\n",
    "The `parMergeSort` method takes an array, and a maximum depth:"
   ]
  },
  {
   "cell_type": "markdown",
   "metadata": {},
   "source": [
    "```scala\n",
    "def parMergeSort(xs: Array[Int], maxDepth: Int): Unit\n",
    "```\n",
    "We start by allocating an intermediate array:\n",
    "```scala\n",
    "val ys = new Array[Int](xs.length)\n",
    "```\n",
    "At each level of the merge sort, we will alternate between the source array `xs` and the intermediate array `ys`.\n",
    "The shape of `parMergeSort` is similar to many divide and conquer algorithms we see.\n",
    "```scala\n",
    "def sort(from: Int, until: Int, depth: Int): Unit = {\n",
    "if (depth == maxDepth) {\n",
    "quickSort(xs, from, until - from)\n",
    "} else {\n",
    "val mid = (from + until) / 2\n",
    "parallel(sort(mid, until, depth + 1), sort(from, mid, depth + 1))\n",
    "```\n",
    "In the base case, we are going to invoke sequential `quickSort`. We stop parallelization when depth reached to maximum depth. In other case, we split the array in middle,and recursively sort first and second half of the array. \n",
    "These two sorts are taking place in parallel. We would like to sort the returned sorted array and merge into single sorted array. We call `merge` for that. We copy into secondary array, and we choose destination and source array using `flip` value.\n",
    "\n",
    "\n",
    "Given an array `src` consisting of two sorted intervals, merge those interval into the `dst` array:\n",
    "```scala\n",
    "def merge(src: Array[Int], dst: Array[Int], from: Int, mid: Int, until: Int): Unit\n",
    "```\n",
    "The merge implementation is sequential, so we will not go through it.\n",
    "How would you implement merge in parallel?"
   ]
  },
  {
   "cell_type": "code",
   "execution_count": null,
   "metadata": {},
   "outputs": [],
   "source": []
  }
 ],
 "metadata": {
  "kernelspec": {
   "display_name": "Scala",
   "language": "scala",
   "name": "scala"
  },
  "language_info": {
   "codemirror_mode": "text/x-scala",
   "file_extension": ".sc",
   "mimetype": "text/x-scala",
   "name": "scala",
   "nbconvert_exporter": "script",
   "version": "2.13.3"
  }
 },
 "nbformat": 4,
 "nbformat_minor": 4
}
