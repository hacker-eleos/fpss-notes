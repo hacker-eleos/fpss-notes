{
 "cells": [
  {
   "cell_type": "markdown",
   "metadata": {},
   "source": [
    "# Parallel Fold (Reduce) Operation\n",
    "\n",
    "Fold takes among others a binary operation, but variants differ:\n",
    "* whether they take an initial element or assume non-empty list\n",
    "* in which order they combine operations of collection\n",
    "\n",
    "`List(1,3,8).foldLeft(100)((s,x) => s - x) == ((100 - 1) - 3) - 8 == 88`\n",
    "\n",
    "`List(1,3,8).foldRight(100)((s,x) => s - x) == 1 - (3 - (8-100)) == -94`\n",
    "\n",
    "`List(1,3,8).reduceLeft((s,x) => s - x) == (1 - 3) - 8 == -10`\n",
    "\n",
    "`List(1,3,8).reduceRight((s,x) => s - x) == 1 - (3 - 8) == 6`\n",
    "\n",
    "To enable parallel operations, we look at associative operations\n",
    "* addition, string concatenation (but not minus)"
   ]
  },
  {
   "cell_type": "markdown",
   "metadata": {},
   "source": [
    "Operation $f: (A,A) => A$ is associative iff for every x, y, z:\n",
    "\n",
    "$$f(x, f(y, z)) = f(f(x, y), z)$$\n",
    "\n",
    "If we write f(a, b) in infix form as a ⊗ b, associativity becomes\n",
    "\n",
    "$$x ⊗ (y ⊗ z) = (x ⊗ y) ⊗ z$$\n",
    "\n",
    "Consequence: \n",
    "consider two expressions with same list of operands connected with $⊗$, but different parentheses. \n",
    "Then these expressions\n",
    "evaluate to the same result, for example:\n",
    "\n",
    "\n",
    "$$(x ⊗ y) ⊗ (z ⊗ w) = (x ⊗ (y ⊗ z)) ⊗ w = ((x ⊗ y) ⊗ z) ⊗ w$$"
   ]
  },
  {
   "cell_type": "markdown",
   "metadata": {},
   "source": [
    "Each expression built from values connected with $⊗$ can be represented as a tree\n",
    "▶ leaves are the values\n",
    "▶ nodes are $⊗$\n",
    "\n",
    "The shape of tree encodes the parentheses of our expression. Leaf nodes are combined first."
   ]
  },
  {
   "cell_type": "markdown",
   "metadata": {},
   "source": [
    "## Folding (reducing) trees"
   ]
  },
  {
   "cell_type": "markdown",
   "metadata": {},
   "source": [
    "```scala\n",
    "sealed abstract class Tree[A]\n",
    "case class Leaf[A](value: A) extends Tree[A]\n",
    "case class Node[A](left: Tree[A], right: Tree[A]) extends Tree[A]\n",
    "```\n",
    "Result of evaluating the expression is given by a reduce of this tree.\n",
    "What is its (sequential) definition?\n",
    "\n",
    "```scala\n",
    "def reduce[A](t: Tree[A], f : (A,A) => A): A = t match {\n",
    "case Leaf(v) => v\n",
    "case Node(l, r) => f(reduce[A](l, f), reduce[A](r, f)) // Node -> f\n",
    "}\n",
    "```\n",
    "We can think of reduce as replacing the constructor `Node` with given `f`"
   ]
  },
  {
   "cell_type": "markdown",
   "metadata": {},
   "source": [
    "For non-associative operation, the result depends on structure of the tree:\n",
    "```scala\n",
    "def tree = Node(Leaf(1), Node(Leaf(3), Leaf(8)))\n",
    "def fMinus = (x:Int,y:Int) => x - y\n",
    "def res = reduce[Int](tree, fMinus) /\n",
    "```"
   ]
  },
  {
   "cell_type": "markdown",
   "metadata": {},
   "source": [
    "How to make that tree reduce parallel?\n",
    "\n",
    "```scala\n",
    "def reduce[A](t: Tree[A], f : (A,A) => A): A = t match {\n",
    "case Leaf(v) => v\n",
    "case Node(l, r) => {\n",
    "val (lV, rV) = parallel(reduce[A](l, f), reduce[A](r, f))\n",
    "f(lV, rV)\n",
    "}\n",
    "}\n",
    "```\n",
    "What is the depth complexity of such reduce?\n",
    "Answer: height of the tree"
   ]
  },
  {
   "cell_type": "markdown",
   "metadata": {},
   "source": [
    "## Associativity stated as tree reduction\n",
    "\n",
    "How can we restate associativity of such trees?\n",
    "$$x ⊗ (y ⊗ z) = (x ⊗ y) ⊗ z$$\n",
    "\n",
    "If f denotes $⊕$, in Scala we can write this also as:\n",
    "\n",
    "$$\n",
    "reduce(Node(Leaf(x), Node(Leaf(y), Leaf(z))), f) ==\n",
    "reduce(Node(Node(Leaf(x), Leaf(y)), Leaf(z)), f)$$"
   ]
  },
  {
   "cell_type": "markdown",
   "metadata": {},
   "source": [
    "Observe: can use a list to describe the ordering of elements of a tree\n",
    "```scala\n",
    "def toList[A](t: Tree[A]): List[A] = t match {\n",
    "case Leaf(v) => List(v)\n",
    "case Node(l, r) => toList[A](l) ++ toList[A](r) }\n",
    "```\n",
    "\n",
    "Suppose we also have tree map:\n",
    "\n",
    "```scala\n",
    "def map[A,B](t: Tree[A], f : A => B): Tree[B] = t match {\n",
    "case Leaf(v) => Leaf(f(v))\n",
    "case Node(l, r) => Node(map[A,B](l, f), map[A,B](r, f)) }\n",
    "```\n",
    "Can you express `toList` using `map` and `reduce`?\n",
    "\n",
    "`toList(t) == reduce(map(t, List(_)), _ ++ _)`"
   ]
  },
  {
   "cell_type": "markdown",
   "metadata": {},
   "source": [
    "## Consequence stated as tree reduction\n",
    "Consequence of associativity: consider two expressions with same list of\n",
    "operands connected with $⊗$, but different parentheses. Then these\n",
    "expressions evaluate to the same result.\n",
    "\n",
    "Express this consequence in Scala using functions we have defined so far.\n",
    "\n",
    "\n",
    "Consequence (Scala): if `f : (A,A)=>A` is associative, `t1:Tree[A]` and\n",
    "`t2:Tree[A]` and if `toList(t1)==toList(t2)`, then: \n",
    "\n",
    "`reduce(t1, f)==reduce(t2, f)`\n",
    "\n",
    "Applying rotation to tree preserves toList as well as the value of reduce.\n",
    "`toList(t1)==toList(t2) ⇒ rotations can bring t1,t2 to same tree`"
   ]
  },
  {
   "cell_type": "markdown",
   "metadata": {},
   "source": [
    "## Reduction of arrays\n",
    "\n",
    "We have seen reduction on trees.\n",
    "Often we work with collections where we only know the ordering and not the tree structure.\n",
    "How can we do reduction in case of, e.g., arrays?\n",
    "* convert it into a balanced tree\n",
    "* do tree reduction\n",
    "Because of associativity, we can choose any tree that preserves the order of elements of the original collection\n",
    "\n",
    "Tree reduction replaces `Node` constructor with `f`, so we can just use `f` directly instead of building tree nodes. When the segment is small, it is faster to process it sequentially\n"
   ]
  },
  {
   "cell_type": "markdown",
   "metadata": {},
   "source": [
    "```scala\n",
    "def reduceSeg[A](inp: Array[A], left: Int, right: Int, f: (A,A) => A): A = {\n",
    "if (right - left < threshold) {\n",
    "var res= inp(left); var i= left+1\n",
    "while (i < right) { res= f(res, inp(i)); i= i+1 }\n",
    "res\n",
    "} else {\n",
    "val mid = left + (right - left)/2\n",
    "val (a1,a2) = parallel(reduceSeg(inp, left, mid, f),\n",
    "reduceSeg(inp, mid, right, f))\n",
    "f(a1,a2)\n",
    "}\n",
    "}\n",
    "\n",
    "\n",
    "def reduce[A](inp: Array[A], f: (A,A) => A): A =\n",
    "reduceSeg(inp, 0, inp.length, f)\n",
    "```"
   ]
  },
  {
   "cell_type": "code",
   "execution_count": null,
   "metadata": {},
   "outputs": [],
   "source": []
  }
 ],
 "metadata": {
  "kernelspec": {
   "display_name": "Scala",
   "language": "scala",
   "name": "scala"
  },
  "language_info": {
   "codemirror_mode": "text/x-scala",
   "file_extension": ".sc",
   "mimetype": "text/x-scala",
   "name": "scala",
   "nbconvert_exporter": "script",
   "version": "2.13.3"
  }
 },
 "nbformat": 4,
 "nbformat_minor": 4
}
