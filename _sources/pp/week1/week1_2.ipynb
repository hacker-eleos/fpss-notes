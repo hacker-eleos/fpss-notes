{
 "cells": [
  {
   "cell_type": "markdown",
   "metadata": {},
   "source": [
    "# Parallelism on the JVM II"
   ]
  },
  {
   "cell_type": "markdown",
   "metadata": {},
   "source": [
    "The synchronized block is an example of a synchronization primitive. A construct that allows threads to exchange information. Importantly, multiple synchronized blocks can compose.\n",
    "\n",
    "Invocations of the synchronized block can nest."
   ]
  },
  {
   "cell_type": "code",
   "execution_count": 1,
   "metadata": {},
   "outputs": [
    {
     "data": {
      "text/plain": [
       "defined \u001b[32mclass\u001b[39m \u001b[36mAccount\u001b[39m"
      ]
     },
     "execution_count": 1,
     "metadata": {},
     "output_type": "execute_result"
    }
   ],
   "source": [
    "class Account(private var amount: Int = 0) {\n",
    "def transfer(target: Account, n: Int) =\n",
    "this.synchronized {\n",
    "target.synchronized {\n",
    "this.amount -= n\n",
    "target.amount += n\n",
    "}\n",
    "}\n",
    "}"
   ]
  },
  {
   "cell_type": "markdown",
   "metadata": {},
   "source": [
    "`Account` class has method `transfer` which is used to transfer some amount to target account. Many invocations of transfer could occur in parallel. \n",
    "\n",
    "To implement transfer method, you donot want to have single global synchronized block. This is bottleneck for parallelism, especially many transfers occur in parallel. \n",
    "\n",
    "Instead we use more fine grained synchronization, specifically we use synchronized block on source and target account, this will make sure code in nested block is executed atomic, both for the threads using the source account, `this`, and threads using the target account."
   ]
  },
  {
   "cell_type": "markdown",
   "metadata": {},
   "source": [
    "For example a thread running the transfer method, first obtains the monitor on the account `A1` and then account `A2` and then transfer the money. In parallel another thread can do same thing for accounts `A3` and `A4`."
   ]
  },
  {
   "cell_type": "markdown",
   "metadata": {},
   "source": [
    "Let's see a demo."
   ]
  },
  {
   "cell_type": "code",
   "execution_count": 3,
   "metadata": {},
   "outputs": [
    {
     "data": {
      "text/plain": [
       "defined \u001b[32mfunction\u001b[39m \u001b[36mstartThread\u001b[39m"
      ]
     },
     "execution_count": 3,
     "metadata": {},
     "output_type": "execute_result"
    }
   ],
   "source": [
    "def startThread(a: Account, b: Account, n: Int)={\n",
    "    val t = new Thread{\n",
    "        override def run() = {\n",
    "            for(i <- 0 until n ){\n",
    "                a.transfer(b, 1)\n",
    "            }\n",
    "        }\n",
    "    }\n",
    "    t.start()\n",
    "    t\n",
    "}"
   ]
  },
  {
   "cell_type": "code",
   "execution_count": 4,
   "metadata": {},
   "outputs": [
    {
     "data": {
      "text/plain": [
       "\u001b[36ma1\u001b[39m: \u001b[32mAccount\u001b[39m = ammonite.$sess.cmd0$Helper$Account@142980e\n",
       "\u001b[36ma2\u001b[39m: \u001b[32mAccount\u001b[39m = ammonite.$sess.cmd0$Helper$Account@102e0f7\n",
       "\u001b[36mt\u001b[39m: \u001b[32mThread\u001b[39m = Thread[Thread-0,5,main]\n",
       "\u001b[36ms\u001b[39m: \u001b[32mThread\u001b[39m = Thread[Thread-1,5,main]"
      ]
     },
     "execution_count": 4,
     "metadata": {},
     "output_type": "execute_result"
    }
   ],
   "source": [
    "val a1 = new Account(50000)\n",
    "val a2 = new Account(70000)\n",
    "\n",
    "val t = startThread(a1, a2, 15000)\n",
    "val s = startThread(a2, a1, 15000)"
   ]
  },
  {
   "cell_type": "code",
   "execution_count": null,
   "metadata": {},
   "outputs": [],
   "source": [
    "t.join()\n",
    "s.join()"
   ]
  },
  {
   "cell_type": "markdown",
   "metadata": {},
   "source": [
    "This program never completes, because thread `t` and `s` never completes so join blocks the main thread.\n",
    "\n",
    "But Why?"
   ]
  },
  {
   "cell_type": "markdown",
   "metadata": {},
   "source": [
    "> **Deadlock** is a scenario in which two or more threads compete for resources (such as monitor ownership), and wait for each to finish without releasing the already acquired resources."
   ]
  },
  {
   "cell_type": "markdown",
   "metadata": {},
   "source": [
    "In our case, after having created two accounts\n",
    "\n",
    "```scala\n",
    "\n",
    "val a = new Account(50)\n",
    "val b = new Account(70)\n",
    "\n",
    "//thread T1\n",
    "a.transfer(b,10)\n",
    "\n",
    "//thread T2\n",
    "b.transfer(a,10)\n",
    "\n",
    "```\n",
    "\n",
    "two seprate threads invoke transfer methods but in reverse order. In first case source account `a` and second case source account `b`. The two threads start the synchronized statement on these accounts in different order. The first thread enter on syncrhonized block `a` and second thread enter synchronized block on `b`. At this point, the first thread blocks untill monitor on object `b` becomes available and vice versa.\n",
    "\n",
    "Neither thread makes progress so deadlock occurs.\n",
    "\n",
    "How to resolve deadlocks?\n",
    "\n",
    "One approach is to always acquire resources in the same order.\n",
    "\n",
    "This assumes an ordering relationship on the resources."
   ]
  },
  {
   "cell_type": "code",
   "execution_count": 6,
   "metadata": {},
   "outputs": [
    {
     "data": {
      "text/plain": [
       "defined \u001b[32mfunction\u001b[39m \u001b[36mgetUniqueId\u001b[39m\n",
       "defined \u001b[32mclass\u001b[39m \u001b[36mAccount\u001b[39m"
      ]
     },
     "execution_count": 6,
     "metadata": {},
     "output_type": "execute_result"
    }
   ],
   "source": [
    "private val x = new AnyRef {}\n",
    "private var uidCount = 0L\n",
    "def getUniqueId(): Long = x.synchronized{\n",
    "uidCount = uidCount + 1\n",
    "uidCount\n",
    "}\n",
    "\n",
    "class Account(private var amount: Int = 0) {\n",
    "\n",
    "val uid = getUniqueId()\n",
    "private def lockAndTransfer(target: Account, n: Int) =\n",
    "this.synchronized {\n",
    "target.synchronized {\n",
    "this.amount -= n\n",
    "target.amount += n\n",
    "}\n",
    "}    \n",
    "def transfer(target: Account, n: Int) =\n",
    "if (this.uid < target.uid) this.lockAndTransfer(target, n)\n",
    "else target.lockAndTransfer(this, -n)\n",
    "}\n",
    "\n"
   ]
  },
  {
   "cell_type": "markdown",
   "metadata": {},
   "source": [
    "In case the target uid is larget than current account uid, negative amount is transfered, to the source account."
   ]
  },
  {
   "cell_type": "markdown",
   "metadata": {},
   "source": [
    "## Memory Model\n",
    "\n",
    "Memory model is a set of rules that describes how threads interact when accessing shared memory.\n",
    "\n",
    "Java Memory Model – the memory model for the JVM.\n",
    "\n",
    "1. Two threads writing to separate locations in memory do not need synchronization.\n",
    "2. A thread X that calls join on another thread Y is guaranteed to \n",
    "observe all the writes by thread Y after join returns."
   ]
  },
  {
   "cell_type": "markdown",
   "metadata": {},
   "source": [
    "The parallelism constructs in the remainder of the course are implemented in terms of:\n",
    "* threads\n",
    "* synchronization primitives such as synchronized\n",
    "\n",
    "It is important to know what’s under the hood!"
   ]
  }
 ],
 "metadata": {
  "kernelspec": {
   "display_name": "Scala",
   "language": "scala",
   "name": "scala"
  },
  "language_info": {
   "codemirror_mode": "text/x-scala",
   "file_extension": ".sc",
   "mimetype": "text/x-scala",
   "name": "scala",
   "nbconvert_exporter": "script",
   "version": "2.13.3"
  }
 },
 "nbformat": 4,
 "nbformat_minor": 4
}
