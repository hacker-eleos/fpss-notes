{
 "cells": [
  {
   "cell_type": "markdown",
   "metadata": {},
   "source": [
    "# Running Computations in Parallel\n"
   ]
  },
  {
   "cell_type": "markdown",
   "metadata": {},
   "source": [
    "What would be simplest way to indicate two expression `e1` and `e2` to run in parallel?\n",
    "\n",
    "`parallel(e1,e2)`\n",
    "\n",
    "To understand this construct let's look at an example.\n",
    "\n",
    "Given a vector as an array (of integers), compute its `p-norm`\n",
    "\n",
    "A `p-norm` is a generalization of the notion of length from geometry\n",
    "\n",
    "2-norm of a two-dimentional vector $(a1, a2)$ is ${(a1^2 + a2^2)}^{\\frac{1}{2}}$\n",
    "\n",
    "The p-norm of a vector $(a_1,a_2,\\dots,a_n)$ is $(\\sum_{i=1}^{n}{|a_i|}^p)^{\\frac{1}{p}}$"
   ]
  },
  {
   "cell_type": "markdown",
   "metadata": {},
   "source": [
    "### Main step: sum of powers of array segment\n",
    "\n",
    "First, solve sequentially the following `sumSegment` problem: given\n",
    "* an integer array $a$, representing our vector\n",
    "* a positive double floating point number $p$\n",
    "* two valid indices $s \\leq t$ into the array a\n",
    "compute\n",
    "\n",
    "$(\\sum_{i=s}^{t-1}{|a_i|}^p)^{\\frac{1}{p}}$\n",
    " where $⌊y⌋$ rounds down to an integer"
   ]
  },
  {
   "cell_type": "code",
   "execution_count": null,
   "metadata": {},
   "outputs": [],
   "source": []
  }
 ],
 "metadata": {
  "kernelspec": {
   "display_name": "Scala",
   "language": "scala",
   "name": "scala"
  },
  "language_info": {
   "codemirror_mode": "text/x-scala",
   "file_extension": ".sc",
   "mimetype": "text/x-scala",
   "name": "scala",
   "nbconvert_exporter": "script",
   "version": "2.13.3"
  }
 },
 "nbformat": 4,
 "nbformat_minor": 4
}
