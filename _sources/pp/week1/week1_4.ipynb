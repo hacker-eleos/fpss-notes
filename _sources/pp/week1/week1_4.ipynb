{
 "cells": [
  {
   "cell_type": "markdown",
   "metadata": {},
   "source": [
    "# Running computations in parallel\n"
   ]
  },
  {
   "cell_type": "markdown",
   "metadata": {},
   "source": [
    "Consider a square and circle of radius one inside the square. \n",
    "\n",
    "Ratio between surface areas of circle and square\n",
    "\n",
    "$\\lambda = \\frac{\\pi}{4}$\n",
    "\n",
    "Estimating λ: \n",
    "randomly sample points inside the square\n",
    "\n",
    "Count how many fall inside the circle\n",
    "\n",
    "Multiply this ratio by 4 for an estimate of $\\pi$"
   ]
  },
  {
   "cell_type": "code",
   "execution_count": 1,
   "metadata": {},
   "outputs": [
    {
     "data": {
      "text/plain": [
       "\u001b[32mimport \u001b[39m\u001b[36mscala.util.Random\n",
       "\u001b[39m\n",
       "defined \u001b[32mfunction\u001b[39m \u001b[36mmcCount\u001b[39m\n",
       "defined \u001b[32mfunction\u001b[39m \u001b[36mmonteCarloPiSeq\u001b[39m"
      ]
     },
     "execution_count": 1,
     "metadata": {},
     "output_type": "execute_result"
    }
   ],
   "source": [
    "import scala.util.Random\n",
    "def mcCount(iter: Int): Int = {\n",
    "val randomX = new Random\n",
    "val randomY = new Random\n",
    "var hits = 0\n",
    "for (i <- 0 until iter) {\n",
    "val x = randomX.nextDouble // in [0,1]\n",
    "val y = randomY.nextDouble // in [0,1]\n",
    "if (x*x + y*y < 1) hits= hits + 1\n",
    "}\n",
    "hits\n",
    "}\n",
    "def monteCarloPiSeq(iter: Int): Double = 4.0 * mcCount(iter) / iter"
   ]
  },
  {
   "cell_type": "code",
   "execution_count": 4,
   "metadata": {},
   "outputs": [
    {
     "data": {
      "text/plain": [
       "\u001b[36mres3\u001b[39m: \u001b[32mDouble\u001b[39m = \u001b[32m3.1458\u001b[39m"
      ]
     },
     "execution_count": 4,
     "metadata": {},
     "output_type": "execute_result"
    }
   ],
   "source": [
    "monteCarloPiSeq(100000)"
   ]
  },
  {
   "cell_type": "markdown",
   "metadata": {},
   "source": [
    "Here is the parallel version of computing the same estimate.\n",
    "\n",
    "```scala\n",
    "def monteCarloPiPar(iter: Int): Double = {\n",
    "val ((pi1, pi2), (pi3, pi4)) = parallel(\n",
    "parallel(mcCount(iter/4), mcCount(iter/4)),\n",
    "parallel(mcCount(iter/4), mcCount(iter - 3*(iter/4))))\n",
    "4.0 * (pi1 + pi2 + pi3 + pi4) / iter\n",
    "}\n",
    "```\n",
    "\n",
    "All computations are happening in parallel and independent."
   ]
  },
  {
   "cell_type": "markdown",
   "metadata": {},
   "source": [
    "# First Class Tasks"
   ]
  },
  {
   "cell_type": "markdown",
   "metadata": {},
   "source": [
    "Let's now describe a more flexible construct for describing parallel computation. Consider\n",
    "\n",
    "```scala\n",
    "val (v1, v2) = parallel(e1, e2)\n",
    "```\n",
    "\n",
    "we can write alternatively using the `task` construct:\n",
    "\n",
    "```scala\n",
    "val t1 = task(e1)\n",
    "val t2 = task(e2)\n",
    "val v1 = t1.join\n",
    "val v2 = t2.join\n",
    "t1\n",
    "t2\n",
    "\n",
    "```\n",
    "\n",
    "`\n",
    "t = task(e)` starts computation `e` \"in the background\"\n",
    "\n",
    "* `t` is a task, which performs computation of `e`\n",
    "* current computation proceeds in parallel with `t`\n",
    "* to obtain the result of `e`, use `t.join`\n",
    "* `t.join` blocks and waits until the result is computed\n",
    "* subsequent `t.join` calls quickly return the `s`"
   ]
  },
  {
   "cell_type": "markdown",
   "metadata": {},
   "source": [
    "Here is a minimal interface for tasks:\n",
    "\n",
    "```scala\n",
    "def task(c: => A) : Task[A]\n",
    "trait Task[A] {\n",
    "def join: A\n",
    "}\n",
    "\n",
    "```\n",
    "\n",
    "`task` and `join` establish maps between computations and tasks\n",
    "In terms of the value computed the equation `task(e).join==e` holds\n",
    "\n",
    "We can omit writing `.join` if we also define an implicit conversion.\n",
    "\n",
    "```scala\n",
    "implicit def getJoin[T](x:Task[T]): T = x.join\n",
    "```"
   ]
  },
  {
   "cell_type": "markdown",
   "metadata": {},
   "source": [
    "We have seen four-way parallel p-norm:\n",
    "\n",
    "```scala\n",
    "val ((part1, part2),(part3,part4)) =\n",
    "parallel(parallel(sumSegment(a, p, 0, mid1),\n",
    "sumSegment(a, p, mid1, mid2)),\n",
    "parallel(sumSegment(a, p, mid2, mid3),\n",
    "sumSegment(a, p, mid3, a.length)))\n",
    "power(part1 + part2 + part3 + part4, 1/p)\n",
    "```\n",
    "\n",
    "Here is essentially the same computation expressed using task:\n",
    "```scala\n",
    "val t1 = task {sumSegment(a, p, 0, mid1)}\n",
    "val t2 = task {sumSegment(a, p, mid1, mid2)}\n",
    "val t3 = task {sumSegment(a, p, mid2, mid3)}\n",
    "val t4 = task {sumSegment(a, p, mid3, a.length)}\n",
    "power(t1 + t2 + t3 + t4, 1/p)\n",
    "```\n",
    "\n",
    "Notice the implicit conversion of `t1`, `t2`, `t3` and `t4` in the last statement."
   ]
  },
  {
   "cell_type": "markdown",
   "metadata": {},
   "source": [
    "Suppose you are allowed to use task\n",
    "Implement parallel construct as a method using task\n",
    "\n",
    "```scala\n",
    "def parallel[A, B](cA: => A, cB: => B): (A, B) = {\n",
    "val tB: Task[B] = task { cB }\n",
    "val tA: A = cA\n",
    "(tA, tB.join)\n",
    "}\n",
    "```\n",
    "\n",
    "Suppose we want to compute computation `A` and `B`. Using `task` construct start a computation in parallel, and we continue in parallel\n",
    "in thread of this function."
   ]
  },
  {
   "cell_type": "markdown",
   "metadata": {},
   "source": [
    "-------------------\n",
    "What is wrong with the following definitions?\n",
    "\n",
    "```scala\n",
    "def parallelWrong[A, B](cA: => A, cB: => B): (A, B) = {\n",
    "val tB: B = (task { cB }).join\n",
    "val tA: A = cA\n",
    "(tA, tB.join)\n",
    "}\n",
    "```"
   ]
  },
  {
   "cell_type": "markdown",
   "metadata": {},
   "source": [
    "Although, above defintion compiles it does not the benefit of parallel computation in as task `tB` completed (immediatly called join) before task `tA`."
   ]
  },
  {
   "cell_type": "markdown",
   "metadata": {},
   "source": [
    "# How fast are parallel programs?\n"
   ]
  },
  {
   "cell_type": "markdown",
   "metadata": {},
   "source": [
    "**Performance**: a key motivation for parallelism\n",
    "\n",
    "How to estimate it?\n",
    "\n",
    "* empirical measurement\n",
    "* asymptotic analysis\n",
    "Asymptotic analysis is important to understand how algorithms scale when:\n",
    "* inputs get larger\n",
    "* we have more hardware parallelism available\n",
    "\n",
    "\n",
    "We examine worst-case (as opposed to average) bounds"
   ]
  },
  {
   "cell_type": "markdown",
   "metadata": {},
   "source": [
    "You have previously learned how to concisely characterize behavior of\n",
    "sequential programs using the number of operations they perform as a\n",
    "function of arguments.\n",
    "\n",
    "\n",
    "* inserting into an integer into a sorted linear list takes time $\\mathcal{O}(n)$, for list storing $n$ integers\n",
    "* inserting into an integer into a balanced binary tree of $n$ integers takes time $\\mathcal{O}(log n)$, for tree storing $n$ integers.\n",
    "\n",
    "\n",
    "Let us review these techniques by applying them to our sum segment\n",
    "example"
   ]
  },
  {
   "cell_type": "code",
   "execution_count": null,
   "metadata": {},
   "outputs": [],
   "source": []
  }
 ],
 "metadata": {
  "kernelspec": {
   "display_name": "Scala",
   "language": "scala",
   "name": "scala"
  },
  "language_info": {
   "codemirror_mode": "text/x-scala",
   "file_extension": ".sc",
   "mimetype": "text/x-scala",
   "name": "scala",
   "nbconvert_exporter": "script",
   "version": "2.13.3"
  }
 },
 "nbformat": 4,
 "nbformat_minor": 4
}
