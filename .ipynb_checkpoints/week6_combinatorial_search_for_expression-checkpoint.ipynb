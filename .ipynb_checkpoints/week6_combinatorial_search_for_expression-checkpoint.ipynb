{
 "cells": [
  {
   "cell_type": "markdown",
   "metadata": {},
   "source": [
    "# Combinatorial Search and For-Expressions\n",
    "\n",
    "Given a positive integer $n$ find all pairs of positive integers $i$ and $j$ with $i \\leq j < i < n $ such that $i+j$ is prime."
   ]
  },
  {
   "cell_type": "markdown",
   "metadata": {},
   "source": [
    "## Algorithm \n",
    "\n",
    "A natural way to do this is to:\n",
    "\n",
    " * Generate the sequence of pair of integers $(i,j)$ such that $i \\leq j < i < n $.\n",
    " * Filter the pairs for which $i+j$ is prime.\n",
    "\n",
    "One way to generate the natural sequence of pairs\n",
    "\n",
    "* Generate all the integers between $1$ and $n$ (excluded).\n",
    "* For each integer $i$, we generate the list of pairs $(i,1), \\dots, (i, i-1)$\n",
    "\n",
    "It can be achieved by combining `map` and `until`\n",
    "\n",
    "```scala\n",
    "(1 until n) map (i => (1 until i) map (j => (i, j)))\n",
    "```"
   ]
  },
  {
   "cell_type": "code",
   "execution_count": 4,
   "metadata": {},
   "outputs": [
    {
     "data": {
      "text/plain": [
       "n: Int = 6\r\n"
      ]
     },
     "execution_count": 4,
     "metadata": {},
     "output_type": "execute_result"
    }
   ],
   "source": [
    "val n = 6"
   ]
  },
  {
   "cell_type": "code",
   "execution_count": 5,
   "metadata": {},
   "outputs": [
    {
     "data": {
      "text/plain": [
       "res1: scala.collection.immutable.IndexedSeq[scala.collection.immutable.IndexedSeq[(Int, Int)]] = Vector(Vector(), Vector((2,1)), Vector((3,1), (3,2)), Vector((4,1), (4,2), (4,3)), Vector((5,1), (5,2), (5,3), (5,4)))\r\n"
      ]
     },
     "execution_count": 5,
     "metadata": {},
     "output_type": "execute_result"
    }
   ],
   "source": [
    "(1 until n) map (i => (1 until i) map (j => (i, j)))"
   ]
  },
  {
   "cell_type": "markdown",
   "metadata": {},
   "source": []
  }
 ],
 "metadata": {
  "kernelspec": {
   "display_name": "spylon-kernel",
   "language": "scala",
   "name": "spylon-kernel"
  },
  "language_info": {
   "codemirror_mode": "text/x-scala",
   "file_extension": ".scala",
   "help_links": [
    {
     "text": "MetaKernel Magics",
     "url": "https://metakernel.readthedocs.io/en/latest/source/README.html"
    }
   ],
   "mimetype": "text/x-scala",
   "name": "scala",
   "pygments_lexer": "scala",
   "version": "0.4.1"
  }
 },
 "nbformat": 4,
 "nbformat_minor": 4
}
